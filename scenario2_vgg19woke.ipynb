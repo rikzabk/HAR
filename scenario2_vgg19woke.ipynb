{
 "cells": [
  {
   "cell_type": "markdown",
   "metadata": {},
   "source": [
    "# Scenario 2: VGG19 without Keyframe Extraction"
   ]
  },
  {
   "cell_type": "markdown",
   "metadata": {},
   "source": [
    "## Functions"
   ]
  },
  {
   "cell_type": "code",
   "execution_count": 1,
   "metadata": {},
   "outputs": [],
   "source": [
    "# Import Required Libraries\n",
    "\n",
    "# General Libraries\n",
    "import os\n",
    "import cv2\n",
    "import time\n",
    "import shutil\n",
    "import itertools\n",
    "import tensorflow\n",
    "import numpy as np\n",
    "import pandas as pd\n",
    "import matplotlib.pyplot as plt\n",
    "from tqdm import tqdm\n",
    "from tabulate import tabulate\n",
    "\n",
    "# Data Preprocessing Libraries\n",
    "from sklearn.model_selection import train_test_split\n",
    "from keras.preprocessing.image import ImageDataGenerator\n",
    "\n",
    "# Adam Optimizer Libraries\n",
    "from keras.optimizers.legacy import Adam # for Apple Silicon\n",
    "# from keras.optimizers import Adam # for Windows\n",
    "\n",
    "# VGG19 Libraries\n",
    "from keras.utils import plot_model\n",
    "from keras.layers import Dense, Flatten\n",
    "from keras.models import Model, load_model\n",
    "from keras.applications.vgg19 import VGG19\n",
    "from keras.callbacks import EarlyStopping, ModelCheckpoint\n",
    "\n",
    "# Evaluation Libraries\n",
    "from sklearn.metrics import confusion_matrix, classification_report, accuracy_score, precision_score, recall_score, f1_score"
   ]
  },
  {
   "cell_type": "code",
   "execution_count": 2,
   "metadata": {},
   "outputs": [],
   "source": [
    "# Data Information Function\n",
    "def data_information(dataframe, file_output_path, filename):\n",
    "    file_type = dataframe.columns[1].split()[0]\n",
    "\n",
    "    # Check if folder exists\n",
    "    if not os.path.exists(file_output_path):\n",
    "        os.makedirs(file_output_path)\n",
    "\n",
    "    # Writing the data information to a text file\n",
    "    with open(os.path.join(file_output_path, f\"data_information_{filename}.txt\"), 'w') as f:\n",
    "        f.write(\"*\"*50)\n",
    "        f.write(\"\\n\")\n",
    "        f.write(\"*\"*50)\n",
    "        f.write(\"\\n\")\n",
    "        f.write(\"DATA INFORMATION\".center(50))\n",
    "        f.write(\"\\n\")\n",
    "        f.write(\"*\"*50)\n",
    "        f.write(\"\\n\")\n",
    "        f.write(f\"Number of Labels : {dataframe['Label Type'].nunique()} Labels\")\n",
    "        f.write(\"\\n\")\n",
    "        f.write(f\"Number of {file_type}s : {len(dataframe)} {file_type}s\")\n",
    "        f.write(\"\\n\")\n",
    "        f.write(\"*\"*50)\n",
    "        f.write(\"\\n\")\n",
    "        for i in dataframe['Label Type'].value_counts().index:\n",
    "            f.write(f\"{i.ljust(20)} : {dataframe['Label Type'].value_counts()[i]} {file_type}s\")\n",
    "            f.write(\"\\n\")\n",
    "        f.write(\"*\"*50)\n",
    "        f.write(\"\\n\")\n",
    "        f.write(\"*\"*50)\n",
    "    \n",
    "    # save dataframe to csv\n",
    "    dataframe.to_csv(os.path.join(file_output_path, f\"dataframe_{filename}.csv\"), index=False)\n",
    "    \n",
    "    # showing the data information\n",
    "    with open(os.path.join(file_output_path, f\"data_information_{filename}.txt\"), 'r') as f:\n",
    "        print(f.read())"
   ]
  },
  {
   "cell_type": "code",
   "execution_count": 3,
   "metadata": {},
   "outputs": [],
   "source": [
    "# Data Initialization Function\n",
    "def data_initialization(dataset_path, file_output_path):\n",
    "    # get the list of all the label types\n",
    "    label_type = [item for item in os.listdir(dataset_path) if not item.startswith('.')]\n",
    "    \n",
    "    # get the list of all the videos\n",
    "    activities = []\n",
    "    for label in label_type:\n",
    "        all_items = os.listdir(os.path.join(dataset_path, label))\n",
    "        for item in all_items:\n",
    "            if item.startswith('.'):\n",
    "                continue\n",
    "            else:\n",
    "                videos = os.listdir(os.path.join(dataset_path, label, item))\n",
    "            for video in videos:\n",
    "                if video.endswith('.mp4'):      # can be changed to any other video format\n",
    "                    activities.append((label, os.path.join(dataset_path, label, item, video)))\n",
    "    \n",
    "    # create a dataframe\n",
    "    df = pd.DataFrame(activities, columns=['Label Type', 'Video Path'])\n",
    "\n",
    "    # print data information\n",
    "    data_information(dataframe=df, file_output_path=file_output_path, filename=\"data_initialization\")\n",
    "\n",
    "    return df"
   ]
  },
  {
   "cell_type": "code",
   "execution_count": 4,
   "metadata": {},
   "outputs": [],
   "source": [
    "# Video to Image Conversion Function\n",
    "def convert_videos_to_images(dataframe, extracted_frames_output_folder):\n",
    "    # start time\n",
    "    start_time = time.time()\n",
    "\n",
    "    # print initial message\n",
    "    print(f\"Converting {len(dataframe)} videos to images...\")\n",
    "\n",
    "    # Loop through the video paths\n",
    "    for i, path in enumerate(tqdm(dataframe['Video Path'], desc=\"Converting Videos to Images\", colour='green', unit='videos')):\n",
    "        # Open the video file\n",
    "        video = cv2.VideoCapture(path)\n",
    "\n",
    "        # Output folder\n",
    "        output_folder = os.path.join(extracted_frames_output_folder, dataframe.iloc[i]['Label Type'])\n",
    "\n",
    "        # Create the output folder if it doesn't exist\n",
    "        os.makedirs(output_folder, exist_ok=True)\n",
    "        \n",
    "        # Get the video name without extension\n",
    "        video_name = os.path.splitext(os.path.basename(path))[0]\n",
    "        \n",
    "        # Read frames from the video and save them as images\n",
    "        frame_count = 0\n",
    "        while True:\n",
    "            # Read the next frame\n",
    "            ret, frame = video.read()\n",
    "            \n",
    "            # Break the loop if no more frames are available\n",
    "            if not ret:\n",
    "                break\n",
    "            \n",
    "            # Save the frame as an image with the same video name\n",
    "            image_path = os.path.join(output_folder, f\"{video_name}_frame_{frame_count}.jpeg\")\n",
    "            cv2.imwrite(image_path, frame)\n",
    "            \n",
    "            frame_count += 1\n",
    "        \n",
    "        # Release the video file\n",
    "        video.release()\n",
    "    \n",
    "    # end time\n",
    "    end_time = time.time()\n",
    "\n",
    "    # round the execution time to 2 decimal places\n",
    "    exec_time = end_time - start_time\n",
    "    exec_time = round(exec_time, 2)\n",
    "\n",
    "    # print final message\n",
    "    print(\"Videos converted to images successfully!\")\n",
    "    print(f\"Images extracted from {len(dataframe)} videos and saved in extractedFrames folder\")\n",
    "    print(f\"Time taken to convert videos to images : {exec_time} seconds\")\n",
    "\n",
    "    return exec_time"
   ]
  },
  {
   "cell_type": "code",
   "execution_count": 5,
   "metadata": {},
   "outputs": [],
   "source": [
    "# Data Initialization for Split Function\n",
    "def data_initialization_split(dataset_path, file_output_path):\n",
    "    # get the list of all the label types\n",
    "    label_type = [item for item in os.listdir(dataset_path) if not item.startswith('.')]\n",
    "    \n",
    "    # get the list of all the videos\n",
    "    activities = []\n",
    "    for label in label_type:\n",
    "        if label.startswith('.'):\n",
    "            continue\n",
    "        videos = os.listdir(os.path.join(dataset_path, label))\n",
    "        for video in videos:\n",
    "            if video.endswith('.jpeg'):     # can add or change the image format\n",
    "                activities.append((label, os.path.join(dataset_path, label, video)))\n",
    "    \n",
    "    # create a dataframe\n",
    "    df_extract = pd.DataFrame(activities, columns=['Label Type', 'Image Path'])\n",
    "\n",
    "    data_information(dataframe=df_extract, file_output_path=file_output_path, filename=\"data_initialization_split\")\n",
    "    \n",
    "    return df_extract"
   ]
  },
  {
   "cell_type": "code",
   "execution_count": 6,
   "metadata": {},
   "outputs": [],
   "source": [
    "# Copy Files Function\n",
    "def copy_files(train_dataframe, test_dataframe):\n",
    "    # load variables\n",
    "    dataframes = [train_dataframe, test_dataframe]\n",
    "    destination_folder = 'SplittedFrames/extractedFrames' # change the destination folder according to the need\n",
    "\n",
    "    for dataframe in dataframes:\n",
    "        # set the destination folder\n",
    "        if dataframe is train_dataframe:\n",
    "            destination = os.path.join(destination_folder, 'train')\n",
    "            current_dataframe = \"Train\"\n",
    "        else:\n",
    "            destination = os.path.join(destination_folder, 'test')\n",
    "            current_dataframe = \"Test\"\n",
    "        \n",
    "        # Iterate over each row in the dataframe and copy the file to the destination folder\n",
    "        for index, row in tqdm(\n",
    "            dataframe.iterrows(), \n",
    "            total=len(dataframe), \n",
    "            desc=f\"Copying splitted {current_dataframe} files          \", \n",
    "            unit=\"files\", \n",
    "            position=0, \n",
    "            leave=True, \n",
    "            colour=\"green\"):\n",
    "            # Get the source and destination paths\n",
    "            source_path = row['Image Path']\n",
    "            destination_subfolder = row['Label Type']\n",
    "            destination_path = os.path.join(destination, destination_subfolder, os.path.basename(source_path))\n",
    "\n",
    "            # Create the destination subfolder if it doesn't exist\n",
    "            os.makedirs(os.path.join(destination, destination_subfolder), exist_ok=True)\n",
    "\n",
    "            # Copy the file to the destination folder\n",
    "            shutil.copyfile(source_path, destination_path)"
   ]
  },
  {
   "cell_type": "code",
   "execution_count": 7,
   "metadata": {},
   "outputs": [],
   "source": [
    "# Copy Files Function with Grayscaling\n",
    "def copy_files_grayscaled(train_dataframe, test_dataframe):\n",
    "    # load variables\n",
    "    dataframes = [train_dataframe, test_dataframe]\n",
    "    destination_folder = 'SplittedFrames/extractedFrames_grayscaled' # change the destination folder according to the need\n",
    "\n",
    "    for dataframe in dataframes:\n",
    "        # set the destination folder\n",
    "        if dataframe is train_dataframe:\n",
    "            destination = os.path.join(destination_folder, 'train')\n",
    "            current_dataframe = \"Train\"\n",
    "        else:\n",
    "            destination = os.path.join(destination_folder, 'test')\n",
    "            current_dataframe = \"Test\"\n",
    "        \n",
    "        # Iterate over each row in the dataframe and copy the file to the destination folder\n",
    "        for index, row in tqdm(\n",
    "            dataframe.iterrows(), \n",
    "            total=len(dataframe), \n",
    "            desc=f\"Copying splitted grayscale {current_dataframe} files \", \n",
    "            unit=\"files\", \n",
    "            position=0, \n",
    "            leave=True, \n",
    "            colour=\"green\"):\n",
    "            # Get the source and destination paths\n",
    "            source_path = row['Image Path']\n",
    "            destination_subfolder = row['Label Type']\n",
    "            destination_path = os.path.join(destination, destination_subfolder, os.path.basename(source_path))\n",
    "\n",
    "            # Create the destination subfolder if it doesn't exist\n",
    "            os.makedirs(os.path.join(destination, destination_subfolder), exist_ok=True)\n",
    "\n",
    "            # Read the image\n",
    "            image = cv2.imread(source_path)\n",
    "\n",
    "            # Convert the image to grayscale\n",
    "            gray_image = cv2.cvtColor(image, cv2.COLOR_BGR2GRAY)\n",
    "\n",
    "            # Save the grayscale image to the destination folder\n",
    "            cv2.imwrite(destination_path, gray_image)"
   ]
  },
  {
   "cell_type": "markdown",
   "metadata": {},
   "source": [
    "should train and test set should grayscaled images?"
   ]
  },
  {
   "cell_type": "code",
   "execution_count": 8,
   "metadata": {},
   "outputs": [],
   "source": [
    "# Split Data Function\n",
    "def split_data(dataframe, test_size, file_output_path):\n",
    "    # print initial message\n",
    "    print(\"Splitting the data into train and test...\")\n",
    "\n",
    "    # Split the data into train and test\n",
    "    df_train, df_test = train_test_split(dataframe, test_size=test_size, random_state=42)\n",
    "\n",
    "    # save the dataframes to csv\n",
    "    df_train.to_csv(os.path.join(file_output_path, \"dataframe_dataset_train.csv\"), index=False)\n",
    "    df_test.to_csv(os.path.join(file_output_path, \"dataframe_dataset_test.csv\"), index=False)\n",
    "\n",
    "    # # copy files to the destination folder\n",
    "    # copy_files(train_dataframe=df_train, test_dataframe=df_test)\n",
    "    # copy_files_grayscaled(train_dataframe=df_train, test_dataframe=df_test)\n",
    "\n",
    "    # print final message\n",
    "    print(\"Data split successfully into train and test!\")\n",
    "\n",
    "    # print data information\n",
    "    print(\"\\n\")\n",
    "    print(f\"Total image in train set    : {len(df_train)} images\")\n",
    "    print(f\"Total image in test set     : {len(df_test)} images\")\n",
    "\n",
    "    return df_train, df_test"
   ]
  },
  {
   "cell_type": "code",
   "execution_count": 9,
   "metadata": {},
   "outputs": [],
   "source": [
    "# Data Augmentation Function\n",
    "def data_augmentation(img_width, img_height, batch_size):\n",
    "    # Splitted data directories\n",
    "    train_dir = 'SplittedFrames/extractedFrames_grayscaled/train'\n",
    "    test_dir = 'SplittedFrames/extractedFrames_grayscaled/test'\n",
    "\n",
    "    # Data augmentation for training\n",
    "    train_datagen = ImageDataGenerator(\n",
    "        rescale=1.0/255,\n",
    "        shear_range=0.2,\n",
    "        zoom_range=0.2,\n",
    "        validation_split=0.2,\n",
    "        horizontal_flip=True\n",
    "    )\n",
    "\n",
    "    # Data normalization for testing\n",
    "    test_datagen = ImageDataGenerator(\n",
    "        # rescale=1.0/255,\n",
    "        # shear_range=0.2,\n",
    "        # zoom_range=0.2,\n",
    "        # horizontal_flip=True\n",
    "    )\n",
    "\n",
    "    # Load training data\n",
    "    train_generator = train_datagen.flow_from_directory(\n",
    "        train_dir,\n",
    "        target_size=(img_width, img_height),\n",
    "        batch_size=batch_size,\n",
    "        class_mode='categorical',\n",
    "        subset='training', \n",
    "        shuffle=True\n",
    "    )\n",
    "\n",
    "    # Load validation data\n",
    "    val_generator = train_datagen.flow_from_directory(\n",
    "        train_dir,\n",
    "        target_size=(img_width, img_height),\n",
    "        batch_size=batch_size,\n",
    "        class_mode='categorical',\n",
    "        subset='validation', \n",
    "        shuffle=False\n",
    "    )\n",
    "\n",
    "    # Load testing data\n",
    "    test_generator = test_datagen.flow_from_directory(\n",
    "        test_dir,\n",
    "        target_size=(img_width, img_height),\n",
    "        batch_size=batch_size,\n",
    "        class_mode='categorical', \n",
    "        shuffle=False\n",
    "    )\n",
    "    \n",
    "    return train_generator, val_generator, test_generator"
   ]
  },
  {
   "cell_type": "code",
   "execution_count": 10,
   "metadata": {},
   "outputs": [],
   "source": [
    "# VGG19 Model\n",
    "def vgg19_model(learning_rate, train_generator, file_output_path):\n",
    "    # Variable\n",
    "    num_classes = train_generator.num_classes\n",
    "\n",
    "    # Create the VGG19 model\n",
    "    vgg_model = VGG19(weights='imagenet', include_top=False, input_shape=(224, 224, 3))\n",
    "\n",
    "    # Freeze the layers in the VGG19 model\n",
    "    for layer in vgg_model.layers[:-1]:\n",
    "        layer.trainable = False\n",
    "\n",
    "    # last layer\n",
    "    last_layer = vgg_model.layers[-1].output\n",
    "\n",
    "    # Output layer\n",
    "    model = Flatten()(last_layer)\n",
    "    model = Dense(4096, activation='relu', name='fc1')(model)\n",
    "    model = Dense(4096, activation='relu', name='fc2')(model)\n",
    "    model = Dense(num_classes, activation='softmax')(model)\n",
    "\n",
    "    final_model = Model(vgg_model.input, model, name='VGG19')\n",
    "\n",
    "    # Compile the model\n",
    "    final_model.compile(optimizer=Adam(learning_rate=learning_rate), loss='categorical_crossentropy', metrics=['accuracy'])\n",
    "\n",
    "    # callbacks\n",
    "    folder_name = file_output_path\n",
    "    if not os.path.exists(folder_name):\n",
    "        os.makedirs(folder_name)\n",
    "\n",
    "    model_checkpoint_filename = 'Scenario2_checkpoint_epoch_{epoch:02d}_val_loss_{val_loss:.2f}_val_accuracy_{val_accuracy:.2f}_loss_{loss:.2f}_accuracy_{accuracy:.2f}.h5'\n",
    "    model_checkpoint = ModelCheckpoint(os.path.join(folder_name, model_checkpoint_filename), monitor='val_accuracy', save_best_only=True, mode='max', verbose=1)\n",
    "    early_stopping = EarlyStopping(patience=5, monitor='val_accuracy', restore_best_weights=True)\n",
    "    \n",
    "    return final_model, model_checkpoint, early_stopping"
   ]
  },
  {
   "cell_type": "code",
   "execution_count": 11,
   "metadata": {},
   "outputs": [],
   "source": [
    "# Time Conversion Function\n",
    "def convert(seconds):\n",
    "    seconds = seconds % (24 * 3600)\n",
    "    hour = seconds // 3600\n",
    "    seconds %= 3600\n",
    "    minutes = seconds // 60\n",
    "    seconds %= 60\n",
    " \n",
    "    return \"%d:%02d:%02d\" % (hour, minutes, seconds)"
   ]
  },
  {
   "cell_type": "code",
   "execution_count": 12,
   "metadata": {},
   "outputs": [],
   "source": [
    "# Grid Search Print\n",
    "def gs_print(accuracy, learning_rate, model, execution_time, file_output_path):\n",
    "    # save cell output to a text file\n",
    "    with open(os.path.join(file_output_path, \"grid_search_output.txt\"), \"w\") as f:\n",
    "        print(\"*\"*65, file=f)\n",
    "        print(\"*\"*65, file=f)\n",
    "        print(\"GRID SEARCH RESULTS\".center(65), file=f)\n",
    "        print(\"*\"*65, file=f)\n",
    "        print(f\"Best Learning Rate              : {learning_rate}\", file=f)\n",
    "        print(f\"Best Accuracy                   : {accuracy}\", file=f)\n",
    "        execution_time = convert(execution_time)\n",
    "        print(f\"Best Execution Time (seconds)   : {execution_time}\", file=f)\n",
    "        print(f\"Best Execution Time (hh:mm:ss)  : {execution_time}\", file=f)\n",
    "        print(\"*\"*65, file=f)\n",
    "        print(\"Summary of the Best Model\".center(65), file=f)\n",
    "        model.summary(print_fn=lambda x: f.write(x + '\\n'))\n",
    "        print(\"*\"*65, file=f)\n",
    "    \n",
    "    with open(os.path.join(file_output_path, \"grid_search_output.txt\"), \"r\") as f:\n",
    "        print(f.read())\n",
    "\n",
    "    # Save model plot\n",
    "    plot_model(model, to_file=os.path.join(file_output_path, \"model_plot.png\"), show_shapes=True, show_layer_names=True)"
   ]
  },
  {
   "cell_type": "code",
   "execution_count": 13,
   "metadata": {},
   "outputs": [],
   "source": [
    "# Grid Search Function\n",
    "def grid_search(learning_rate, epochs, train_generator, val_generator, file_output_path):\n",
    "    \n",
    "    # all variables\n",
    "    best_accuracy = 0\n",
    "    best_val_accuracy = 0\n",
    "    best_learning_rate = 0\n",
    "    best_execution_time = 0\n",
    "    best_model = None\n",
    "\n",
    "    # Grid Search\n",
    "    for lr in learning_rate:\n",
    "        print(f\"Learning Rate: {lr}\")\n",
    "        model, model_checkpoint, early_stopping = vgg19_model(learning_rate=lr, train_generator=train_generator, file_output_path=file_output_path)\n",
    "\n",
    "        start_time = time.time()\n",
    "        history = model.fit(train_generator, validation_data=val_generator, steps_per_epoch=len(train_generator), validation_steps=len(val_generator), epochs=epochs, callbacks=[model_checkpoint, early_stopping], verbose=1)\n",
    "        end_time = time.time()\n",
    "        exec_time = end_time - start_time\n",
    "        exec_time = round(exec_time, 2)\n",
    "        print(f\"Time taken to train the {lr} model : {exec_time} seconds\")\n",
    "\n",
    "        # Save history to a file\n",
    "        history_df = pd.DataFrame(history.history)\n",
    "        history_df.to_csv(os.path.join(file_output_path, 'history.csv'), index=False)\n",
    "\n",
    "        accuracy = history.history['accuracy'][-1]\n",
    "        val_accuracy = history.history['val_accuracy'][-1]\n",
    "        if val_accuracy > best_val_accuracy:\n",
    "            best_accuracy = accuracy\n",
    "            best_val_accuracy = val_accuracy\n",
    "            best_learning_rate = lr\n",
    "            best_model = model\n",
    "            best_execution_time = exec_time\n",
    "\n",
    "    # Save the best_model\n",
    "    best_model.save(os.path.join(file_output_path, 'best_model.h5'))\n",
    "    \n",
    "    return best_accuracy, best_learning_rate, best_model, best_execution_time"
   ]
  },
  {
   "cell_type": "code",
   "execution_count": 14,
   "metadata": {},
   "outputs": [],
   "source": [
    "# Save the Model Plot Function\n",
    "def save_plot_model(file_output_path):\n",
    "    # history\n",
    "    history = pd.read_csv(os.path.join(file_output_path, 'history.csv'))\n",
    "\n",
    "    # plot the accuracy and loss of the model side by side\n",
    "    plt.figure(figsize=(12, 6))\n",
    "\n",
    "    # plot the accuracy\n",
    "    plt.subplot(1, 2, 1)\n",
    "    plt.plot(history['accuracy'])\n",
    "    plt.plot(history['val_accuracy'])\n",
    "    plt.title('Model Accuracy')\n",
    "    plt.ylabel('Accuracy')\n",
    "    plt.xlabel('Epoch')\n",
    "    plt.legend(['Train', 'Validation'], loc='upper left')\n",
    "\n",
    "    # plot the loss\n",
    "    plt.subplot(1, 2, 2)\n",
    "    plt.plot(history['loss'])\n",
    "    plt.plot(history['val_loss'])\n",
    "    plt.title('Model Loss')\n",
    "    plt.ylabel('Loss')\n",
    "    plt.xlabel('Epoch')\n",
    "    plt.legend(['Train', 'Validation'], loc='upper left')\n",
    "\n",
    "    # save the plot\n",
    "    plt.savefig(os.path.join(file_output_path, 'model_accuracy_loss.png'))\n",
    "    plt.show()"
   ]
  },
  {
   "cell_type": "code",
   "execution_count": 15,
   "metadata": {},
   "outputs": [],
   "source": [
    "# Evaluate Model Function\n",
    "def evaluate_model(test_generator, file_output_path):\n",
    "    # load the best model\n",
    "    model = load_model(os.path.join(file_output_path, 'best_model.h5'))\n",
    "\n",
    "    # evaluate the model\n",
    "    test_loss, test_accuracy = model.evaluate(test_generator, steps=len(test_generator), verbose=1)\n",
    "\n",
    "    # save the evaluation results csv\n",
    "    evaluation_results = pd.DataFrame({'Test Loss': [test_loss], 'Test Accuracy': [test_accuracy]})\n",
    "    evaluation_results.to_csv(os.path.join(file_output_path, 'model_evaluation_results.csv'), index=False)\n",
    "\n",
    "    # show the evaluation results csv\n",
    "    print(\"\\n\")\n",
    "    print(\"*\"*75)\n",
    "    print(tabulate(evaluation_results, headers='keys', tablefmt='pretty'))\n",
    "    print(f\"Model evaluation results saved in {file_output_path} as model_evaluation_results.csv\")"
   ]
  },
  {
   "cell_type": "code",
   "execution_count": 16,
   "metadata": {},
   "outputs": [],
   "source": [
    "# Predict Model Function\n",
    "def predict_model(test_generator, file_output_path):\n",
    "    \"\"\"\n",
    "    Predicts the classes for the given test data using a trained model and saves the predictions, evaluation results,\n",
    "    confusion matrix, and classification report to CSV files.\n",
    "\n",
    "    Args:\n",
    "        test_generator (object): The test data generator.\n",
    "        file_output_path (str): The path to save the output files.\n",
    "\n",
    "    Returns:\n",
    "        None\n",
    "    \"\"\"\n",
    "    # model predictions\n",
    "    # load the model\n",
    "    model = load_model(os.path.join(file_output_path, 'best_model.h5'))\n",
    "    test_dir = 'SplittedFrames/extractedKeyframes_grayscaled/test'\n",
    "\n",
    "    actual_classes = []\n",
    "    predicted_classes = []\n",
    "    predicted_probabilities = []\n",
    "\n",
    "\n",
    "\n",
    "    # Get the total number of files\n",
    "    total_files = sum(len(files) for _, _, files in os.walk('SplittedFrames/extractedKeyframes_grayscaled/test'))\n",
    "\n",
    "    # Create a progress bar\n",
    "    progress_bar = tqdm(total=total_files, desc='Loading')\n",
    "\n",
    "    for folder in os.listdir(test_dir):\n",
    "        if folder.startswith('.'):\n",
    "            continue\n",
    "        for file in os.listdir(os.path.join(test_dir, folder)):\n",
    "            if file.startswith('.'):\n",
    "                continue\n",
    "            actual_classes.append(test_generator.class_indices[folder])\n",
    "\n",
    "            img = cv2.imread(os.path.join(test_dir, folder, file))\n",
    "            img = cv2.resize(img, (224, 224))\n",
    "            img_normalized = img / 255.0\n",
    "            img_array = np.array([img_normalized])\n",
    "\n",
    "            pred = model.predict(img_array, verbose=0)\n",
    "            predicted_probabilities.append(np.array(pred))\n",
    "            predictions = np.argmax(pred)\n",
    "            predicted_classes.append(predictions)\n",
    "            \n",
    "            # Update the progress bar\n",
    "            progress_bar.update(1)\n",
    "    \n",
    "    # Close the progress bar\n",
    "    progress_bar.close()\n",
    "\n",
    "    # get the class labels\n",
    "    class_labels = list(test_generator.class_indices.keys())\n",
    "\n",
    "\n",
    "    \n",
    "    # model predictions evaluation\n",
    "    # confusion matrix\n",
    "    cm = confusion_matrix(actual_classes, predicted_classes)\n",
    "\n",
    "    # classification report\n",
    "    cr = classification_report(actual_classes, predicted_classes, target_names=class_labels)\n",
    "    \n",
    "    # accuracy\n",
    "    accuracy = accuracy_score(actual_classes, predicted_classes)\n",
    "\n",
    "    # precision\n",
    "    precision = precision_score(actual_classes, predicted_classes, average='weighted')\n",
    "\n",
    "    # recall\n",
    "    recall = recall_score(actual_classes, predicted_classes, average='weighted')\n",
    "\n",
    "    # f1-score\n",
    "    f1 = f1_score(actual_classes, predicted_classes, average='weighted')\n",
    "\n",
    "\n",
    "    \n",
    "    # print the confusion matrix and classification report\n",
    "    print(\"\\n\")\n",
    "    print(\"*\"*75)\n",
    "    print(\"Confusion Matrix\".center(75))\n",
    "    print(cm)\n",
    "    print(\"*\"*75)\n",
    "    print(\"Classification Report\".center(75))\n",
    "    print(cr)\n",
    "    print(\"*\"*75)\n",
    "    \n",
    "    # plot confusion matrix\n",
    "    plt.figure(figsize=(10, 10))\n",
    "    plt.imshow(cm, interpolation='nearest', cmap=plt.cm.Blues)\n",
    "    plt.title('Confusion Matrix')\n",
    "    plt.colorbar()\n",
    "    tick_marks = np.arange(len(class_labels))\n",
    "    plt.xticks(tick_marks, class_labels, rotation=45)\n",
    "    plt.yticks(tick_marks, class_labels)\n",
    "\n",
    "    fmt = 'd'\n",
    "    thresh = cm.max() / 2.\n",
    "    for i, j in itertools.product(range(cm.shape[0]), range(cm.shape[1])):\n",
    "        plt.text(j, i, format(cm[i, j], fmt), horizontalalignment=\"center\", color=\"white\" if cm[i, j] > thresh else \"black\")\n",
    "\n",
    "    plt.ylabel('True label')\n",
    "    plt.xlabel('Predicted label')\n",
    "    plt.tight_layout()\n",
    "    plt.savefig(os.path.join(file_output_path, 'confusion_matrix.png'))\n",
    "\n",
    "    \n",
    "    # save the evaluation results\n",
    "    print(\"\\n\")\n",
    "    print(\"*\"*75) \n",
    "    # save the model predictions to a csv\n",
    "    predicted_probabilities = np.array(predicted_probabilities)\n",
    "    predicted_probabilities = np.squeeze(predicted_probabilities, axis=1)\n",
    "    predictions_df = pd.DataFrame(predicted_probabilities, columns=class_labels)\n",
    "    predictions_df['Actual Class'] = actual_classes\n",
    "    predictions_df['Predicted Class'] = predicted_classes\n",
    "    predictions_df.to_csv(os.path.join(file_output_path, 'model_predictions.csv'), index=False)\n",
    "    print(f\"Model predictions saved in {file_output_path} as model_predictions.csv\")\n",
    "\n",
    "    # save the predictions evaluation results to a csv\n",
    "    predictions_evaluation_results = pd.DataFrame({'Accuracy': [accuracy], 'Precision': [precision], 'Recall': [recall], 'F1-Score': [f1]})\n",
    "    predictions_evaluation_results.to_csv(os.path.join(file_output_path, 'model_predictions_evaluation_results.csv'), index=False)\n",
    "    print(f\"Model predictions evaluation results saved in {file_output_path} as model_predictions_evaluation_results.csv\")\n",
    "    \n",
    "    # save the confusion matrix to a csv\n",
    "    cm_df = pd.DataFrame(cm, columns=class_labels, index=class_labels)\n",
    "    cm_df.to_csv(os.path.join(file_output_path, 'confusion_matrix.csv'))\n",
    "    print(\"Confusion matrix saved in {file_output_path} as confusion_matrix.csv\")\n",
    "\n",
    "    # save the classification report to a csv\n",
    "    cr = classification_report(actual_classes, predicted_classes, target_names=class_labels, output_dict=True)\n",
    "    cr_df = pd.DataFrame(cr).transpose()\n",
    "    cr_df.to_csv(os.path.join(file_output_path, 'classification_report.csv'))\n",
    "    print(\"Classification report saved in {file_output_path} as classification_report.csv\")"
   ]
  },
  {
   "cell_type": "code",
   "execution_count": 17,
   "metadata": {
    "metadata": {}
   },
   "outputs": [
    {
     "name": "stdout",
     "output_type": "stream",
     "text": [
      "****************** PRIORITIZING MEMORY GPU FOR PROCESSING *****************\n",
      "GPU is available\n",
      "1 Physical GPUs, 1 Logical GPUs\n",
      "***************************************************************************\n",
      "Num GPUs Available:  1\n",
      "***************************************************************************\n",
      "tf.Tensor(\n",
      "[[22. 28.]\n",
      " [49. 64.]], shape=(2, 2), dtype=float32)\n",
      "***************************************************************************\n",
      "[PhysicalDevice(name='/physical_device:GPU:0', device_type='GPU')]\n",
      "***************************************************************************\n",
      "1 Physical GPUs, 1 Logical GPU\n"
     ]
    },
    {
     "name": "stderr",
     "output_type": "stream",
     "text": [
      "2024-05-03 17:26:55.656261: I metal_plugin/src/device/metal_device.cc:1154] Metal device set to: Apple M1\n",
      "2024-05-03 17:26:55.656444: I metal_plugin/src/device/metal_device.cc:296] systemMemory: 8.00 GB\n",
      "2024-05-03 17:26:55.656457: I metal_plugin/src/device/metal_device.cc:313] maxCacheSize: 2.67 GB\n",
      "2024-05-03 17:26:55.656740: I tensorflow/core/common_runtime/pluggable_device/pluggable_device_factory.cc:303] Could not identify NUMA node of platform GPU ID 0, defaulting to 0. Your kernel may not have been built with NUMA support.\n",
      "2024-05-03 17:26:55.657537: I tensorflow/core/common_runtime/pluggable_device/pluggable_device_factory.cc:269] Created TensorFlow device (/job:localhost/replica:0/task:0/device:GPU:0 with 0 MB memory) -> physical PluggableDevice (device: 0, name: METAL, pci bus id: <undefined>)\n"
     ]
    }
   ],
   "source": [
    "# Prioritizing memory GPU for processing (IMPORTANT)\n",
    "print(\" Prioritizing memory GPU for processing \".upper().center(75, \"*\"))\n",
    "\n",
    "gpus = tensorflow.config.list_physical_devices('GPU')\n",
    "if gpus:\n",
    "  print(\"GPU is available\")\n",
    "  try:\n",
    "    # Currently, memory growth needs to be the same across GPUs\n",
    "    for gpu in gpus:\n",
    "      tensorflow.config.experimental.set_memory_growth(gpu, True)\n",
    "    logical_gpus = tensorflow.config.list_logical_devices('GPU')\n",
    "    print(len(gpus), \"Physical GPUs,\", len(logical_gpus), \"Logical GPUs\")\n",
    "  except RuntimeError as e:\n",
    "    # Memory growth must be set before GPUs have been initialized\n",
    "    print(e)\n",
    "\n",
    "print(\"*\"*75)\n",
    "\n",
    "print(\"Num GPUs Available: \", len(tensorflow.config.list_physical_devices('GPU')))\n",
    "\n",
    "# tensorflow.debugging.set_log_device_placement(True)  # log device placement\n",
    "\n",
    "print(\"*\"*75)\n",
    "\n",
    "# Place tensors on the CPU\n",
    "with tensorflow.device('/GPU:0'):\n",
    "  a = tensorflow.constant([[1.0, 2.0, 3.0], [4.0, 5.0, 6.0]])\n",
    "  b = tensorflow.constant([[1.0, 2.0], [3.0, 4.0], [5.0, 6.0]])\n",
    "\n",
    "# Run on the GPU\n",
    "c = tensorflow.matmul(a, b)\n",
    "print(c)\n",
    "\n",
    "print(\"*\"*75)\n",
    "\n",
    "# change processing to GPU\n",
    "print(tensorflow.config.list_physical_devices('GPU'))\n",
    "\n",
    "print(\"*\"*75)\n",
    "\n",
    "# select GPU\n",
    "gpus = tensorflow.config.list_physical_devices('GPU')\n",
    "if gpus:\n",
    "  # Restrict TensorFlow to only use the first GPU\n",
    "  try:\n",
    "    tensorflow.config.set_visible_devices(gpus[0], 'GPU')\n",
    "    logical_gpus = tensorflow.config.list_logical_devices('GPU')\n",
    "    print(len(gpus), \"Physical GPUs,\", len(logical_gpus), \"Logical GPU\")\n",
    "  except RuntimeError as e:\n",
    "    # Visible devices must be set before GPUs have been initialized\n",
    "    print(e)"
   ]
  },
  {
   "cell_type": "markdown",
   "metadata": {},
   "source": [
    "## Main Codes"
   ]
  },
  {
   "cell_type": "code",
   "execution_count": 18,
   "metadata": {
    "metadata": {}
   },
   "outputs": [],
   "source": [
    "# Set Variables\n",
    "dataset_path = 'Dataset/UCF11_updated_mpg/'\n",
    "extracted_keyframes = 'Frames/extractedFrames/'\n",
    "file_output_path = 'Model/Scenario2/'"
   ]
  },
  {
   "cell_type": "code",
   "execution_count": 19,
   "metadata": {
    "metadata": {}
   },
   "outputs": [
    {
     "name": "stdout",
     "output_type": "stream",
     "text": [
      "**************************************************\n",
      "**************************************************\n",
      "                 DATA INFORMATION                 \n",
      "**************************************************\n",
      "Number of Labels : 11 Labels\n",
      "Number of Videos : 1600 Videos\n",
      "**************************************************\n",
      "horse_riding         : 198 Videos\n",
      "tennis_swing         : 167 Videos\n",
      "soccer_juggling      : 156 Videos\n",
      "diving               : 156 Videos\n",
      "biking               : 145 Videos\n",
      "golf_swing           : 142 Videos\n",
      "basketball           : 141 Videos\n",
      "swing                : 137 Videos\n",
      "walking              : 123 Videos\n",
      "trampoline_jumping   : 119 Videos\n",
      "volleyball_spiking   : 116 Videos\n",
      "**************************************************\n",
      "**************************************************\n"
     ]
    }
   ],
   "source": [
    "# Data initialization\n",
    "df_dataset = data_initialization(dataset_path=dataset_path, file_output_path=file_output_path)"
   ]
  },
  {
   "cell_type": "code",
   "execution_count": 20,
   "metadata": {
    "metadata": {}
   },
   "outputs": [
    {
     "name": "stdout",
     "output_type": "stream",
     "text": [
      "              Label Type                                         Video Path\n",
      "0     volleyball_spiking  Dataset/UCF11_updated_mpg/volleyball_spiking/v...\n",
      "1     volleyball_spiking  Dataset/UCF11_updated_mpg/volleyball_spiking/v...\n",
      "2     volleyball_spiking  Dataset/UCF11_updated_mpg/volleyball_spiking/v...\n",
      "3     volleyball_spiking  Dataset/UCF11_updated_mpg/volleyball_spiking/v...\n",
      "4     volleyball_spiking  Dataset/UCF11_updated_mpg/volleyball_spiking/v...\n",
      "...                  ...                                                ...\n",
      "1595              diving  Dataset/UCF11_updated_mpg/diving/v_diving_08/v...\n",
      "1596              diving  Dataset/UCF11_updated_mpg/diving/v_diving_08/v...\n",
      "1597              diving  Dataset/UCF11_updated_mpg/diving/v_diving_08/v...\n",
      "1598              diving  Dataset/UCF11_updated_mpg/diving/v_diving_08/v...\n",
      "1599              diving  Dataset/UCF11_updated_mpg/diving/v_diving_08/v...\n",
      "\n",
      "[1600 rows x 2 columns]\n"
     ]
    }
   ],
   "source": [
    "# Show the dataset dataframe\n",
    "df_dataset = pd.read_csv(os.path.join(file_output_path, 'dataframe_data_initialization.csv'))\n",
    "print(df_dataset)"
   ]
  },
  {
   "cell_type": "code",
   "execution_count": 74,
   "metadata": {},
   "outputs": [
    {
     "name": "stdout",
     "output_type": "stream",
     "text": [
      "Converting 1600 videos to images...\n"
     ]
    },
    {
     "name": "stderr",
     "output_type": "stream",
     "text": [
      "Converting Videos to Images: 100%|\u001b[32m██████████\u001b[0m| 1600/1600 [02:29<00:00, 10.73videos/s]"
     ]
    },
    {
     "name": "stdout",
     "output_type": "stream",
     "text": [
      "Videos converted to images successfully!\n",
      "Images extracted from 1600 videos and saved in extractedFrames folder\n",
      "Time taken to convert videos to images : 149.11 seconds\n"
     ]
    },
    {
     "name": "stderr",
     "output_type": "stream",
     "text": [
      "\n"
     ]
    }
   ],
   "source": [
    "# # Skip frame extraction if already done\n",
    "# # Frame extraction\n",
    "# frames_extraction_execution_time = convert_videos_to_images(dataframe=df_dataset, extracted_frames_output_folder=extracted_keyframes)"
   ]
  },
  {
   "cell_type": "code",
   "execution_count": 79,
   "metadata": {},
   "outputs": [
    {
     "name": "stdout",
     "output_type": "stream",
     "text": [
      "+-----------+---------+\n",
      "| Execution | Seconds |\n",
      "+-----------+---------+\n",
      "| Scenario2 | 149.11  |\n",
      "+-----------+---------+\n"
     ]
    }
   ],
   "source": [
    "# # Skip frame extraction if already done\n",
    "# # Print the frame extraction execution time\n",
    "# with open(os.path.join(file_output_path, 'extraction_execution_time.txt'), 'w') as f:\n",
    "#     f.write(str(frames_extraction_execution_time))\n",
    "\n",
    "# with open (os.path.join(file_output_path, 'extraction_execution_time.txt'), 'r') as f:\n",
    "#     print(tabulate([['Scenario2', f.read()]], headers=['Execution', 'Seconds'], tablefmt='pretty'))"
   ]
  },
  {
   "cell_type": "code",
   "execution_count": 21,
   "metadata": {
    "metadata": {}
   },
   "outputs": [
    {
     "name": "stdout",
     "output_type": "stream",
     "text": [
      "**************************************************\n",
      "**************************************************\n",
      "                 DATA INFORMATION                 \n",
      "**************************************************\n",
      "Number of Labels : 11 Labels\n",
      "Number of Images : 306061 Images\n",
      "**************************************************\n",
      "soccer_juggling      : 45737 Images\n",
      "horse_riding         : 38974 Images\n",
      "biking               : 32863 Images\n",
      "walking              : 27728 Images\n",
      "swing                : 27672 Images\n",
      "diving               : 26740 Images\n",
      "tennis_swing         : 26574 Images\n",
      "trampoline_jumping   : 24017 Images\n",
      "golf_swing           : 23673 Images\n",
      "basketball           : 19231 Images\n",
      "volleyball_spiking   : 12852 Images\n",
      "**************************************************\n",
      "**************************************************\n"
     ]
    }
   ],
   "source": [
    "# Data initialization for splitting the dataset\n",
    "df_dataset_extracted  = data_initialization_split(dataset_path=extracted_keyframes, file_output_path=file_output_path)"
   ]
  },
  {
   "cell_type": "code",
   "execution_count": 22,
   "metadata": {
    "metadata": {}
   },
   "outputs": [
    {
     "name": "stdout",
     "output_type": "stream",
     "text": [
      "                Label Type                                         Image Path\n",
      "0       volleyball_spiking  Frames/extractedFrames/volleyball_spiking/v_sp...\n",
      "1       volleyball_spiking  Frames/extractedFrames/volleyball_spiking/v_sp...\n",
      "2       volleyball_spiking  Frames/extractedFrames/volleyball_spiking/v_sp...\n",
      "3       volleyball_spiking  Frames/extractedFrames/volleyball_spiking/v_sp...\n",
      "4       volleyball_spiking  Frames/extractedFrames/volleyball_spiking/v_sp...\n",
      "...                    ...                                                ...\n",
      "306056              diving  Frames/extractedFrames/diving/v_diving_20_07_f...\n",
      "306057              diving  Frames/extractedFrames/diving/v_diving_25_02_f...\n",
      "306058              diving  Frames/extractedFrames/diving/v_diving_19_01_f...\n",
      "306059              diving  Frames/extractedFrames/diving/v_diving_12_04_f...\n",
      "306060              diving  Frames/extractedFrames/diving/v_diving_11_01_f...\n",
      "\n",
      "[306061 rows x 2 columns]\n"
     ]
    }
   ],
   "source": [
    "# show dataframe from csv\n",
    "df_datasplit = pd.read_csv(os.path.join(file_output_path, 'dataframe_data_initialization_split.csv'))\n",
    "print(df_datasplit)"
   ]
  },
  {
   "cell_type": "code",
   "execution_count": 78,
   "metadata": {},
   "outputs": [
    {
     "name": "stdout",
     "output_type": "stream",
     "text": [
      "Splitting the data into train and test...\n"
     ]
    },
    {
     "name": "stderr",
     "output_type": "stream",
     "text": [
      "Copying splitted Train files          : 100%|\u001b[32m██████████\u001b[0m| 244848/244848 [03:01<00:00, 1346.62files/s]\n",
      "Copying splitted Test files          : 100%|\u001b[32m██████████\u001b[0m| 61213/61213 [00:42<00:00, 1452.70files/s]\n",
      "Copying splitted grayscale Train files : 100%|\u001b[32m██████████\u001b[0m| 244848/244848 [05:55<00:00, 688.00files/s]\n",
      "Copying splitted grayscale Test files : 100%|\u001b[32m██████████\u001b[0m| 61213/61213 [01:23<00:00, 735.69files/s]\n"
     ]
    },
    {
     "name": "stdout",
     "output_type": "stream",
     "text": [
      "Data split successfully into train and test!\n",
      "\n",
      "\n",
      "Total image in train set    : 244848 images\n",
      "Total image in test set     : 61213 images\n"
     ]
    }
   ],
   "source": [
    "# # Skip data split if already done\n",
    "# # Split data\n",
    "\n",
    "# # variable\n",
    "# test_size = 0.2\n",
    "\n",
    "# # Split data into train and test\n",
    "# df_train, df_test = split_data(dataframe=df_datasplit, test_size=test_size, file_output_path=file_output_path)"
   ]
  },
  {
   "cell_type": "code",
   "execution_count": 23,
   "metadata": {
    "metadata": {}
   },
   "outputs": [
    {
     "name": "stdout",
     "output_type": "stream",
     "text": [
      "Found 195883 images belonging to 11 classes.\n",
      "Found 48965 images belonging to 11 classes.\n",
      "Found 61213 images belonging to 11 classes.\n"
     ]
    }
   ],
   "source": [
    "# Data Augmentation\n",
    "\n",
    "# Image size\n",
    "img_width, img_height = 224, 224\n",
    "\n",
    "# Batch size\n",
    "batch_size = 32\n",
    "\n",
    "# Load data\n",
    "train_generator, val_generator, test_generator = data_augmentation(img_width, img_height, batch_size)"
   ]
  },
  {
   "cell_type": "code",
   "execution_count": 24,
   "metadata": {
    "metadata": {}
   },
   "outputs": [
    {
     "name": "stdout",
     "output_type": "stream",
     "text": [
      "Learning Rate: 0.0001\n",
      "Epoch 1/100\n"
     ]
    },
    {
     "name": "stderr",
     "output_type": "stream",
     "text": [
      "2024-05-03 17:27:17.592336: I tensorflow/core/grappler/optimizers/custom_graph_optimizer_registry.cc:114] Plugin optimizer for device_type GPU is enabled.\n"
     ]
    },
    {
     "name": "stdout",
     "output_type": "stream",
     "text": [
      "6122/6122 [==============================] - ETA: 0s - loss: 0.2884 - accuracy: 0.9184"
     ]
    },
    {
     "name": "stderr",
     "output_type": "stream",
     "text": [
      "2024-05-03 19:28:19.899640: I tensorflow/core/grappler/optimizers/custom_graph_optimizer_registry.cc:114] Plugin optimizer for device_type GPU is enabled.\n"
     ]
    },
    {
     "name": "stdout",
     "output_type": "stream",
     "text": [
      "\n",
      "Epoch 1: val_accuracy improved from -inf to 0.66868, saving model to Model/Scenario2/Scenario2_checkpoint_epoch_01_val_loss_2.40_val_accuracy_0.67_loss_0.29_accuracy_0.92.h5\n"
     ]
    },
    {
     "name": "stderr",
     "output_type": "stream",
     "text": [
      "/Users/rikza/tensorflow-test/env/lib/python3.8/site-packages/keras/src/engine/training.py:3000: UserWarning: You are saving your model as an HDF5 file via `model.save()`. This file format is considered legacy. We recommend using instead the native Keras format, e.g. `model.save('my_model.keras')`.\n",
      "  saving_api.save_model(\n"
     ]
    },
    {
     "name": "stdout",
     "output_type": "stream",
     "text": [
      "6122/6122 [==============================] - 8741s 1s/step - loss: 0.2884 - accuracy: 0.9184 - val_loss: 2.3971 - val_accuracy: 0.6687\n",
      "Epoch 2/100\n",
      "6122/6122 [==============================] - ETA: 0s - loss: 0.2941 - accuracy: 0.9495\n",
      "Epoch 2: val_accuracy did not improve from 0.66868\n",
      "6122/6122 [==============================] - 7960s 1s/step - loss: 0.2941 - accuracy: 0.9495 - val_loss: 5.6707 - val_accuracy: 0.6453\n",
      "Epoch 3/100\n",
      "6122/6122 [==============================] - ETA: 0s - loss: 0.3448 - accuracy: 0.9594\n",
      "Epoch 3: val_accuracy did not improve from 0.66868\n",
      "6122/6122 [==============================] - 6994s 1s/step - loss: 0.3448 - accuracy: 0.9594 - val_loss: 12.2330 - val_accuracy: 0.5569\n",
      "Epoch 4/100\n",
      "6122/6122 [==============================] - ETA: 0s - loss: 0.4423 - accuracy: 0.9620\n",
      "Epoch 4: val_accuracy did not improve from 0.66868\n",
      "6122/6122 [==============================] - 6709s 1s/step - loss: 0.4423 - accuracy: 0.9620 - val_loss: 13.1288 - val_accuracy: 0.6370\n",
      "Epoch 5/100\n",
      "6122/6122 [==============================] - ETA: 0s - loss: 0.4991 - accuracy: 0.9650\n",
      "Epoch 5: val_accuracy did not improve from 0.66868\n",
      "6122/6122 [==============================] - 6852s 1s/step - loss: 0.4991 - accuracy: 0.9650 - val_loss: 19.0133 - val_accuracy: 0.6048\n",
      "Epoch 6/100\n",
      "6122/6122 [==============================] - ETA: 0s - loss: 0.6466 - accuracy: 0.9656\n",
      "Epoch 6: val_accuracy did not improve from 0.66868\n",
      "6122/6122 [==============================] - 6852s 1s/step - loss: 0.6466 - accuracy: 0.9656 - val_loss: 19.4689 - val_accuracy: 0.6622\n",
      "Time taken to train the 0.0001 model : 44107.67 seconds\n"
     ]
    }
   ],
   "source": [
    "# call the grid search function\n",
    "learning_rate = [0.0001]\n",
    "epochs = 100\n",
    "\n",
    "best_accuracy, best_learning_rate, best_model, best_execution_time = grid_search(learning_rate, epochs, train_generator, val_generator, file_output_path)"
   ]
  },
  {
   "cell_type": "code",
   "execution_count": 25,
   "metadata": {
    "metadata": {}
   },
   "outputs": [
    {
     "name": "stdout",
     "output_type": "stream",
     "text": [
      "*****************************************************************\n",
      "*****************************************************************\n",
      "                       GRID SEARCH RESULTS                       \n",
      "*****************************************************************\n",
      "Best Learning Rate              : 0.0001\n",
      "Best Accuracy                   : 0.9655610918998718\n",
      "Best Execution Time (seconds)   : 12:15:07\n",
      "Best Execution Time (hh:mm:ss)  : 12:15:07\n",
      "*****************************************************************\n",
      "                    Summary of the Best Model                    \n",
      "Model: \"VGG19\"\n",
      "_________________________________________________________________\n",
      " Layer (type)                Output Shape              Param #   \n",
      "=================================================================\n",
      " input_1 (InputLayer)        [(None, 224, 224, 3)]     0         \n",
      "                                                                 \n",
      " block1_conv1 (Conv2D)       (None, 224, 224, 64)      1792      \n",
      "                                                                 \n",
      " block1_conv2 (Conv2D)       (None, 224, 224, 64)      36928     \n",
      "                                                                 \n",
      " block1_pool (MaxPooling2D)  (None, 112, 112, 64)      0         \n",
      "                                                                 \n",
      " block2_conv1 (Conv2D)       (None, 112, 112, 128)     73856     \n",
      "                                                                 \n",
      " block2_conv2 (Conv2D)       (None, 112, 112, 128)     147584    \n",
      "                                                                 \n",
      " block2_pool (MaxPooling2D)  (None, 56, 56, 128)       0         \n",
      "                                                                 \n",
      " block3_conv1 (Conv2D)       (None, 56, 56, 256)       295168    \n",
      "                                                                 \n",
      " block3_conv2 (Conv2D)       (None, 56, 56, 256)       590080    \n",
      "                                                                 \n",
      " block3_conv3 (Conv2D)       (None, 56, 56, 256)       590080    \n",
      "                                                                 \n",
      " block3_conv4 (Conv2D)       (None, 56, 56, 256)       590080    \n",
      "                                                                 \n",
      " block3_pool (MaxPooling2D)  (None, 28, 28, 256)       0         \n",
      "                                                                 \n",
      " block4_conv1 (Conv2D)       (None, 28, 28, 512)       1180160   \n",
      "                                                                 \n",
      " block4_conv2 (Conv2D)       (None, 28, 28, 512)       2359808   \n",
      "                                                                 \n",
      " block4_conv3 (Conv2D)       (None, 28, 28, 512)       2359808   \n",
      "                                                                 \n",
      " block4_conv4 (Conv2D)       (None, 28, 28, 512)       2359808   \n",
      "                                                                 \n",
      " block4_pool (MaxPooling2D)  (None, 14, 14, 512)       0         \n",
      "                                                                 \n",
      " block5_conv1 (Conv2D)       (None, 14, 14, 512)       2359808   \n",
      "                                                                 \n",
      " block5_conv2 (Conv2D)       (None, 14, 14, 512)       2359808   \n",
      "                                                                 \n",
      " block5_conv3 (Conv2D)       (None, 14, 14, 512)       2359808   \n",
      "                                                                 \n",
      " block5_conv4 (Conv2D)       (None, 14, 14, 512)       2359808   \n",
      "                                                                 \n",
      " block5_pool (MaxPooling2D)  (None, 7, 7, 512)         0         \n",
      "                                                                 \n",
      " flatten (Flatten)           (None, 25088)             0         \n",
      "                                                                 \n",
      " fc1 (Dense)                 (None, 4096)              102764544 \n",
      "                                                                 \n",
      " fc2 (Dense)                 (None, 4096)              16781312  \n",
      "                                                                 \n",
      " dense (Dense)               (None, 11)                45067     \n",
      "                                                                 \n",
      "=================================================================\n",
      "Total params: 139615307 (532.59 MB)\n",
      "Trainable params: 119590923 (456.20 MB)\n",
      "Non-trainable params: 20024384 (76.39 MB)\n",
      "_________________________________________________________________\n",
      "*****************************************************************\n",
      "\n"
     ]
    }
   ],
   "source": [
    "# print grid search results\n",
    "gs_print(accuracy=best_accuracy, learning_rate=best_learning_rate, model=best_model, execution_time=best_execution_time, file_output_path=file_output_path)"
   ]
  },
  {
   "cell_type": "code",
   "execution_count": 26,
   "metadata": {
    "metadata": {}
   },
   "outputs": [
    {
     "data": {
      "image/png": "[encoded data removed]",
      "text/plain": [
       "<Figure size 1200x600 with 2 Axes>"
      ]
     },
     "metadata": {},
     "output_type": "display_data"
    }
   ],
   "source": [
    "# Save the Model Plot\n",
    "save_plot_model(file_output_path=file_output_path)"
   ]
  },
  {
   "cell_type": "code",
   "execution_count": 27,
   "metadata": {
    "metadata": {}
   },
   "outputs": [
    {
     "name": "stderr",
     "output_type": "stream",
     "text": [
      "2024-05-04 05:42:31.247564: I tensorflow/core/grappler/optimizers/custom_graph_optimizer_registry.cc:114] Plugin optimizer for device_type GPU is enabled.\n"
     ]
    },
    {
     "name": "stdout",
     "output_type": "stream",
     "text": [
      "1913/1913 [==============================] - 1544s 807ms/step - loss: 83.5258 - accuracy: 0.6467\n",
      "\n",
      "\n",
      "***************************************************************************\n",
      "+---+------------------+--------------------+\n",
      "|   |    Test Loss     |   Test Accuracy    |\n",
      "+---+------------------+--------------------+\n",
      "| 0 | 83.5257797241211 | 0.6466600298881531 |\n",
      "+---+------------------+--------------------+\n",
      "Model evaluation results saved in Model/Scenario2/ as model_evaluation_results.csv\n"
     ]
    }
   ],
   "source": [
    "# Evaluate the Model\n",
    "evaluate_model(test_generator=test_generator, file_output_path=file_output_path)"
   ]
  },
  {
   "cell_type": "code",
   "execution_count": 28,
   "metadata": {
    "metadata": {}
   },
   "outputs": [
    {
     "name": "stderr",
     "output_type": "stream",
     "text": [
      "Loading:   0%|          | 0/2911 [00:00<?, ?it/s]2024-05-04 06:08:19.309699: I tensorflow/core/grappler/optimizers/custom_graph_optimizer_registry.cc:114] Plugin optimizer for device_type GPU is enabled.\n",
      "Loading: 100%|█████████▉| 2910/2911 [02:58<00:00, 16.32it/s]\n"
     ]
    },
    {
     "name": "stdout",
     "output_type": "stream",
     "text": [
      "\n",
      "\n",
      "***************************************************************************\n",
      "                              Confusion Matrix                             \n",
      "[[153   0   1   0   1   4   0   0   1  27   0]\n",
      " [  0 233   3   5   4  26  10   2   2   6  15]\n",
      " [  0   0 252   0   0   0   0   0   0   1   0]\n",
      " [  0   0   0 235   1   6   0   0   3   1   0]\n",
      " [  0   0   2   2 335   8   1   0   0   6   0]\n",
      " [  0   1   0   1   4 447   2   6   0   3   4]\n",
      " [  0   0   0   1   0   7 191   0   5   3   0]\n",
      " [  0   0   0   0   2   0   0 251   0   0   0]\n",
      " [  0   0   5   0   1   3   2   0 216   0   1]\n",
      " [  0   0   1   0   0   0   0   0   0 119   0]\n",
      " [  1   0   3   4   5  19  11   0   0   3 242]]\n",
      "***************************************************************************\n",
      "                           Classification Report                           \n",
      "                    precision    recall  f1-score   support\n",
      "\n",
      "        basketball       0.99      0.82      0.90       187\n",
      "            biking       1.00      0.76      0.86       306\n",
      "            diving       0.94      1.00      0.97       253\n",
      "        golf_swing       0.95      0.96      0.95       246\n",
      "      horse_riding       0.95      0.95      0.95       354\n",
      "   soccer_juggling       0.86      0.96      0.90       468\n",
      "             swing       0.88      0.92      0.90       207\n",
      "      tennis_swing       0.97      0.99      0.98       253\n",
      "trampoline_jumping       0.95      0.95      0.95       228\n",
      "volleyball_spiking       0.70      0.99      0.82       120\n",
      "           walking       0.92      0.84      0.88       288\n",
      "\n",
      "          accuracy                           0.92      2910\n",
      "         macro avg       0.92      0.92      0.92      2910\n",
      "      weighted avg       0.93      0.92      0.92      2910\n",
      "\n",
      "***************************************************************************\n",
      "\n",
      "\n",
      "***************************************************************************\n",
      "Model predictions saved in Model/Scenario2/ as model_predictions.csv\n",
      "Model predictions evaluation results saved in Model/Scenario2/ as model_predictions_evaluation_results.csv\n",
      "Confusion matrix saved in {file_output_path} as confusion_matrix.csv\n",
      "Classification report saved in {file_output_path} as classification_report.csv\n"
     ]
    },
    {
     "data": {
      "image/png": "[encoded data removed]",
      "text/plain": [
       "<Figure size 1000x1000 with 2 Axes>"
      ]
     },
     "metadata": {},
     "output_type": "display_data"
    }
   ],
   "source": [
    "# Predict the Model\n",
    "predict_model(test_generator=test_generator, file_output_path=file_output_path)"
   ]
  }
 ],
 "metadata": {
  "kernelspec": {
   "display_name": "Python 3",
   "language": "python",
   "name": "python3"
  },
  "language_info": {
   "codemirror_mode": {
    "name": "ipython",
    "version": 3
   },
   "file_extension": ".py",
   "mimetype": "text/x-python",
   "name": "python",
   "nbconvert_exporter": "python",
   "pygments_lexer": "ipython3",
   "version": "3.8.17"
  }
 },
 "nbformat": 4,
 "nbformat_minor": 2
}
