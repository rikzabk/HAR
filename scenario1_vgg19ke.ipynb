{
 "cells": [
  {
   "cell_type": "markdown",
   "metadata": {},
   "source": [
    "# Scenario 1: VGG19 with Keyframe Extraction"
   ]
  },
  {
   "cell_type": "markdown",
   "metadata": {},
   "source": [
    "## Functions"
   ]
  },
  {
   "cell_type": "code",
   "execution_count": 2,
   "metadata": {},
   "outputs": [],
   "source": [
    "# Import Required Libraries\n",
    "\n",
    "# General Libraries\n",
    "import os\n",
    "import cv2\n",
    "import time\n",
    "import shutil\n",
    "import itertools\n",
    "import tensorflow\n",
    "import numpy as np\n",
    "import pandas as pd\n",
    "import matplotlib.pyplot as plt\n",
    "from tqdm import tqdm\n",
    "from tabulate import tabulate\n",
    "\n",
    "# Katna Libraries\n",
    "from Katna.video import Video\n",
    "from Katna.writer import KeyFrameDiskWriter\n",
    "\n",
    "# Data Preprocessing Libraries\n",
    "from sklearn.model_selection import train_test_split\n",
    "from keras.preprocessing.image import ImageDataGenerator\n",
    "\n",
    "# Adam Optimizer Libraries\n",
    "from keras.optimizers.legacy import Adam # for Apple Silicon\n",
    "# from keras.optimizers import Adam # for Windows\n",
    "\n",
    "# VGG19 Libraries\n",
    "from keras.utils import plot_model\n",
    "from keras.layers import Dense, Flatten\n",
    "from keras.models import Model, load_model\n",
    "from keras.applications.vgg19 import VGG19\n",
    "from keras.callbacks import EarlyStopping, ModelCheckpoint\n",
    "\n",
    "# Evaluation Libraries\n",
    "from sklearn.metrics import confusion_matrix, classification_report, accuracy_score, precision_score, recall_score, f1_score"
   ]
  },
  {
   "cell_type": "code",
   "execution_count": 3,
   "metadata": {},
   "outputs": [],
   "source": [
    "# Data Information Function\n",
    "def data_information(dataframe, file_output_path, filename):\n",
    "    file_type = dataframe.columns[1].split()[0]\n",
    "\n",
    "    # Check if folder exists\n",
    "    if not os.path.exists(file_output_path):\n",
    "        os.makedirs(file_output_path)\n",
    "\n",
    "    # Writing the data information to a text file\n",
    "    with open(os.path.join(file_output_path, f\"data_information_{filename}.txt\"), 'w') as f:\n",
    "        f.write(\"*\"*50)\n",
    "        f.write(\"\\n\")\n",
    "        f.write(\"*\"*50)\n",
    "        f.write(\"\\n\")\n",
    "        f.write(\"DATA INFORMATION\".center(50))\n",
    "        f.write(\"\\n\")\n",
    "        f.write(\"*\"*50)\n",
    "        f.write(\"\\n\")\n",
    "        f.write(f\"Number of Labels : {dataframe['Label Type'].nunique()} Labels\")\n",
    "        f.write(\"\\n\")\n",
    "        f.write(f\"Number of {file_type}s : {len(dataframe)} {file_type}s\")\n",
    "        f.write(\"\\n\")\n",
    "        f.write(\"*\"*50)\n",
    "        f.write(\"\\n\")\n",
    "        for i in dataframe['Label Type'].value_counts().index:\n",
    "            f.write(f\"{i.ljust(20)} : {dataframe['Label Type'].value_counts()[i]} {file_type}s\")\n",
    "            f.write(\"\\n\")\n",
    "        f.write(\"*\"*50)\n",
    "        f.write(\"\\n\")\n",
    "        f.write(\"*\"*50)\n",
    "    \n",
    "    # save dataframe to csv\n",
    "    dataframe.to_csv(os.path.join(file_output_path, f\"dataframe_{filename}.csv\"), index=False)\n",
    "    \n",
    "    # showing the data information\n",
    "    with open(os.path.join(file_output_path, f\"data_information_{filename}.txt\"), 'r') as f:\n",
    "        print(f.read())"
   ]
  },
  {
   "cell_type": "code",
   "execution_count": 4,
   "metadata": {},
   "outputs": [],
   "source": [
    "# Data Initialization Function\n",
    "def data_initialization(dataset_path, file_output_path):\n",
    "    # get the list of all the label types\n",
    "    label_type = [item for item in os.listdir(dataset_path) if not item.startswith('.')]\n",
    "    \n",
    "    # get the list of all the videos\n",
    "    activities = []\n",
    "    for label in label_type:\n",
    "        all_items = os.listdir(os.path.join(dataset_path, label))\n",
    "        for item in all_items:\n",
    "            if item.startswith('.'):\n",
    "                continue\n",
    "            else:\n",
    "                videos = os.listdir(os.path.join(dataset_path, label, item))\n",
    "            for video in videos:\n",
    "                if video.endswith('.mp4'):      # can be changed to any other video format\n",
    "                    activities.append((label, os.path.join(dataset_path, label, item, video)))\n",
    "    \n",
    "    # create a dataframe\n",
    "    df = pd.DataFrame(activities, columns=['Label Type', 'Video Path'])\n",
    "\n",
    "    # print data information\n",
    "    data_information(dataframe=df, file_output_path=file_output_path, filename=\"data_initialization\")\n",
    "\n",
    "    return df"
   ]
  },
  {
   "cell_type": "code",
   "execution_count": 5,
   "metadata": {},
   "outputs": [],
   "source": [
    "# Keyframe Extraction Function\n",
    "def keyframe_extraction(dataframe, extracted_keyframes_output_folder, no_of_frames_to_returned):\n",
    "  # start time\n",
    "  start_time = time.time()\n",
    "\n",
    "  # print initial message\n",
    "  print(f\"Extracting Keyframes from {len(dataframe)} videos...\")\n",
    "  \n",
    "  # create a directory to save the keyframes\n",
    "  os.makedirs(extracted_keyframes_output_folder, exist_ok=True)\n",
    "\n",
    "  # For windows, the below if condition is must.\n",
    "  if __name__ == \"__main__\":\n",
    "    # initialize video module\n",
    "    vd = Video()\n",
    "\n",
    "    # number of images to be returned\n",
    "    no_of_frames_to_returned = no_of_frames_to_returned # can be changed as per requirement\n",
    "\n",
    "  # Extracting keyframe from all videos\n",
    "  for i in tqdm(range(len(dataframe)), desc=\"Extracting Keyframes from Videos\", colour='green'):\n",
    "    # initialize diskwriter to save data at desired location\n",
    "    diskwriter = KeyFrameDiskWriter(location=extracted_keyframes_output_folder + \"/\" + dataframe.iloc[i]['Label Type'])\n",
    "\n",
    "    # Video file path\n",
    "    video_file_path = dataframe.iloc[i]['Video Path']\n",
    "\n",
    "    # extract keyframes and process data with diskwriter\n",
    "    vd.extract_video_keyframes(\n",
    "      no_of_frames=no_of_frames_to_returned, \n",
    "      file_path=video_file_path,\n",
    "      writer=diskwriter\n",
    "    )\n",
    "\n",
    "  # end time\n",
    "  end_time = time.time()\n",
    " \n",
    "  # round the execution time to 2 decimal places\n",
    "  exec_time = end_time - start_time\n",
    "  exec_time = round(exec_time, 2)\n",
    "\n",
    "  # print final message\n",
    "  print(\"Keyframes extracted successfully!\")\n",
    "  print(f\"Keyframes extracted from {len(dataframe)} videos and saved in {extracted_keyframes_output_folder}\")\n",
    "  print(f\"Time taken to extract keyframes from {len(dataframe)} videos : {exec_time} seconds\")\n",
    "\n",
    "  return exec_time"
   ]
  },
  {
   "cell_type": "code",
   "execution_count": 6,
   "metadata": {},
   "outputs": [],
   "source": [
    "# Data Initialization for Split Function\n",
    "def data_initialization_split(dataset_path, file_output_path):\n",
    "    # get the list of all the label types\n",
    "    label_type = [item for item in os.listdir(dataset_path) if not item.startswith('.')]\n",
    "    \n",
    "    # get the list of all the videos\n",
    "    activities = []\n",
    "    for label in label_type:\n",
    "        if label.startswith('.'):\n",
    "            continue\n",
    "        videos = os.listdir(os.path.join(dataset_path, label))\n",
    "        for video in videos:\n",
    "            if video.endswith('.jpeg'):     # can add or change the image format\n",
    "                activities.append((label, os.path.join(dataset_path, label, video)))\n",
    "    \n",
    "    # create a dataframe\n",
    "    df_extract = pd.DataFrame(activities, columns=['Label Type', 'Image Path'])\n",
    "\n",
    "    data_information(dataframe=df_extract, file_output_path=file_output_path, filename=\"data_initialization_split\")\n",
    "    \n",
    "    return df_extract"
   ]
  },
  {
   "cell_type": "code",
   "execution_count": 7,
   "metadata": {},
   "outputs": [],
   "source": [
    "# Copy Files Function\n",
    "def copy_files(train_dataframe, test_dataframe):\n",
    "    # load variables\n",
    "    dataframes = [train_dataframe, test_dataframe]\n",
    "    destination_folder = 'SplittedFrames/extractedKeyframes' # change the destination folder according to the need\n",
    "\n",
    "    for dataframe in dataframes:\n",
    "        # set the destination folder\n",
    "        if dataframe is train_dataframe:\n",
    "            destination = os.path.join(destination_folder, 'train')\n",
    "            current_dataframe = \"Train\"\n",
    "        else:\n",
    "            destination = os.path.join(destination_folder, 'test')\n",
    "            current_dataframe = \"Test\"\n",
    "        \n",
    "        # Iterate over each row in the dataframe and copy the file to the destination folder\n",
    "        for index, row in tqdm(\n",
    "            dataframe.iterrows(), \n",
    "            total=len(dataframe), \n",
    "            desc=f\"Copying splitted {current_dataframe} files          \", \n",
    "            unit=\"files\", \n",
    "            position=0, \n",
    "            leave=True, \n",
    "            colour=\"green\"):\n",
    "            # Get the source and destination paths\n",
    "            source_path = row['Image Path']\n",
    "            destination_subfolder = row['Label Type']\n",
    "            destination_path = os.path.join(destination, destination_subfolder, os.path.basename(source_path))\n",
    "\n",
    "            # Create the destination subfolder if it doesn't exist\n",
    "            os.makedirs(os.path.join(destination, destination_subfolder), exist_ok=True)\n",
    "\n",
    "            # Copy the file to the destination folder\n",
    "            shutil.copyfile(source_path, destination_path)"
   ]
  },
  {
   "cell_type": "code",
   "execution_count": 8,
   "metadata": {},
   "outputs": [],
   "source": [
    "# Copy Files Function with Grayscaling\n",
    "def copy_files_grayscaled(train_dataframe, test_dataframe):\n",
    "    # load variables\n",
    "    dataframes = [train_dataframe, test_dataframe]\n",
    "    destination_folder = 'SplittedFrames/extractedKeyframes_grayscaled' # change the destination folder according to the need\n",
    "\n",
    "    for dataframe in dataframes:\n",
    "        # set the destination folder\n",
    "        if dataframe is train_dataframe:\n",
    "            destination = os.path.join(destination_folder, 'train')\n",
    "            current_dataframe = \"Train\"\n",
    "        else:\n",
    "            destination = os.path.join(destination_folder, 'test')\n",
    "            current_dataframe = \"Test\"\n",
    "        \n",
    "        # Iterate over each row in the dataframe and copy the file to the destination folder\n",
    "        for index, row in tqdm(\n",
    "            dataframe.iterrows(), \n",
    "            total=len(dataframe), \n",
    "            desc=f\"Copying splitted grayscale {current_dataframe} files \", \n",
    "            unit=\"files\", \n",
    "            position=0, \n",
    "            leave=True, \n",
    "            colour=\"green\"):\n",
    "            # Get the source and destination paths\n",
    "            source_path = row['Image Path']\n",
    "            destination_subfolder = row['Label Type']\n",
    "            destination_path = os.path.join(destination, destination_subfolder, os.path.basename(source_path))\n",
    "\n",
    "            # Create the destination subfolder if it doesn't exist\n",
    "            os.makedirs(os.path.join(destination, destination_subfolder), exist_ok=True)\n",
    "\n",
    "            # Read the image\n",
    "            image = cv2.imread(source_path)\n",
    "\n",
    "            # Convert the image to grayscale\n",
    "            gray_image = cv2.cvtColor(image, cv2.COLOR_BGR2GRAY)\n",
    "\n",
    "            # Save the grayscale image to the destination folder\n",
    "            cv2.imwrite(destination_path, gray_image)"
   ]
  },
  {
   "cell_type": "markdown",
   "metadata": {},
   "source": [
    "should train and test set grayscaled images?"
   ]
  },
  {
   "cell_type": "code",
   "execution_count": 9,
   "metadata": {},
   "outputs": [],
   "source": [
    "# Split Data Function\n",
    "def split_data(dataframe, test_size, file_output_path):\n",
    "    # print initial message\n",
    "    print(\"Splitting the data into train and test...\")\n",
    "\n",
    "    # Split the data into train and test\n",
    "    df_train, df_test = train_test_split(dataframe, test_size=test_size, random_state=42)\n",
    "\n",
    "    # save the dataframes to csv\n",
    "    df_train.to_csv(os.path.join(file_output_path, \"dataframe_dataset_train.csv\"), index=False)\n",
    "    df_test.to_csv(os.path.join(file_output_path, \"dataframe_dataset_test.csv\"), index=False)\n",
    "\n",
    "    # # copy files to the destination folder\n",
    "    # copy_files(train_dataframe=df_train, test_dataframe=df_test)\n",
    "    # copy_files_grayscaled(train_dataframe=df_train, test_dataframe=df_test)\n",
    "\n",
    "    # print final message\n",
    "    print(\"Data split successfully into train and test!\")\n",
    "\n",
    "    # print data information\n",
    "    print(\"\\n\")\n",
    "    print(f\"Total image in train set    : {len(df_train)} images\")\n",
    "    print(f\"Total image in test set     : {len(df_test)} images\")\n",
    "\n",
    "    return df_train, df_test"
   ]
  },
  {
   "cell_type": "code",
   "execution_count": 10,
   "metadata": {},
   "outputs": [],
   "source": [
    "# Data Augmentation Function\n",
    "def data_augmentation(img_width, img_height, batch_size):\n",
    "    # Splitted data directories\n",
    "    train_dir = 'SplittedFrames/extractedKeyframes_grayscaled/train'\n",
    "    test_dir = 'SplittedFrames/extractedKeyframes_grayscaled/test'\n",
    "\n",
    "    # Data augmentation for training\n",
    "    train_datagen = ImageDataGenerator(\n",
    "        rescale=1.0/255,\n",
    "        shear_range=0.2,\n",
    "        zoom_range=0.2,\n",
    "        validation_split=0.2,\n",
    "        horizontal_flip=True\n",
    "    )\n",
    "\n",
    "    # Data normalization for testing\n",
    "    test_datagen = ImageDataGenerator(\n",
    "        # rescale=1.0/255,\n",
    "        # shear_range=0.2,\n",
    "        # zoom_range=0.2,\n",
    "        # horizontal_flip=True\n",
    "    )\n",
    "\n",
    "    # Load training data\n",
    "    train_generator = train_datagen.flow_from_directory(\n",
    "        train_dir,\n",
    "        target_size=(img_width, img_height),\n",
    "        batch_size=batch_size,\n",
    "        class_mode='categorical',\n",
    "        subset='training', \n",
    "        shuffle=True\n",
    "    )\n",
    "\n",
    "    # Load validation data\n",
    "    val_generator = train_datagen.flow_from_directory(\n",
    "        train_dir,\n",
    "        target_size=(img_width, img_height),\n",
    "        batch_size=batch_size,\n",
    "        class_mode='categorical',\n",
    "        subset='validation', \n",
    "        shuffle=False\n",
    "    )\n",
    "\n",
    "    # Load testing data\n",
    "    test_generator = test_datagen.flow_from_directory(\n",
    "        test_dir,\n",
    "        target_size=(img_width, img_height),\n",
    "        batch_size=batch_size,\n",
    "        class_mode='categorical', \n",
    "        shuffle=False\n",
    "    )\n",
    "    \n",
    "    return train_generator, val_generator, test_generator\n"
   ]
  },
  {
   "cell_type": "code",
   "execution_count": 11,
   "metadata": {},
   "outputs": [],
   "source": [
    "# VGG19 Model\n",
    "def vgg19_model(learning_rate, train_generator, file_output_path):\n",
    "    # Variable\n",
    "    num_classes = train_generator.num_classes\n",
    "\n",
    "    # Create the VGG19 model\n",
    "    vgg_model = VGG19(weights='imagenet', include_top=False, input_shape=(224, 224, 3))\n",
    "\n",
    "    # Freeze the layers in the VGG19 model\n",
    "    for layer in vgg_model.layers[:-1]:\n",
    "        layer.trainable = False\n",
    "\n",
    "    # last layer\n",
    "    last_layer = vgg_model.layers[-1].output\n",
    "\n",
    "    # Output layer\n",
    "    model = Flatten()(last_layer)\n",
    "    model = Dense(4096, activation='relu', name='fc1')(model)\n",
    "    model = Dense(4096, activation='relu', name='fc2')(model)\n",
    "    model = Dense(num_classes, activation='softmax')(model)\n",
    "    \n",
    "    final_model = Model(vgg_model.input, model, name='VGG19')\n",
    "\n",
    "    # Compile the model\n",
    "    final_model.compile(optimizer=Adam(learning_rate=learning_rate), loss='categorical_crossentropy', metrics=['accuracy'])\n",
    "\n",
    "    # callbacks\n",
    "    folder_name = file_output_path\n",
    "    if not os.path.exists(folder_name):\n",
    "        os.makedirs(folder_name)\n",
    "\n",
    "    model_checkpoint_filename = 'Scenario1_checkpoint_epoch_{epoch:02d}_val_loss_{val_loss:.2f}_val_accuracy_{val_accuracy:.2f}_loss_{loss:.2f}_accuracy_{accuracy:.2f}.h5'\n",
    "    model_checkpoint = ModelCheckpoint(os.path.join(folder_name, model_checkpoint_filename), monitor='val_accuracy', save_best_only=True, mode='max', verbose=1)\n",
    "    early_stopping = EarlyStopping(patience=5, monitor='val_accuracy', restore_best_weights=True)\n",
    "    \n",
    "    return final_model, model_checkpoint, early_stopping"
   ]
  },
  {
   "cell_type": "code",
   "execution_count": 12,
   "metadata": {},
   "outputs": [],
   "source": [
    "# Time Conversion Function\n",
    "def convert(seconds):\n",
    "    seconds = seconds % (24 * 3600)\n",
    "    hour = seconds // 3600\n",
    "    seconds %= 3600\n",
    "    minutes = seconds // 60\n",
    "    seconds %= 60\n",
    " \n",
    "    return \"%d:%02d:%02d\" % (hour, minutes, seconds)"
   ]
  },
  {
   "cell_type": "code",
   "execution_count": 13,
   "metadata": {},
   "outputs": [],
   "source": [
    "# Grid Search Print\n",
    "def gs_print(accuracy, learning_rate, model, execution_time, file_output_path):\n",
    "    # save cell output to a text file\n",
    "    with open(os.path.join(file_output_path, \"grid_search_output.txt\"), \"w\") as f:\n",
    "        print(\"*\"*65, file=f)\n",
    "        print(\"*\"*65, file=f)\n",
    "        print(\"GRID SEARCH RESULTS\".center(65), file=f)\n",
    "        print(\"*\"*65, file=f)\n",
    "        print(f\"Best Learning Rate              : {learning_rate}\", file=f)\n",
    "        print(f\"Best Accuracy                   : {accuracy}\", file=f)\n",
    "        print(f\"Best Execution Time (seconds)   : {execution_time}\", file=f)\n",
    "        execution_time = convert(execution_time)\n",
    "        print(f\"Best Execution Time (hh:mm:ss)  : {execution_time}\", file=f)\n",
    "        print(\"*\"*65, file=f)\n",
    "        print(\"Summary of the Best Model\".center(65), file=f)\n",
    "        model.summary(print_fn=lambda x: f.write(x + '\\n'))\n",
    "        print(\"*\"*65, file=f)\n",
    "    \n",
    "    with open(os.path.join(file_output_path, \"grid_search_output.txt\"), \"r\") as f:\n",
    "        print(f.read())\n",
    "    \n",
    "    # Save model plot\n",
    "    plot_model(model, to_file=os.path.join(file_output_path, 'model_plot.png'), show_shapes=True, show_layer_names=True)"
   ]
  },
  {
   "cell_type": "code",
   "execution_count": 14,
   "metadata": {},
   "outputs": [],
   "source": [
    "# Grid Search Function\n",
    "def grid_search(learning_rate, epochs, train_generator, val_generator, file_output_path):\n",
    "    \n",
    "    # all variables\n",
    "    best_accuracy = 0\n",
    "    best_val_accuracy = 0\n",
    "    best_learning_rate = 0\n",
    "    best_execution_time = 0\n",
    "    best_model = None\n",
    "\n",
    "    # Grid Search\n",
    "    for lr in learning_rate:\n",
    "        print(f\"Learning Rate: {lr}\")\n",
    "        model, model_checkpoint, early_stopping = vgg19_model(learning_rate=lr, train_generator=train_generator, file_output_path=file_output_path)\n",
    "\n",
    "        start_time = time.time()\n",
    "        history = model.fit(train_generator, validation_data=val_generator, steps_per_epoch=len(train_generator), validation_steps=len(val_generator), epochs=epochs, callbacks=[model_checkpoint, early_stopping], verbose=1)\n",
    "        end_time = time.time()\n",
    "        exec_time = end_time - start_time\n",
    "        exec_time = round(exec_time, 2)\n",
    "        print(f\"Time taken to train the {lr} model : {exec_time} seconds\")\n",
    "\n",
    "        # Save history to a file\n",
    "        history_df = pd.DataFrame(history.history)\n",
    "        history_df.to_csv(os.path.join(file_output_path, 'history.csv'), index=False)\n",
    "\n",
    "        accuracy = history.history['accuracy'][-1]\n",
    "        val_accuracy = history.history['val_accuracy'][-1]\n",
    "        if val_accuracy > best_val_accuracy:\n",
    "            best_accuracy = accuracy\n",
    "            best_val_accuracy = val_accuracy\n",
    "            best_learning_rate = lr\n",
    "            best_model = model\n",
    "            best_execution_time = exec_time\n",
    "\n",
    "    # Save the best_model\n",
    "    best_model.save(os.path.join(file_output_path, 'best_model.h5'))\n",
    "    \n",
    "    return best_accuracy, best_learning_rate, best_model, best_execution_time"
   ]
  },
  {
   "cell_type": "code",
   "execution_count": 15,
   "metadata": {},
   "outputs": [],
   "source": [
    "# Save the Model Plot Function\n",
    "def save_plot_model(file_output_path):\n",
    "    # history\n",
    "    history = pd.read_csv(os.path.join(file_output_path, 'history.csv'))\n",
    "\n",
    "    # plot the accuracy and loss of the model side by side\n",
    "    plt.figure(figsize=(12, 6))\n",
    "\n",
    "    # plot the accuracy\n",
    "    plt.subplot(1, 2, 1)\n",
    "    plt.plot(history['accuracy'])\n",
    "    plt.plot(history['val_accuracy'])\n",
    "    plt.title('Model Accuracy')\n",
    "    plt.ylabel('Accuracy')\n",
    "    plt.xlabel('Epoch')\n",
    "    plt.legend(['Train', 'Validation'], loc='upper left')\n",
    "\n",
    "    # plot the loss\n",
    "    plt.subplot(1, 2, 2)\n",
    "    plt.plot(history['loss'])\n",
    "    plt.plot(history['val_loss'])\n",
    "    plt.title('Model Loss')\n",
    "    plt.ylabel('Loss')\n",
    "    plt.xlabel('Epoch')\n",
    "    plt.legend(['Train', 'Validation'], loc='upper left')\n",
    "\n",
    "    # save the plot\n",
    "    plt.savefig(os.path.join(file_output_path, 'model_accuracy_loss.png'))\n",
    "    plt.show()"
   ]
  },
  {
   "cell_type": "code",
   "execution_count": 16,
   "metadata": {},
   "outputs": [],
   "source": [
    "# Evaluate Model Function\n",
    "def evaluate_model(test_generator, file_output_path):\n",
    "    # load the best model\n",
    "    model = load_model(os.path.join(file_output_path, 'best_model.h5'))\n",
    "\n",
    "    # evaluate the model\n",
    "    test_loss, test_accuracy = model.evaluate(test_generator, steps=len(test_generator), verbose=1)\n",
    "\n",
    "    # save the evaluation results csv\n",
    "    evaluation_results = pd.DataFrame({'Test Loss': [test_loss], 'Test Accuracy': [test_accuracy]})\n",
    "    evaluation_results.to_csv(os.path.join(file_output_path, 'model_evaluation_results.csv'), index=False)\n",
    "\n",
    "    # show the evaluation results csv\n",
    "    print(\"\\n\")\n",
    "    print(\"*\"*75)\n",
    "    print(tabulate(evaluation_results, headers='keys', tablefmt='pretty'))\n",
    "    print(f\"Model evaluation results saved in {file_output_path} as model_evaluation_results.csv\")"
   ]
  },
  {
   "cell_type": "code",
   "execution_count": 17,
   "metadata": {},
   "outputs": [],
   "source": [
    "# Predict Model Function\n",
    "def predict_model(test_generator, file_output_path):\n",
    "    \"\"\"\n",
    "    Predicts the classes for the given test data using a trained model and saves the predictions, evaluation results,\n",
    "    confusion matrix, and classification report to CSV files.\n",
    "\n",
    "    Args:\n",
    "        test_generator (object): The test data generator.\n",
    "        file_output_path (str): The path to save the output files.\n",
    "\n",
    "    Returns:\n",
    "        None\n",
    "    \"\"\"\n",
    "    # model predictions\n",
    "    # load the model\n",
    "    model = load_model(os.path.join(file_output_path, 'best_model.h5'))\n",
    "    test_dir = 'SplittedFrames/extractedKeyframes_grayscaled/test'\n",
    "\n",
    "    actual_classes = []\n",
    "    predicted_classes = []\n",
    "    predicted_probabilities = []\n",
    "\n",
    "\n",
    "\n",
    "    # Get the total number of files\n",
    "    total_files = sum(len(files) for _, _, files in os.walk('SplittedFrames/extractedKeyframes_grayscaled/test'))\n",
    "\n",
    "    # Create a progress bar\n",
    "    progress_bar = tqdm(total=total_files, desc='Loading')\n",
    "\n",
    "    for folder in os.listdir(test_dir):\n",
    "        if folder.startswith('.'):\n",
    "            continue\n",
    "        for file in os.listdir(os.path.join(test_dir, folder)):\n",
    "            if file.startswith('.'):\n",
    "                continue\n",
    "            actual_classes.append(test_generator.class_indices[folder])\n",
    "\n",
    "            img = cv2.imread(os.path.join(test_dir, folder, file))\n",
    "            img = cv2.resize(img, (224, 224))\n",
    "            img_normalized = img / 255.0\n",
    "            img_array = np.array([img_normalized])\n",
    "\n",
    "            pred = model.predict(img_array, verbose=0)\n",
    "            predicted_probabilities.append(np.array(pred))\n",
    "            predictions = np.argmax(pred)\n",
    "            predicted_classes.append(predictions)\n",
    "            \n",
    "            # Update the progress bar\n",
    "            progress_bar.update(1)\n",
    "    \n",
    "    # Close the progress bar\n",
    "    progress_bar.close()\n",
    "\n",
    "    # get the class labels\n",
    "    class_labels = list(test_generator.class_indices.keys())\n",
    "\n",
    "\n",
    "    \n",
    "    # model predictions evaluation\n",
    "    # confusion matrix\n",
    "    cm = confusion_matrix(actual_classes, predicted_classes)\n",
    "\n",
    "    # classification report\n",
    "    cr = classification_report(actual_classes, predicted_classes, target_names=class_labels)\n",
    "    \n",
    "    # accuracy\n",
    "    accuracy = accuracy_score(actual_classes, predicted_classes)\n",
    "\n",
    "    # precision\n",
    "    precision = precision_score(actual_classes, predicted_classes, average='weighted')\n",
    "\n",
    "    # recall\n",
    "    recall = recall_score(actual_classes, predicted_classes, average='weighted')\n",
    "\n",
    "    # f1-score\n",
    "    f1 = f1_score(actual_classes, predicted_classes, average='weighted')\n",
    "\n",
    "\n",
    "    \n",
    "    # print the confusion matrix and classification report\n",
    "    print(\"\\n\")\n",
    "    print(\"*\"*75)\n",
    "    print(\"Confusion Matrix\".center(75))\n",
    "    print(cm)\n",
    "    print(\"*\"*75)\n",
    "    print(\"Classification Report\".center(75))\n",
    "    print(cr)\n",
    "    print(\"*\"*75)\n",
    "    \n",
    "    # plot confusion matrix\n",
    "    plt.figure(figsize=(10, 10))\n",
    "    plt.imshow(cm, interpolation='nearest', cmap=plt.cm.Blues)\n",
    "    plt.title('Confusion Matrix')\n",
    "    plt.colorbar()\n",
    "    tick_marks = np.arange(len(class_labels))\n",
    "    plt.xticks(tick_marks, class_labels, rotation=45)\n",
    "    plt.yticks(tick_marks, class_labels)\n",
    "\n",
    "    fmt = 'd'\n",
    "    thresh = cm.max() / 2.\n",
    "    for i, j in itertools.product(range(cm.shape[0]), range(cm.shape[1])):\n",
    "        plt.text(j, i, format(cm[i, j], fmt), horizontalalignment=\"center\", color=\"white\" if cm[i, j] > thresh else \"black\")\n",
    "\n",
    "    plt.ylabel('True label')\n",
    "    plt.xlabel('Predicted label')\n",
    "    plt.tight_layout()\n",
    "    plt.savefig(os.path.join(file_output_path, 'confusion_matrix.png'))\n",
    "\n",
    "    \n",
    "    # save the evaluation results\n",
    "    print(\"\\n\")\n",
    "    print(\"*\"*75) \n",
    "    # save the model predictions to a csv\n",
    "    predicted_probabilities = np.array(predicted_probabilities)\n",
    "    predicted_probabilities = np.squeeze(predicted_probabilities, axis=1)\n",
    "    predictions_df = pd.DataFrame(predicted_probabilities, columns=class_labels)\n",
    "    predictions_df['Actual Class'] = actual_classes\n",
    "    predictions_df['Predicted Class'] = predicted_classes\n",
    "    predictions_df.to_csv(os.path.join(file_output_path, 'model_predictions.csv'), index=False)\n",
    "    print(f\"Model predictions saved in {file_output_path} as model_predictions.csv\")\n",
    "\n",
    "    # save the predictions evaluation results to a csv\n",
    "    predictions_evaluation_results = pd.DataFrame({'Accuracy': [accuracy], 'Precision': [precision], 'Recall': [recall], 'F1-Score': [f1]})\n",
    "    predictions_evaluation_results.to_csv(os.path.join(file_output_path, 'model_predictions_evaluation_results.csv'), index=False)\n",
    "    print(f\"Model predictions evaluation results saved in {file_output_path} as model_predictions_evaluation_results.csv\")\n",
    "    \n",
    "    # save the confusion matrix to a csv\n",
    "    cm_df = pd.DataFrame(cm, columns=class_labels, index=class_labels)\n",
    "    cm_df.to_csv(os.path.join(file_output_path, 'confusion_matrix.csv'))\n",
    "    print(\"Confusion matrix saved in {file_output_path} as confusion_matrix.csv\")\n",
    "\n",
    "    # save the classification report to a csv\n",
    "    cr = classification_report(actual_classes, predicted_classes, target_names=class_labels, output_dict=True)\n",
    "    cr_df = pd.DataFrame(cr).transpose()\n",
    "    cr_df.to_csv(os.path.join(file_output_path, 'classification_report.csv'))\n",
    "    print(\"Classification report saved in {file_output_path} as classification_report.csv\")"
   ]
  },
  {
   "cell_type": "code",
   "execution_count": 18,
   "metadata": {},
   "outputs": [
    {
     "name": "stdout",
     "output_type": "stream",
     "text": [
      "****************** PRIORITIZING MEMORY GPU FOR PROCESSING *****************\n",
      "GPU is available\n",
      "1 Physical GPUs, 1 Logical GPUs\n",
      "***************************************************************************\n",
      "Num GPUs Available:  1\n",
      "***************************************************************************\n",
      "tf.Tensor(\n",
      "[[22. 28.]\n",
      " [49. 64.]], shape=(2, 2), dtype=float32)\n",
      "***************************************************************************\n",
      "[PhysicalDevice(name='/physical_device:GPU:0', device_type='GPU')]\n",
      "***************************************************************************\n",
      "1 Physical GPUs, 1 Logical GPU\n"
     ]
    },
    {
     "name": "stderr",
     "output_type": "stream",
     "text": [
      "2024-05-06 19:47:26.344144: I metal_plugin/src/device/metal_device.cc:1154] Metal device set to: Apple M1\n",
      "2024-05-06 19:47:26.344163: I metal_plugin/src/device/metal_device.cc:296] systemMemory: 8.00 GB\n",
      "2024-05-06 19:47:26.344169: I metal_plugin/src/device/metal_device.cc:313] maxCacheSize: 2.67 GB\n",
      "2024-05-06 19:47:26.344315: I tensorflow/core/common_runtime/pluggable_device/pluggable_device_factory.cc:303] Could not identify NUMA node of platform GPU ID 0, defaulting to 0. Your kernel may not have been built with NUMA support.\n",
      "2024-05-06 19:47:26.344340: I tensorflow/core/common_runtime/pluggable_device/pluggable_device_factory.cc:269] Created TensorFlow device (/job:localhost/replica:0/task:0/device:GPU:0 with 0 MB memory) -> physical PluggableDevice (device: 0, name: METAL, pci bus id: <undefined>)\n"
     ]
    }
   ],
   "source": [
    "# Prioritizing memory GPU for processing (IMPORTANT)\n",
    "print(\" Prioritizing memory GPU for processing \".upper().center(75, \"*\"))\n",
    "\n",
    "gpus = tensorflow.config.list_physical_devices('GPU')\n",
    "if gpus:\n",
    "  print(\"GPU is available\")\n",
    "  try:\n",
    "    # Currently, memory growth needs to be the same across GPUs\n",
    "    for gpu in gpus:\n",
    "      tensorflow.config.experimental.set_memory_growth(gpu, True)\n",
    "    logical_gpus = tensorflow.config.list_logical_devices('GPU')\n",
    "    print(len(gpus), \"Physical GPUs,\", len(logical_gpus), \"Logical GPUs\")\n",
    "  except RuntimeError as e:\n",
    "    # Memory growth must be set before GPUs have been initialized\n",
    "    print(e)\n",
    "\n",
    "print(\"*\"*75)\n",
    "\n",
    "print(\"Num GPUs Available: \", len(tensorflow.config.list_physical_devices('GPU')))\n",
    "\n",
    "# tensorflow.debugging.set_log_device_placement(True)  # log device placement\n",
    "\n",
    "print(\"*\"*75)\n",
    "\n",
    "# Place tensors on the CPU\n",
    "with tensorflow.device('/GPU:0'):\n",
    "  a = tensorflow.constant([[1.0, 2.0, 3.0], [4.0, 5.0, 6.0]])\n",
    "  b = tensorflow.constant([[1.0, 2.0], [3.0, 4.0], [5.0, 6.0]])\n",
    "\n",
    "# Run on the GPU\n",
    "c = tensorflow.matmul(a, b)\n",
    "print(c)\n",
    "\n",
    "print(\"*\"*75)\n",
    "\n",
    "# change processing to GPU\n",
    "print(tensorflow.config.list_physical_devices('GPU'))\n",
    "\n",
    "print(\"*\"*75)\n",
    "\n",
    "# select GPU\n",
    "gpus = tensorflow.config.list_physical_devices('GPU')\n",
    "if gpus:\n",
    "  # Restrict TensorFlow to only use the first GPU\n",
    "  try:\n",
    "    tensorflow.config.set_visible_devices(gpus[0], 'GPU')\n",
    "    logical_gpus = tensorflow.config.list_logical_devices('GPU')\n",
    "    print(len(gpus), \"Physical GPUs,\", len(logical_gpus), \"Logical GPU\")\n",
    "  except RuntimeError as e:\n",
    "    # Visible devices must be set before GPUs have been initialized\n",
    "    print(e)"
   ]
  },
  {
   "cell_type": "markdown",
   "metadata": {},
   "source": [
    "## Main Codes"
   ]
  },
  {
   "cell_type": "code",
   "execution_count": 19,
   "metadata": {},
   "outputs": [],
   "source": [
    "# Set Variables\n",
    "dataset_path = 'Dataset/UCF11_updated_mpg/'\n",
    "extracted_keyframes = 'Frames/extractedKeyframes/'\n",
    "file_output_path = 'Model/Scenario1/'"
   ]
  },
  {
   "cell_type": "code",
   "execution_count": 20,
   "metadata": {},
   "outputs": [
    {
     "name": "stdout",
     "output_type": "stream",
     "text": [
      "**************************************************\n",
      "**************************************************\n",
      "                 DATA INFORMATION                 \n",
      "**************************************************\n",
      "Number of Labels : 11 Labels\n",
      "Number of Videos : 1600 Videos\n",
      "**************************************************\n",
      "horse_riding         : 198 Videos\n",
      "tennis_swing         : 167 Videos\n",
      "soccer_juggling      : 156 Videos\n",
      "diving               : 156 Videos\n",
      "biking               : 145 Videos\n",
      "golf_swing           : 142 Videos\n",
      "basketball           : 141 Videos\n",
      "swing                : 137 Videos\n",
      "walking              : 123 Videos\n",
      "trampoline_jumping   : 119 Videos\n",
      "volleyball_spiking   : 116 Videos\n",
      "**************************************************\n",
      "**************************************************\n"
     ]
    }
   ],
   "source": [
    "# Data initialization\n",
    "df_dataset = data_initialization(dataset_path=dataset_path, file_output_path=file_output_path)"
   ]
  },
  {
   "cell_type": "code",
   "execution_count": 21,
   "metadata": {},
   "outputs": [
    {
     "name": "stdout",
     "output_type": "stream",
     "text": [
      "              Label Type                                         Video Path\n",
      "0     volleyball_spiking  Dataset/UCF11_updated_mpg/volleyball_spiking/v...\n",
      "1     volleyball_spiking  Dataset/UCF11_updated_mpg/volleyball_spiking/v...\n",
      "2     volleyball_spiking  Dataset/UCF11_updated_mpg/volleyball_spiking/v...\n",
      "3     volleyball_spiking  Dataset/UCF11_updated_mpg/volleyball_spiking/v...\n",
      "4     volleyball_spiking  Dataset/UCF11_updated_mpg/volleyball_spiking/v...\n",
      "...                  ...                                                ...\n",
      "1595              diving  Dataset/UCF11_updated_mpg/diving/v_diving_08/v...\n",
      "1596              diving  Dataset/UCF11_updated_mpg/diving/v_diving_08/v...\n",
      "1597              diving  Dataset/UCF11_updated_mpg/diving/v_diving_08/v...\n",
      "1598              diving  Dataset/UCF11_updated_mpg/diving/v_diving_08/v...\n",
      "1599              diving  Dataset/UCF11_updated_mpg/diving/v_diving_08/v...\n",
      "\n",
      "[1600 rows x 2 columns]\n"
     ]
    }
   ],
   "source": [
    "# Show the dataset dataframe\n",
    "df_dataset = pd.read_csv(os.path.join(file_output_path, 'dataframe_data_initialization.csv'))\n",
    "print(df_dataset)"
   ]
  },
  {
   "cell_type": "code",
   "execution_count": null,
   "metadata": {},
   "outputs": [],
   "source": [
    "# # Skip keyframe extraction if the keyframes are already extracted\n",
    "\n",
    "# # Keyframe extraction\n",
    "# number_of_keyframes = 100\n",
    "# keyframe_extraction_execution_time = keyframe_extraction(dataframe=df_dataset, \n",
    "#                                                          extracted_keyframes_output_folder=extracted_keyframes,\n",
    "#                                                          no_of_frames_to_returned=number_of_keyframes)"
   ]
  },
  {
   "cell_type": "code",
   "execution_count": null,
   "metadata": {},
   "outputs": [],
   "source": [
    "# # Skip keyframe extraction if the keyframes are already extracted\n",
    "# # Print the keyframe extraction execution time\n",
    "# with open(os.path.join(file_output_path, 'extraction_execution_time.txt'), 'w') as f:\n",
    "#     f.write(str(keyframe_extraction_execution_time))\n",
    "\n",
    "# with open (os.path.join(file_output_path, 'extraction_execution_time.txt'), 'r') as f:\n",
    "#     print(tabulate([['Scenario1', f.read()]], headers=['Execution', 'Seconds'], tablefmt='pretty'))"
   ]
  },
  {
   "cell_type": "code",
   "execution_count": 22,
   "metadata": {},
   "outputs": [
    {
     "name": "stdout",
     "output_type": "stream",
     "text": [
      "**************************************************\n",
      "**************************************************\n",
      "                 DATA INFORMATION                 \n",
      "**************************************************\n",
      "Number of Labels : 11 Labels\n",
      "Number of Images : 14548 Images\n",
      "**************************************************\n",
      "soccer_juggling      : 2400 Images\n",
      "horse_riding         : 1833 Images\n",
      "biking               : 1534 Images\n",
      "walking              : 1384 Images\n",
      "tennis_swing         : 1268 Images\n",
      "diving               : 1262 Images\n",
      "golf_swing           : 1194 Images\n",
      "trampoline_jumping   : 1102 Images\n",
      "swing                : 1069 Images\n",
      "basketball           : 951 Images\n",
      "volleyball_spiking   : 551 Images\n",
      "**************************************************\n",
      "**************************************************\n"
     ]
    }
   ],
   "source": [
    "# Data initialization for splitting the dataset\n",
    "df_dataset_extracted  = data_initialization_split(dataset_path=extracted_keyframes, file_output_path=file_output_path)"
   ]
  },
  {
   "cell_type": "code",
   "execution_count": 23,
   "metadata": {},
   "outputs": [
    {
     "name": "stdout",
     "output_type": "stream",
     "text": [
      "               Label Type                                         Image Path\n",
      "0      volleyball_spiking  Frames/extractedKeyframes/volleyball_spiking/v...\n",
      "1      volleyball_spiking  Frames/extractedKeyframes/volleyball_spiking/v...\n",
      "2      volleyball_spiking  Frames/extractedKeyframes/volleyball_spiking/v...\n",
      "3      volleyball_spiking  Frames/extractedKeyframes/volleyball_spiking/v...\n",
      "4      volleyball_spiking  Frames/extractedKeyframes/volleyball_spiking/v...\n",
      "...                   ...                                                ...\n",
      "14543              diving  Frames/extractedKeyframes/diving/v_diving_16_0...\n",
      "14544              diving  Frames/extractedKeyframes/diving/v_diving_03_0...\n",
      "14545              diving  Frames/extractedKeyframes/diving/v_diving_06_0...\n",
      "14546              diving  Frames/extractedKeyframes/diving/v_diving_15_0...\n",
      "14547              diving  Frames/extractedKeyframes/diving/v_diving_01_0...\n",
      "\n",
      "[14548 rows x 2 columns]\n"
     ]
    }
   ],
   "source": [
    "# show dataframe from csv\n",
    "df_datasplit = pd.read_csv(os.path.join(file_output_path, 'dataframe_data_initialization_split.csv'))\n",
    "print(df_datasplit)"
   ]
  },
  {
   "cell_type": "code",
   "execution_count": 178,
   "metadata": {},
   "outputs": [
    {
     "name": "stdout",
     "output_type": "stream",
     "text": [
      "Splitting the data into train and test...\n",
      "Data split successfully into train and test!\n",
      "\n",
      "\n",
      "Total image in train set    : 11638 images\n",
      "Total image in test set     : 2910 images\n"
     ]
    }
   ],
   "source": [
    "# # Skip data split if the data is already splitted\n",
    "# # Split data\n",
    "\n",
    "# # variable\n",
    "# test_size = 0.2\n",
    "\n",
    "# # Split data into train and test\n",
    "# df_train, df_test = split_data(dataframe=df_datasplit, test_size=test_size, file_output_path=file_output_path)"
   ]
  },
  {
   "cell_type": "code",
   "execution_count": 24,
   "metadata": {},
   "outputs": [
    {
     "name": "stdout",
     "output_type": "stream",
     "text": [
      "Found 9316 images belonging to 11 classes.\n",
      "Found 2322 images belonging to 11 classes.\n",
      "Found 2910 images belonging to 11 classes.\n"
     ]
    }
   ],
   "source": [
    "# Data Augmentation\n",
    "\n",
    "# Image size\n",
    "img_width, img_height = 224, 224\n",
    "\n",
    "# Batch size\n",
    "batch_size = 32\n",
    "\n",
    "# Load data\n",
    "train_generator, val_generator, test_generator = data_augmentation(img_width, img_height, batch_size)"
   ]
  },
  {
   "cell_type": "code",
   "execution_count": 24,
   "metadata": {},
   "outputs": [
    {
     "name": "stdout",
     "output_type": "stream",
     "text": [
      "Learning Rate: 0.0001\n",
      "Epoch 1/100\n"
     ]
    },
    {
     "name": "stderr",
     "output_type": "stream",
     "text": [
      "2024-05-03 05:36:01.232172: I tensorflow/core/grappler/optimizers/custom_graph_optimizer_registry.cc:114] Plugin optimizer for device_type GPU is enabled.\n"
     ]
    },
    {
     "name": "stdout",
     "output_type": "stream",
     "text": [
      "292/292 [==============================] - ETA: 0s - loss: 1.5665 - accuracy: 0.6180"
     ]
    },
    {
     "name": "stderr",
     "output_type": "stream",
     "text": [
      "2024-05-03 05:40:34.763287: I tensorflow/core/grappler/optimizers/custom_graph_optimizer_registry.cc:114] Plugin optimizer for device_type GPU is enabled.\n"
     ]
    },
    {
     "name": "stdout",
     "output_type": "stream",
     "text": [
      "\n",
      "Epoch 1: val_accuracy improved from -inf to 0.54350, saving model to Model/Scenario1/Scenario1_checkpoint_epoch_01_val_loss_1.38_val_accuracy_0.54_loss_1.57_accuracy_0.62.h5\n"
     ]
    },
    {
     "name": "stderr",
     "output_type": "stream",
     "text": [
      "/Users/rikza/tensorflow-test/env/lib/python3.8/site-packages/keras/src/engine/training.py:3000: UserWarning: You are saving your model as an HDF5 file via `model.save()`. This file format is considered legacy. We recommend using instead the native Keras format, e.g. `model.save('my_model.keras')`.\n",
      "  saving_api.save_model(\n"
     ]
    },
    {
     "name": "stdout",
     "output_type": "stream",
     "text": [
      "292/292 [==============================] - 356s 1s/step - loss: 1.5665 - accuracy: 0.6180 - val_loss: 1.3776 - val_accuracy: 0.5435\n",
      "Epoch 2/100\n",
      "292/292 [==============================] - ETA: 0s - loss: 0.5154 - accuracy: 0.8338\n",
      "Epoch 2: val_accuracy improved from 0.54350 to 0.61025, saving model to Model/Scenario1/Scenario1_checkpoint_epoch_02_val_loss_1.33_val_accuracy_0.61_loss_0.52_accuracy_0.83.h5\n",
      "292/292 [==============================] - 427s 1s/step - loss: 0.5154 - accuracy: 0.8338 - val_loss: 1.3331 - val_accuracy: 0.6102\n",
      "Epoch 3/100\n",
      "292/292 [==============================] - ETA: 0s - loss: 0.3656 - accuracy: 0.8858\n",
      "Epoch 3: val_accuracy did not improve from 0.61025\n",
      "292/292 [==============================] - 452s 2s/step - loss: 0.3656 - accuracy: 0.8858 - val_loss: 1.7760 - val_accuracy: 0.6102\n",
      "Epoch 4/100\n",
      "292/292 [==============================] - ETA: 0s - loss: 0.3245 - accuracy: 0.8991\n",
      "Epoch 4: val_accuracy did not improve from 0.61025\n",
      "292/292 [==============================] - 437s 1s/step - loss: 0.3245 - accuracy: 0.8991 - val_loss: 1.9628 - val_accuracy: 0.5745\n",
      "Epoch 5/100\n",
      "292/292 [==============================] - ETA: 0s - loss: 0.2807 - accuracy: 0.9164\n",
      "Epoch 5: val_accuracy improved from 0.61025 to 0.62489, saving model to Model/Scenario1/Scenario1_checkpoint_epoch_05_val_loss_1.96_val_accuracy_0.62_loss_0.28_accuracy_0.92.h5\n",
      "292/292 [==============================] - 419s 1s/step - loss: 0.2807 - accuracy: 0.9164 - val_loss: 1.9578 - val_accuracy: 0.6249\n",
      "Epoch 6/100\n",
      "292/292 [==============================] - ETA: 0s - loss: 0.2189 - accuracy: 0.9368\n",
      "Epoch 6: val_accuracy did not improve from 0.62489\n",
      "292/292 [==============================] - 385s 1s/step - loss: 0.2189 - accuracy: 0.9368 - val_loss: 2.1088 - val_accuracy: 0.6223\n",
      "Epoch 7/100\n",
      "292/292 [==============================] - ETA: 0s - loss: 0.1880 - accuracy: 0.9446\n",
      "Epoch 7: val_accuracy did not improve from 0.62489\n",
      "292/292 [==============================] - 378s 1s/step - loss: 0.1880 - accuracy: 0.9446 - val_loss: 2.3684 - val_accuracy: 0.5879\n",
      "Epoch 8/100\n",
      "292/292 [==============================] - ETA: 0s - loss: 0.1696 - accuracy: 0.9513\n",
      "Epoch 8: val_accuracy did not improve from 0.62489\n",
      "292/292 [==============================] - 373s 1s/step - loss: 0.1696 - accuracy: 0.9513 - val_loss: 2.5220 - val_accuracy: 0.6146\n",
      "Epoch 9/100\n",
      "292/292 [==============================] - ETA: 0s - loss: 0.1587 - accuracy: 0.9547\n",
      "Epoch 9: val_accuracy did not improve from 0.62489\n",
      "292/292 [==============================] - 382s 1s/step - loss: 0.1587 - accuracy: 0.9547 - val_loss: 2.4959 - val_accuracy: 0.6219\n",
      "Epoch 10/100\n",
      "292/292 [==============================] - ETA: 0s - loss: 0.1497 - accuracy: 0.9543\n",
      "Epoch 10: val_accuracy improved from 0.62489 to 0.65547, saving model to Model/Scenario1/Scenario1_checkpoint_epoch_10_val_loss_2.14_val_accuracy_0.66_loss_0.15_accuracy_0.95.h5\n",
      "292/292 [==============================] - 365s 1s/step - loss: 0.1497 - accuracy: 0.9543 - val_loss: 2.1442 - val_accuracy: 0.6555\n",
      "Epoch 11/100\n",
      "292/292 [==============================] - ETA: 0s - loss: 0.1219 - accuracy: 0.9631\n",
      "Epoch 11: val_accuracy did not improve from 0.65547\n",
      "292/292 [==============================] - 357s 1s/step - loss: 0.1219 - accuracy: 0.9631 - val_loss: 2.2335 - val_accuracy: 0.6542\n",
      "Epoch 12/100\n",
      "292/292 [==============================] - ETA: 0s - loss: 0.1326 - accuracy: 0.9626\n",
      "Epoch 12: val_accuracy did not improve from 0.65547\n",
      "292/292 [==============================] - 352s 1s/step - loss: 0.1326 - accuracy: 0.9626 - val_loss: 2.5597 - val_accuracy: 0.6473\n",
      "Epoch 13/100\n",
      "292/292 [==============================] - ETA: 0s - loss: 0.1140 - accuracy: 0.9677\n",
      "Epoch 13: val_accuracy did not improve from 0.65547\n",
      "292/292 [==============================] - 357s 1s/step - loss: 0.1140 - accuracy: 0.9677 - val_loss: 2.6867 - val_accuracy: 0.6451\n",
      "Epoch 14/100\n",
      "292/292 [==============================] - ETA: 0s - loss: 0.0876 - accuracy: 0.9756\n",
      "Epoch 14: val_accuracy did not improve from 0.65547\n",
      "292/292 [==============================] - 378s 1s/step - loss: 0.0876 - accuracy: 0.9756 - val_loss: 2.7111 - val_accuracy: 0.6202\n",
      "Epoch 15/100\n",
      "292/292 [==============================] - ETA: 0s - loss: 0.0687 - accuracy: 0.9786\n",
      "Epoch 15: val_accuracy did not improve from 0.65547\n",
      "292/292 [==============================] - 423s 1s/step - loss: 0.0687 - accuracy: 0.9786 - val_loss: 2.9684 - val_accuracy: 0.6326\n",
      "Time taken to train the 0.0001 model : 5842.1 seconds\n"
     ]
    }
   ],
   "source": [
    "# call the grid search function\n",
    "learning_rate = [0.0001]\n",
    "epochs = 100\n",
    "\n",
    "best_accuracy, best_learning_rate, best_model, best_execution_time = grid_search(learning_rate, epochs, train_generator, val_generator, file_output_path)"
   ]
  },
  {
   "cell_type": "code",
   "execution_count": 25,
   "metadata": {},
   "outputs": [
    {
     "name": "stdout",
     "output_type": "stream",
     "text": [
      "*****************************************************************\n",
      "*****************************************************************\n",
      "                       GRID SEARCH RESULTS                       \n",
      "*****************************************************************\n",
      "Best Learning Rate              : 0.0001\n",
      "Best Accuracy                   : 0.9786388874053955\n",
      "Best Execution Time (seconds)   : 5842.1\n",
      "Best Execution Time (hh:mm:ss)  : 1:37:22\n",
      "*****************************************************************\n",
      "                    Summary of the Best Model                    \n",
      "Model: \"VGG19\"\n",
      "_________________________________________________________________\n",
      " Layer (type)                Output Shape              Param #   \n",
      "=================================================================\n",
      " input_1 (InputLayer)        [(None, 224, 224, 3)]     0         \n",
      "                                                                 \n",
      " block1_conv1 (Conv2D)       (None, 224, 224, 64)      1792      \n",
      "                                                                 \n",
      " block1_conv2 (Conv2D)       (None, 224, 224, 64)      36928     \n",
      "                                                                 \n",
      " block1_pool (MaxPooling2D)  (None, 112, 112, 64)      0         \n",
      "                                                                 \n",
      " block2_conv1 (Conv2D)       (None, 112, 112, 128)     73856     \n",
      "                                                                 \n",
      " block2_conv2 (Conv2D)       (None, 112, 112, 128)     147584    \n",
      "                                                                 \n",
      " block2_pool (MaxPooling2D)  (None, 56, 56, 128)       0         \n",
      "                                                                 \n",
      " block3_conv1 (Conv2D)       (None, 56, 56, 256)       295168    \n",
      "                                                                 \n",
      " block3_conv2 (Conv2D)       (None, 56, 56, 256)       590080    \n",
      "                                                                 \n",
      " block3_conv3 (Conv2D)       (None, 56, 56, 256)       590080    \n",
      "                                                                 \n",
      " block3_conv4 (Conv2D)       (None, 56, 56, 256)       590080    \n",
      "                                                                 \n",
      " block3_pool (MaxPooling2D)  (None, 28, 28, 256)       0         \n",
      "                                                                 \n",
      " block4_conv1 (Conv2D)       (None, 28, 28, 512)       1180160   \n",
      "                                                                 \n",
      " block4_conv2 (Conv2D)       (None, 28, 28, 512)       2359808   \n",
      "                                                                 \n",
      " block4_conv3 (Conv2D)       (None, 28, 28, 512)       2359808   \n",
      "                                                                 \n",
      " block4_conv4 (Conv2D)       (None, 28, 28, 512)       2359808   \n",
      "                                                                 \n",
      " block4_pool (MaxPooling2D)  (None, 14, 14, 512)       0         \n",
      "                                                                 \n",
      " block5_conv1 (Conv2D)       (None, 14, 14, 512)       2359808   \n",
      "                                                                 \n",
      " block5_conv2 (Conv2D)       (None, 14, 14, 512)       2359808   \n",
      "                                                                 \n",
      " block5_conv3 (Conv2D)       (None, 14, 14, 512)       2359808   \n",
      "                                                                 \n",
      " block5_conv4 (Conv2D)       (None, 14, 14, 512)       2359808   \n",
      "                                                                 \n",
      " block5_pool (MaxPooling2D)  (None, 7, 7, 512)         0         \n",
      "                                                                 \n",
      " flatten (Flatten)           (None, 25088)             0         \n",
      "                                                                 \n",
      " fc1 (Dense)                 (None, 4096)              102764544 \n",
      "                                                                 \n",
      " fc2 (Dense)                 (None, 4096)              16781312  \n",
      "                                                                 \n",
      " dense (Dense)               (None, 11)                45067     \n",
      "                                                                 \n",
      "=================================================================\n",
      "Total params: 139615307 (532.59 MB)\n",
      "Trainable params: 119590923 (456.20 MB)\n",
      "Non-trainable params: 20024384 (76.39 MB)\n",
      "_________________________________________________________________\n",
      "*****************************************************************\n",
      "\n"
     ]
    }
   ],
   "source": [
    "# print grid search results\n",
    "gs_print(accuracy=best_accuracy, learning_rate=best_learning_rate, model=best_model, execution_time=best_execution_time, file_output_path=file_output_path)"
   ]
  },
  {
   "cell_type": "code",
   "execution_count": 26,
   "metadata": {},
   "outputs": [
    {
     "data": {
      "image/png": "[encoded data removed]",
      "text/plain": [
       "<Figure size 1200x600 with 2 Axes>"
      ]
     },
     "metadata": {},
     "output_type": "display_data"
    }
   ],
   "source": [
    "# Save the Model Plot\n",
    "save_plot_model(file_output_path=file_output_path)"
   ]
  },
  {
   "cell_type": "code",
   "execution_count": 27,
   "metadata": {},
   "outputs": [
    {
     "name": "stderr",
     "output_type": "stream",
     "text": [
      "2024-05-03 07:13:29.395833: I tensorflow/core/grappler/optimizers/custom_graph_optimizer_registry.cc:114] Plugin optimizer for device_type GPU is enabled.\n"
     ]
    },
    {
     "name": "stdout",
     "output_type": "stream",
     "text": [
      "91/91 [==============================] - 87s 959ms/step - loss: 71.7492 - accuracy: 0.6481\n",
      "\n",
      "\n",
      "***************************************************************************\n",
      "+---+-------------------+--------------------+\n",
      "|   |     Test Loss     |   Test Accuracy    |\n",
      "+---+-------------------+--------------------+\n",
      "| 0 | 71.74920654296875 | 0.6481099724769592 |\n",
      "+---+-------------------+--------------------+\n",
      "Model evaluation results saved in Model/Scenario1/ as model_evaluation_results.csv\n"
     ]
    }
   ],
   "source": [
    "# Evaluate the Model\n",
    "evaluate_model(test_generator=test_generator, file_output_path=file_output_path)"
   ]
  },
  {
   "cell_type": "code",
   "execution_count": 28,
   "metadata": {},
   "outputs": [
    {
     "name": "stderr",
     "output_type": "stream",
     "text": [
      "Loading:   0%|          | 0/2911 [00:00<?, ?it/s]2024-05-03 07:15:00.565181: I tensorflow/core/grappler/optimizers/custom_graph_optimizer_registry.cc:114] Plugin optimizer for device_type GPU is enabled.\n",
      "Loading: 100%|█████████▉| 2910/2911 [02:59<00:00, 16.20it/s]\n"
     ]
    },
    {
     "name": "stdout",
     "output_type": "stream",
     "text": [
      "\n",
      "\n",
      "***************************************************************************\n",
      "                              Confusion Matrix                             \n",
      "[[173   2   1   0   2   2   0   1   2   4   0]\n",
      " [  0 288   1   0   1   9   1   2   3   0   1]\n",
      " [  0   0 251   0   2   0   0   0   0   0   0]\n",
      " [  1   6   0 205   1  13   0   0  20   0   0]\n",
      " [  1   5   3   0 328   7   2   0   5   3   0]\n",
      " [  1   6   0   0   5 440   1   6   9   0   0]\n",
      " [  0   8   1   1   1   4 180   0  11   0   1]\n",
      " [  2   1   0   0   1   0   0 245   4   0   0]\n",
      " [  0   1   3   0   0   1   1   3 218   0   1]\n",
      " [  7   3   4   0   0   0   1   0   1 104   0]\n",
      " [  4  35   3   0  11  26  20   0  15   0 174]]\n",
      "***************************************************************************\n",
      "                           Classification Report                           \n",
      "                    precision    recall  f1-score   support\n",
      "\n",
      "        basketball       0.92      0.93      0.92       187\n",
      "            biking       0.81      0.94      0.87       306\n",
      "            diving       0.94      0.99      0.97       253\n",
      "        golf_swing       1.00      0.83      0.91       246\n",
      "      horse_riding       0.93      0.93      0.93       354\n",
      "   soccer_juggling       0.88      0.94      0.91       468\n",
      "             swing       0.87      0.87      0.87       207\n",
      "      tennis_swing       0.95      0.97      0.96       253\n",
      "trampoline_jumping       0.76      0.96      0.84       228\n",
      "volleyball_spiking       0.94      0.87      0.90       120\n",
      "           walking       0.98      0.60      0.75       288\n",
      "\n",
      "          accuracy                           0.90      2910\n",
      "         macro avg       0.91      0.89      0.89      2910\n",
      "      weighted avg       0.90      0.90      0.89      2910\n",
      "\n",
      "***************************************************************************\n",
      "\n",
      "\n",
      "***************************************************************************\n",
      "Model predictions saved in Model/Scenario1/ as model_predictions.csv\n",
      "Model predictions evaluation results saved in Model/Scenario1/ as model_predictions_evaluation_results.csv\n",
      "Confusion matrix saved in {file_output_path} as confusion_matrix.csv\n",
      "Classification report saved in {file_output_path} as classification_report.csv\n"
     ]
    },
    {
     "data": {
      "image/png": "[encoded data removed]",
      "text/plain": [
       "<Figure size 1000x1000 with 2 Axes>"
      ]
     },
     "metadata": {},
     "output_type": "display_data"
    }
   ],
   "source": [
    "# Predict the Model \n",
    "predict_model(test_generator=test_generator, file_output_path=file_output_path)"
   ]
  },
  {
   "cell_type": "code",
   "execution_count": 25,
   "metadata": {},
   "outputs": [
    {
     "name": "stdout",
     "output_type": "stream",
     "text": [
      "{'basketball': 0, 'biking': 1, 'diving': 2, 'golf_swing': 3, 'horse_riding': 4, 'soccer_juggling': 5, 'swing': 6, 'tennis_swing': 7, 'trampoline_jumping': 8, 'volleyball_spiking': 9, 'walking': 10}\n"
     ]
    }
   ],
   "source": [
    "print(test_generator.class_indices)"
   ]
  },
  {
   "cell_type": "code",
   "execution_count": 45,
   "metadata": {},
   "outputs": [],
   "source": [
    "model = load_model(os.path.join(file_output_path, 'best_model.h5'))\n",
    "video_file_path = '/Users/rikza/Desktop/Skripsi/HAR/Dataset/UCF11_updated_mpg/walking/v_walk_dog_11/v_walk_dog_11_05.mp4'"
   ]
  },
  {
   "cell_type": "code",
   "execution_count": 46,
   "metadata": {},
   "outputs": [
    {
     "name": "stdout",
     "output_type": "stream",
     "text": [
      "Completed processing for :  /Users/rikza/Desktop/Skripsi/HAR/Dataset/UCF11_updated_mpg/walking/v_walk_dog_11/v_walk_dog_11_05.mp4\n"
     ]
    }
   ],
   "source": [
    "# convert video to frames\n",
    "vd = Video()\n",
    "\n",
    "# get the frames\n",
    "frames = 100\n",
    "\n",
    "diskwriter = KeyFrameDiskWriter(location = 'clipped/')\n",
    "\n",
    "vd.extract_video_keyframes(no_of_frames=frames, file_path=video_file_path, writer=diskwriter)"
   ]
  },
  {
   "cell_type": "code",
   "execution_count": 47,
   "metadata": {},
   "outputs": [],
   "source": [
    "import tensorflow as tf"
   ]
  },
  {
   "cell_type": "code",
   "execution_count": 48,
   "metadata": {},
   "outputs": [],
   "source": [
    "actual_class = 'tennis_swing'\n",
    "predicted_classes = []\n",
    "predicted_probabilities = []"
   ]
  },
  {
   "cell_type": "code",
   "execution_count": 49,
   "metadata": {},
   "outputs": [
    {
     "name": "stdout",
     "output_type": "stream",
     "text": [
      "['v_walk_dog_11_05_1.jpeg', 'v_walk_dog_11_05_0.jpeg', 'v_walk_dog_11_05_7.jpeg', 'v_walk_dog_11_05_6.jpeg', 'v_walk_dog_11_05_5.jpeg', 'v_walk_dog_11_05_9.jpeg', 'v_walk_dog_11_05_10.jpeg', 'v_walk_dog_11_05_8.jpeg', 'v_walk_dog_11_05_4.jpeg', 'v_walk_dog_11_05_3.jpeg', 'v_walk_dog_11_05_2.jpeg']\n"
     ]
    }
   ],
   "source": [
    "image_path = 'clipped/'\n",
    "image_files = [image for image in os.listdir(image_path) if image.endswith('.jpeg')]\n",
    "\n",
    "print(image_files)"
   ]
  },
  {
   "cell_type": "code",
   "execution_count": 50,
   "metadata": {},
   "outputs": [
    {
     "name": "stdout",
     "output_type": "stream",
     "text": [
      "1/1 [==============================] - 0s 223ms/step\n"
     ]
    },
    {
     "name": "stderr",
     "output_type": "stream",
     "text": [
      "2024-05-06 19:51:14.938544: I tensorflow/core/grappler/optimizers/custom_graph_optimizer_registry.cc:114] Plugin optimizer for device_type GPU is enabled.\n"
     ]
    },
    {
     "name": "stdout",
     "output_type": "stream",
     "text": [
      "Actual Class: tennis_swing\n",
      "Predicted Class: [3]\n",
      "Predicted Probabilities: []\n",
      "-----------------------------------\n",
      "1/1 [==============================] - 0s 13ms/step\n",
      "Actual Class: tennis_swing\n",
      "Predicted Class: [3, 3]\n",
      "Predicted Probabilities: []\n",
      "-----------------------------------\n",
      "1/1 [==============================] - 0s 13ms/step\n",
      "Actual Class: tennis_swing\n",
      "Predicted Class: [3, 3, 3]\n",
      "Predicted Probabilities: []\n",
      "-----------------------------------\n",
      "1/1 [==============================] - 0s 13ms/step\n",
      "Actual Class: tennis_swing\n",
      "Predicted Class: [3, 3, 3, 8]\n",
      "Predicted Probabilities: []\n",
      "-----------------------------------\n",
      "1/1 [==============================] - 0s 13ms/step\n",
      "Actual Class: tennis_swing\n",
      "Predicted Class: [3, 3, 3, 8, 10]\n",
      "Predicted Probabilities: []\n",
      "-----------------------------------\n",
      "1/1 [==============================] - 0s 13ms/step\n",
      "Actual Class: tennis_swing\n",
      "Predicted Class: [3, 3, 3, 8, 10, 8]\n",
      "Predicted Probabilities: []\n",
      "-----------------------------------\n",
      "1/1 [==============================] - 0s 13ms/step\n",
      "Actual Class: tennis_swing\n",
      "Predicted Class: [3, 3, 3, 8, 10, 8, 8]\n",
      "Predicted Probabilities: []\n",
      "-----------------------------------\n",
      "1/1 [==============================] - 0s 13ms/step\n",
      "Actual Class: tennis_swing\n",
      "Predicted Class: [3, 3, 3, 8, 10, 8, 8, 3]\n",
      "Predicted Probabilities: []\n",
      "-----------------------------------\n",
      "1/1 [==============================] - 0s 13ms/step\n",
      "Actual Class: tennis_swing\n",
      "Predicted Class: [3, 3, 3, 8, 10, 8, 8, 3, 8]\n",
      "Predicted Probabilities: []\n",
      "-----------------------------------\n",
      "1/1 [==============================] - 0s 13ms/step\n",
      "Actual Class: tennis_swing\n",
      "Predicted Class: [3, 3, 3, 8, 10, 8, 8, 3, 8, 8]\n",
      "Predicted Probabilities: []\n",
      "-----------------------------------\n",
      "1/1 [==============================] - 0s 13ms/step\n",
      "Actual Class: tennis_swing\n",
      "Predicted Class: [3, 3, 3, 8, 10, 8, 8, 3, 8, 8, 3]\n",
      "Predicted Probabilities: []\n",
      "-----------------------------------\n"
     ]
    }
   ],
   "source": [
    "for file in image_files:\n",
    "    img = tf.keras.preprocessing.image.load_img(image_path + file, target_size=(224, 224))\n",
    "\n",
    "    img_array = tf.keras.preprocessing.image.img_to_array(img)\n",
    "    img_array = tf.expand_dims(img_array, 0)\n",
    "\n",
    "    predictions = model.predict(img_array)\n",
    "    predictions = np.argmax(predictions, axis=1)\n",
    "    predicted_class = predictions[0]\n",
    "    predicted_classes.append(predicted_class)\n",
    "    # predicted_probabilities.append(max(predicted_class))\n",
    "\n",
    "    print('Actual Class:', actual_class)\n",
    "    print('Predicted Class:', predicted_classes)\n",
    "\n",
    "    print('Predicted Probabilities:', predicted_probabilities)\n",
    "\n",
    "    print('-----------------------------------')"
   ]
  },
  {
   "cell_type": "code",
   "execution_count": 51,
   "metadata": {},
   "outputs": [
    {
     "name": "stdout",
     "output_type": "stream",
     "text": [
      "['golf_swing', 'golf_swing', 'golf_swing', 'trampoline_jumping', 'walking', 'trampoline_jumping', 'trampoline_jumping', 'golf_swing', 'trampoline_jumping', 'trampoline_jumping', 'golf_swing']\n"
     ]
    }
   ],
   "source": [
    "# decode all predicted class\n",
    "predicted_classes = [list(test_generator.class_indices.keys())[i] for i in predicted_classes]\n",
    "\n",
    "print(predicted_classes)"
   ]
  },
  {
   "cell_type": "code",
   "execution_count": 52,
   "metadata": {},
   "outputs": [
    {
     "name": "stdout",
     "output_type": "stream",
     "text": [
      "golf_swing\n"
     ]
    }
   ],
   "source": [
    "# decode predicted class\n",
    "predicted_class = list(test_generator.class_indices.keys())[predicted_class]\n",
    "print(predicted_class)"
   ]
  }
 ],
 "metadata": {
  "kernelspec": {
   "display_name": "Python 3",
   "language": "python",
   "name": "python3"
  },
  "language_info": {
   "codemirror_mode": {
    "name": "ipython",
    "version": 3
   },
   "file_extension": ".py",
   "mimetype": "text/x-python",
   "name": "python",
   "nbconvert_exporter": "python",
   "pygments_lexer": "ipython3",
   "version": "3.8.17"
  }
 },
 "nbformat": 4,
 "nbformat_minor": 2
}
