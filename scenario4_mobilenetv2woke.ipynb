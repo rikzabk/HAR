{
 "cells": [
  {
   "cell_type": "markdown",
   "metadata": {},
   "source": [
    "# Scenario 4: MobileNetV2 without Keyframe Extraction"
   ]
  },
  {
   "cell_type": "markdown",
   "metadata": {},
   "source": [
    "## Functions"
   ]
  },
  {
   "cell_type": "code",
   "execution_count": 1,
   "metadata": {},
   "outputs": [],
   "source": [
    "# Import Required Libraries\n",
    "\n",
    "# General Libraries\n",
    "import os\n",
    "import cv2\n",
    "import time\n",
    "import shutil\n",
    "import itertools\n",
    "import tensorflow\n",
    "import numpy as np\n",
    "import pandas as pd\n",
    "import matplotlib.pyplot as plt\n",
    "from tqdm import tqdm\n",
    "from tabulate import tabulate\n",
    "\n",
    "# Data Preprocessing Libraries\n",
    "from sklearn.model_selection import train_test_split\n",
    "from keras.preprocessing.image import ImageDataGenerator\n",
    "\n",
    "# Adam Optimizer Libraries\n",
    "from keras.optimizers.legacy import Adam # for Apple Silicon\n",
    "# from keras.optimizers import Adam # for Windows\n",
    "\n",
    "# MobileNetV2 Libraries\n",
    "from keras.utils import plot_model\n",
    "from keras.applications import MobileNetV2\n",
    "from keras.models import Model, load_model\n",
    "from keras.layers import Dense, GlobalAveragePooling2D\n",
    "from keras.callbacks import EarlyStopping, ModelCheckpoint\n",
    "\n",
    "# Evaluation Libraries\n",
    "from sklearn.metrics import confusion_matrix, classification_report, accuracy_score, precision_score, recall_score, f1_score"
   ]
  },
  {
   "cell_type": "code",
   "execution_count": 2,
   "metadata": {},
   "outputs": [],
   "source": [
    "# Data Information Function\n",
    "def data_information(dataframe, file_output_path, filename):\n",
    "    file_type = dataframe.columns[1].split()[0]\n",
    "\n",
    "    # Check if folder exists\n",
    "    if not os.path.exists(file_output_path):\n",
    "        os.makedirs(file_output_path)\n",
    "\n",
    "    # Writing the data information to a text file\n",
    "    with open(os.path.join(file_output_path, f\"data_information_{filename}.txt\"), 'w') as f:\n",
    "        f.write(\"*\"*50)\n",
    "        f.write(\"\\n\")\n",
    "        f.write(\"*\"*50)\n",
    "        f.write(\"\\n\")\n",
    "        f.write(\"DATA INFORMATION\".center(50))\n",
    "        f.write(\"\\n\")\n",
    "        f.write(\"*\"*50)\n",
    "        f.write(\"\\n\")\n",
    "        f.write(f\"Number of Labels : {dataframe['Label Type'].nunique()} Labels\")\n",
    "        f.write(\"\\n\")\n",
    "        f.write(f\"Number of {file_type}s : {len(dataframe)} {file_type}s\")\n",
    "        f.write(\"\\n\")\n",
    "        f.write(\"*\"*50)\n",
    "        f.write(\"\\n\")\n",
    "        for i in dataframe['Label Type'].value_counts().index:\n",
    "            f.write(f\"{i.ljust(20)} : {dataframe['Label Type'].value_counts()[i]} videos\")\n",
    "            f.write(\"\\n\")\n",
    "        f.write(\"*\"*50)\n",
    "        f.write(\"\\n\")\n",
    "        f.write(\"*\"*50)\n",
    "    \n",
    "    # save dataframe to csv\n",
    "    dataframe.to_csv(os.path.join(file_output_path, f\"dataframe_{filename}.csv\"), index=False)\n",
    "    \n",
    "    # showing the data information\n",
    "    with open(os.path.join(file_output_path, f\"data_information_{filename}.txt\"), 'r') as f:\n",
    "        print(f.read())"
   ]
  },
  {
   "cell_type": "code",
   "execution_count": 3,
   "metadata": {},
   "outputs": [],
   "source": [
    "# Data Initialization Function\n",
    "def data_initialization(dataset_path, file_output_path):\n",
    "    # get the list of all the label types\n",
    "    label_type = [item for item in os.listdir(dataset_path) if not item.startswith('.')]\n",
    "    \n",
    "    # get the list of all the videos\n",
    "    activities = []\n",
    "    for label in label_type:\n",
    "        all_items = os.listdir(os.path.join(dataset_path, label))\n",
    "        for item in all_items:\n",
    "            if item.startswith('.'):\n",
    "                continue\n",
    "            else:\n",
    "                videos = os.listdir(os.path.join(dataset_path, label, item))\n",
    "            for video in videos:\n",
    "                if video.endswith('.mp4'):      # can be changed to any other video format\n",
    "                    activities.append((label, os.path.join(dataset_path, label, item, video)))\n",
    "    \n",
    "    # create a dataframe\n",
    "    df = pd.DataFrame(activities, columns=['Label Type', 'Video Path'])\n",
    "\n",
    "    # print data information\n",
    "    data_information(dataframe=df, file_output_path=file_output_path, filename=\"data_initialization\")\n",
    "\n",
    "    return df"
   ]
  },
  {
   "cell_type": "code",
   "execution_count": 4,
   "metadata": {},
   "outputs": [],
   "source": [
    "# Video to Image Conversion Function\n",
    "def convert_videos_to_images(dataframe, extracted_frames_output_folder):\n",
    "    # start time\n",
    "    start_time = time.time()\n",
    "\n",
    "    # print initial message\n",
    "    print(f\"Converting {len(dataframe)} videos to images...\")\n",
    "\n",
    "    # Loop through the video paths\n",
    "    for i, path in enumerate(tqdm(dataframe['Video Path'], desc=\"Converting Videos to Images\"), colour='green', unit='videos'):\n",
    "        # Open the video file\n",
    "        video = cv2.VideoCapture(path)\n",
    "\n",
    "        # Output folder\n",
    "        output_folder = os.path.join(extracted_frames_output_folder, dataframe.iloc[i]['Label Type'])\n",
    "\n",
    "        # Create the output folder if it doesn't exist\n",
    "        os.makedirs(output_folder, exist_ok=True)\n",
    "        \n",
    "        # Get the video name without extension\n",
    "        video_name = os.path.splitext(os.path.basename(path))[0]\n",
    "        \n",
    "        # Read frames from the video and save them as images\n",
    "        frame_count = 0\n",
    "        while True:\n",
    "            # Read the next frame\n",
    "            ret, frame = video.read()\n",
    "            \n",
    "            # Break the loop if no more frames are available\n",
    "            if not ret:\n",
    "                break\n",
    "            \n",
    "            # Save the frame as an image with the same video name\n",
    "            image_path = os.path.join(output_folder, f\"{video_name}_frame_{frame_count}.jpeg\")\n",
    "            cv2.imwrite(image_path, frame)\n",
    "            \n",
    "            frame_count += 1\n",
    "        \n",
    "        # Release the video file\n",
    "        video.release()\n",
    "    \n",
    "    # end time\n",
    "    end_time = time.time()\n",
    "\n",
    "    # round the execution time to 2 decimal places\n",
    "    exec_time = end_time - start_time\n",
    "    exec_time = round(exec_time, 2)\n",
    "\n",
    "    # print final message\n",
    "    print(\"Videos converted to images successfully!\")\n",
    "    print(f\"Images extracted from {len(dataframe)} videos and saved in frameExtracted folder\")\n",
    "    print(f\"Time taken to convert videos to images : {exec_time} seconds\")\n",
    "\n",
    "    return exec_time"
   ]
  },
  {
   "cell_type": "code",
   "execution_count": 5,
   "metadata": {},
   "outputs": [],
   "source": [
    "# Data Initialization for Split Function\n",
    "def data_initialization_split(dataset_path, file_output_path):\n",
    "    # get the list of all the label types\n",
    "    label_type = [item for item in os.listdir(dataset_path) if not item.startswith('.')]\n",
    "    \n",
    "    # get the list of all the videos\n",
    "    activities = []\n",
    "    for label in label_type:\n",
    "        if label.startswith('.'):\n",
    "            continue\n",
    "        videos = os.listdir(os.path.join(dataset_path, label))\n",
    "        for video in videos:\n",
    "            if video.endswith('.jpeg'):     # can add or change the image format\n",
    "                activities.append((label, os.path.join(dataset_path, label, video)))\n",
    "    \n",
    "    # create a dataframe\n",
    "    df_extract = pd.DataFrame(activities, columns=['Label Type', 'Image Path'])\n",
    "\n",
    "    data_information(dataframe=df_extract, file_output_path=file_output_path, filename=\"data_initialization_split\")\n",
    "    \n",
    "    return df_extract"
   ]
  },
  {
   "cell_type": "code",
   "execution_count": 6,
   "metadata": {},
   "outputs": [],
   "source": [
    "# Copy Files Function\n",
    "def copy_files(train_dataframe, test_dataframe):\n",
    "    # load variables\n",
    "    dataframes = [train_dataframe, test_dataframe]\n",
    "    destination_folder = 'SplittedFrames/extractedFrames' # change the destination folder according to the need\n",
    "\n",
    "    for dataframe in dataframes:\n",
    "        # set the destination folder\n",
    "        if dataframe is train_dataframe:\n",
    "            destination = os.path.join(destination_folder, 'train')\n",
    "            current_dataframe = \"Train\"\n",
    "        else:\n",
    "            destination = os.path.join(destination_folder, 'test')\n",
    "            current_dataframe = \"Test\"\n",
    "        \n",
    "        # Iterate over each row in the dataframe and copy the file to the destination folder\n",
    "        for index, row in tqdm(\n",
    "            dataframe.iterrows(), \n",
    "            total=len(dataframe), \n",
    "            desc=f\"Copying splitted {current_dataframe} files          \", \n",
    "            unit=\"files\", \n",
    "            position=0, \n",
    "            leave=True, \n",
    "            colour=\"green\"):\n",
    "            # Get the source and destination paths\n",
    "            source_path = row['Image Path']\n",
    "            destination_subfolder = row['Label Type']\n",
    "            destination_path = os.path.join(destination, destination_subfolder, os.path.basename(source_path))\n",
    "\n",
    "            # Create the destination subfolder if it doesn't exist\n",
    "            os.makedirs(os.path.join(destination, destination_subfolder), exist_ok=True)\n",
    "\n",
    "            # Copy the file to the destination folder\n",
    "            shutil.copyfile(source_path, destination_path)"
   ]
  },
  {
   "cell_type": "code",
   "execution_count": 7,
   "metadata": {},
   "outputs": [],
   "source": [
    "# Copy Files Function with Grayscaling\n",
    "def copy_files_grayscaled(train_dataframe, test_dataframe):\n",
    "    # load variables\n",
    "    dataframes = [train_dataframe, test_dataframe]\n",
    "    destination_folder = 'SplittedFrames/extractedFrames_grayscaled' # change the destination folder according to the need\n",
    "\n",
    "    for dataframe in dataframes:\n",
    "        # set the destination folder\n",
    "        if dataframe is train_dataframe:\n",
    "            destination = os.path.join(destination_folder, 'train')\n",
    "            current_dataframe = \"Train\"\n",
    "        else:\n",
    "            destination = os.path.join(destination_folder, 'test')\n",
    "            current_dataframe = \"Test\"\n",
    "        \n",
    "        # Iterate over each row in the dataframe and copy the file to the destination folder\n",
    "        for index, row in tqdm(\n",
    "            dataframe.iterrows(), \n",
    "            total=len(dataframe), \n",
    "            desc=f\"Copying splitted grayscale {current_dataframe} files \", \n",
    "            unit=\"files\", \n",
    "            position=0, \n",
    "            leave=True, \n",
    "            colour=\"green\"):\n",
    "            # Get the source and destination paths\n",
    "            source_path = row['Image Path']\n",
    "            destination_subfolder = row['Label Type']\n",
    "            destination_path = os.path.join(destination, destination_subfolder, os.path.basename(source_path))\n",
    "\n",
    "            # Create the destination subfolder if it doesn't exist\n",
    "            os.makedirs(os.path.join(destination, destination_subfolder), exist_ok=True)\n",
    "\n",
    "            # Read the image\n",
    "            image = cv2.imread(source_path)\n",
    "\n",
    "            # Convert the image to grayscale\n",
    "            gray_image = cv2.cvtColor(image, cv2.COLOR_BGR2GRAY)\n",
    "\n",
    "            # Save the grayscale image to the destination folder\n",
    "            cv2.imwrite(destination_path, gray_image)"
   ]
  },
  {
   "cell_type": "code",
   "execution_count": 8,
   "metadata": {},
   "outputs": [],
   "source": [
    "# Split Data Function\n",
    "def split_data(dataframe, test_size, file_output_path):\n",
    "    # print initial message\n",
    "    print(\"Splitting the data into train and test...\")\n",
    "\n",
    "    # Split the data into train and test\n",
    "    df_train, df_test = train_test_split(dataframe, test_size=test_size, random_state=42)\n",
    "\n",
    "    # save the dataframes to csv\n",
    "    df_train.to_csv(os.path.join(file_output_path, \"dataframe_dataset_train.csv\"), index=False)\n",
    "    df_test.to_csv(os.path.join(file_output_path, \"dataframe_dataset_test.csv\"), index=False)\n",
    "\n",
    "    # # copy files to the destination folder\n",
    "    # copy_files(train_dataframe=df_train, test_dataframe=df_test)\n",
    "    # copy_files_grayscaled(train_dataframe=df_train, test_dataframe=df_test)\n",
    "\n",
    "    # print final message\n",
    "    print(\"Data split successfully into train and test!\")\n",
    "\n",
    "    # print data information\n",
    "    print(\"\\n\")\n",
    "    print(f\"Total image in train set    : {len(df_train)} images\")\n",
    "    print(f\"Total image in test set     : {len(df_test)} images\")\n",
    "\n",
    "    return df_train, df_test"
   ]
  },
  {
   "cell_type": "code",
   "execution_count": 9,
   "metadata": {},
   "outputs": [],
   "source": [
    "# Data Augmentation Function\n",
    "def data_augmentation(img_width, img_height, batch_size):\n",
    "    # Splitted data directories\n",
    "    train_dir = 'SplittedFrames/extractedFrames_grayscaled/train'\n",
    "    test_dir = 'SplittedFrames/extractedFrames_grayscaled/test'\n",
    "\n",
    "    # Data augmentation for training\n",
    "    train_datagen = ImageDataGenerator(\n",
    "        rescale=1.0/255,\n",
    "        shear_range=0.2,\n",
    "        zoom_range=0.2,\n",
    "        validation_split=0.2,\n",
    "        horizontal_flip=True\n",
    "    )\n",
    "\n",
    "    # Data normalization for testing\n",
    "    test_datagen = ImageDataGenerator(\n",
    "        # rescale=1.0/255,\n",
    "        # shear_range=0.2,\n",
    "        # zoom_range=0.2,\n",
    "        # horizontal_flip=True\n",
    "    )\n",
    "\n",
    "    # Load training data\n",
    "    train_generator = train_datagen.flow_from_directory(\n",
    "        train_dir,\n",
    "        target_size=(img_width, img_height),\n",
    "        batch_size=batch_size,\n",
    "        class_mode='categorical',\n",
    "        subset='training', \n",
    "        shuffle=True\n",
    "    )\n",
    "\n",
    "    # Load validation data\n",
    "    val_generator = train_datagen.flow_from_directory(\n",
    "        train_dir,\n",
    "        target_size=(img_width, img_height),\n",
    "        batch_size=batch_size,\n",
    "        class_mode='categorical',\n",
    "        subset='validation', \n",
    "        shuffle=False\n",
    "    )\n",
    "\n",
    "    # Load testing data\n",
    "    test_generator = test_datagen.flow_from_directory(\n",
    "        test_dir,\n",
    "        target_size=(img_width, img_height),\n",
    "        batch_size=batch_size,\n",
    "        class_mode='categorical', \n",
    "        shuffle=False\n",
    "    )\n",
    "    \n",
    "    return train_generator, val_generator, test_generator"
   ]
  },
  {
   "cell_type": "code",
   "execution_count": 10,
   "metadata": {},
   "outputs": [],
   "source": [
    "# MobileNetV2 Model\n",
    "def mobileNetV2_model(learning_rate, train_generator, file_output_path):\n",
    "    # Variable\n",
    "    num_classes = train_generator.num_classes\n",
    "\n",
    "    # Create the MobileNetV2 model\n",
    "    model = MobileNetV2(weights='imagenet', include_top=False, input_shape=(224, 224, 3))\n",
    "\n",
    "    # Freeze the layers in the base model\n",
    "    for layer in model.layers[:-1]:\n",
    "        layer.trainable = False\n",
    "\n",
    "    # Add the output layer\n",
    "    model = tensorflow.keras.Sequential([\n",
    "        model,\n",
    "        GlobalAveragePooling2D(),\n",
    "        Dense(num_classes, activation='softmax', name='predictions')\n",
    "    ])\n",
    "\n",
    "    model = tensorflow.keras.Model(inputs=model.input, outputs=model.output, name='MobileNetV2')\n",
    "\n",
    "    # Compile the model\n",
    "    model.compile(optimizer=Adam(learning_rate=learning_rate), loss='categorical_crossentropy', metrics=['accuracy'])\n",
    "\n",
    "    # callbacks\n",
    "    folder_name = file_output_path\n",
    "    if not os.path.exists(folder_name):\n",
    "        os.makedirs(folder_name)\n",
    "\n",
    "    model_checkpoint_filename = 'Scenario4_mobilenetv2_checkpoint_epoch_{epoch:02d}_val_loss_{val_loss:.2f}_val_accuracy_{val_accuracy:.2f}_loss_{loss:.2f}_accuracy_{accuracy:.2f}.h5'\n",
    "    model_checkpoint = ModelCheckpoint(os.path.join(folder_name, model_checkpoint_filename), monitor='val_accuracy', save_best_only=True, mode='max', verbose=1)\n",
    "    early_stopping = EarlyStopping(patience=5, monitor='val_accuracy', restore_best_weights=True)\n",
    "    \n",
    "    return model, model_checkpoint, early_stopping"
   ]
  },
  {
   "cell_type": "code",
   "execution_count": 11,
   "metadata": {},
   "outputs": [],
   "source": [
    "# Time Conversion Function\n",
    "def convert(seconds):\n",
    "    seconds = seconds % (24 * 3600)\n",
    "    hour = seconds // 3600\n",
    "    seconds %= 3600\n",
    "    minutes = seconds // 60\n",
    "    seconds %= 60\n",
    " \n",
    "    return \"%d:%02d:%02d\" % (hour, minutes, seconds)"
   ]
  },
  {
   "cell_type": "code",
   "execution_count": 12,
   "metadata": {},
   "outputs": [],
   "source": [
    "# Grid Search Print\n",
    "def gs_print(accuracy, learning_rate, model, execution_time, file_output_path):\n",
    "    # save cell output to a text file\n",
    "    with open(os.path.join(file_output_path, \"grid_search_output.txt\"), \"w\") as f:\n",
    "        print(\"*\"*65, file=f)\n",
    "        print(\"*\"*65, file=f)\n",
    "        print(\"GRID SEARCH RESULTS\".center(65), file=f)\n",
    "        print(\"*\"*65, file=f)\n",
    "        print(f\"Best Learning Rate              : {learning_rate}\", file=f)\n",
    "        print(f\"Best Accuracy                   : {accuracy}\", file=f)\n",
    "        print(f\"Best Execution Time (seconds)   : {execution_time}\", file=f)\n",
    "        execution_time = convert(execution_time)\n",
    "        print(f\"Best Execution Time (hh:mm:ss)  : {execution_time}\", file=f)\n",
    "        print(\"*\"*65, file=f)\n",
    "        print(\"Summary of the Best Model\".center(65), file=f)\n",
    "        model.summary(print_fn=lambda x: f.write(x + '\\n'))\n",
    "        print(\"*\"*65, file=f)\n",
    "    \n",
    "    with open(os.path.join(file_output_path, \"grid_search_output.txt\"), \"r\") as f:\n",
    "        print(f.read())\n",
    "\n",
    "    # Save model plot\n",
    "    plot_model(model, to_file=os.path.join(file_output_path, \"model_plot.png\"), show_shapes=True, show_layer_names=True)"
   ]
  },
  {
   "cell_type": "code",
   "execution_count": 13,
   "metadata": {},
   "outputs": [],
   "source": [
    "# Grid Search Function\n",
    "def grid_search(learning_rate, epochs, train_generator, val_generator, file_output_path):\n",
    "    \n",
    "    # all variables\n",
    "    best_accuracy = 0\n",
    "    best_val_accuracy = 0\n",
    "    best_learning_rate = 0\n",
    "    best_execution_time = 0\n",
    "    best_model = None\n",
    "\n",
    "    # Grid Search\n",
    "    for lr in learning_rate:\n",
    "        print(f\"Learning Rate: {lr}\")\n",
    "        model, model_checkpoint, early_stopping = mobileNetV2_model(learning_rate=lr, train_generator=train_generator, file_output_path=file_output_path)\n",
    "\n",
    "        start_time = time.time()\n",
    "        history = model.fit(train_generator, validation_data=val_generator, steps_per_epoch=len(train_generator), validation_steps=len(val_generator), epochs=epochs, callbacks=[model_checkpoint, early_stopping], verbose=1)\n",
    "        end_time = time.time()\n",
    "        exec_time = end_time - start_time\n",
    "        exec_time = round(exec_time, 2)\n",
    "        print(f\"Time taken to train the {lr} model : {exec_time} seconds\")\n",
    "\n",
    "        # Save history to a file\n",
    "        history_df = pd.DataFrame(history.history)\n",
    "        history_df.to_csv(os.path.join(file_output_path, 'history.csv'), index=False)\n",
    "\n",
    "        accuracy = history.history['accuracy'][-1]\n",
    "        val_accuracy = history.history['val_accuracy'][-1]\n",
    "        if val_accuracy > best_val_accuracy:\n",
    "            best_accuracy = accuracy\n",
    "            best_val_accuracy = val_accuracy\n",
    "            best_learning_rate = lr\n",
    "            best_model = model\n",
    "            best_execution_time = exec_time\n",
    "\n",
    "    # Save the best_model\n",
    "    best_model.save(os.path.join(file_output_path, 'best_model.h5'))\n",
    "    \n",
    "    return best_accuracy, best_learning_rate, best_model, best_execution_time"
   ]
  },
  {
   "cell_type": "code",
   "execution_count": 14,
   "metadata": {},
   "outputs": [],
   "source": [
    "# Save the Model Plot Function\n",
    "def save_plot_model(file_output_path):\n",
    "    # history\n",
    "    history = pd.read_csv(os.path.join(file_output_path, 'history.csv'))\n",
    "\n",
    "    # plot the accuracy and loss of the model side by side\n",
    "    plt.figure(figsize=(12, 6))\n",
    "\n",
    "    # plot the accuracy\n",
    "    plt.subplot(1, 2, 1)\n",
    "    plt.plot(history['accuracy'])\n",
    "    plt.plot(history['val_accuracy'])\n",
    "    plt.title('Model Accuracy')\n",
    "    plt.ylabel('Accuracy')\n",
    "    plt.xlabel('Epoch')\n",
    "    plt.legend(['Train', 'Validation'], loc='upper left')\n",
    "\n",
    "    # plot the loss\n",
    "    plt.subplot(1, 2, 2)\n",
    "    plt.plot(history['loss'])\n",
    "    plt.plot(history['val_loss'])\n",
    "    plt.title('Model Loss')\n",
    "    plt.ylabel('Loss')\n",
    "    plt.xlabel('Epoch')\n",
    "    plt.legend(['Train', 'Validation'], loc='upper left')\n",
    "\n",
    "    # save the plot\n",
    "    plt.savefig(os.path.join(file_output_path, 'model_accuracy_loss.png'))\n",
    "    plt.show()"
   ]
  },
  {
   "cell_type": "code",
   "execution_count": 15,
   "metadata": {},
   "outputs": [],
   "source": [
    "# Evaluate Model Function\n",
    "def evaluate_model(test_generator, file_output_path):\n",
    "    # load the best model\n",
    "    model = load_model(os.path.join(file_output_path, 'best_model.h5'))\n",
    "\n",
    "    # evaluate the model\n",
    "    test_loss, test_accuracy = model.evaluate(test_generator, steps=len(test_generator), verbose=1)\n",
    "\n",
    "    # save the evaluation results csv\n",
    "    evaluation_results = pd.DataFrame({'Test Loss': [test_loss], 'Test Accuracy': [test_accuracy]})\n",
    "    evaluation_results.to_csv(os.path.join(file_output_path, 'model_evaluation_results.csv'), index=False)\n",
    "\n",
    "    # show the evaluation results csv\n",
    "    print(\"\\n\")\n",
    "    print(\"*\"*75)\n",
    "    print(tabulate(evaluation_results, headers='keys', tablefmt='pretty'))\n",
    "    print(f\"Model evaluation results saved in {file_output_path} as model_evaluation_results.csv\")"
   ]
  },
  {
   "cell_type": "code",
   "execution_count": 16,
   "metadata": {},
   "outputs": [],
   "source": [
    "# Predict Model Function\n",
    "def predict_model(test_generator, file_output_path):\n",
    "    \"\"\"\n",
    "    Predicts the classes for the given test data using a trained model and saves the predictions, evaluation results,\n",
    "    confusion matrix, and classification report to CSV files.\n",
    "\n",
    "    Args:\n",
    "        test_generator (object): The test data generator.\n",
    "        file_output_path (str): The path to save the output files.\n",
    "\n",
    "    Returns:\n",
    "        None\n",
    "    \"\"\"\n",
    "    # model predictions\n",
    "    # load the model\n",
    "    model = load_model(os.path.join(file_output_path, 'best_model.h5'))\n",
    "    test_dir = 'SplittedFrames/extractedKeyframes_grayscaled/test'\n",
    "\n",
    "    actual_classes = []\n",
    "    predicted_classes = []\n",
    "    predicted_probabilities = []\n",
    "\n",
    "\n",
    "\n",
    "    # Get the total number of files\n",
    "    total_files = sum(len(files) for _, _, files in os.walk('SplittedFrames/extractedKeyframes_grayscaled/test'))\n",
    "\n",
    "    # Create a progress bar\n",
    "    progress_bar = tqdm(total=total_files, desc='Loading')\n",
    "\n",
    "    for folder in os.listdir(test_dir):\n",
    "        if folder.startswith('.'):\n",
    "            continue\n",
    "        for file in os.listdir(os.path.join(test_dir, folder)):\n",
    "            if file.startswith('.'):\n",
    "                continue\n",
    "            actual_classes.append(test_generator.class_indices[folder])\n",
    "\n",
    "            img = cv2.imread(os.path.join(test_dir, folder, file))\n",
    "            img = cv2.resize(img, (224, 224))\n",
    "            img_normalized = img / 255.0\n",
    "            img_array = np.array([img_normalized])\n",
    "\n",
    "            pred = model.predict(img_array, verbose=0)\n",
    "            predicted_probabilities.append(np.array(pred))\n",
    "            predictions = np.argmax(pred)\n",
    "            predicted_classes.append(predictions)\n",
    "            \n",
    "            # Update the progress bar\n",
    "            progress_bar.update(1)\n",
    "    \n",
    "    # Close the progress bar\n",
    "    progress_bar.close()\n",
    "\n",
    "    # get the class labels\n",
    "    class_labels = list(test_generator.class_indices.keys())\n",
    "\n",
    "\n",
    "    \n",
    "    # model predictions evaluation\n",
    "    # confusion matrix\n",
    "    cm = confusion_matrix(actual_classes, predicted_classes)\n",
    "\n",
    "    # classification report\n",
    "    cr = classification_report(actual_classes, predicted_classes, target_names=class_labels)\n",
    "    \n",
    "    # accuracy\n",
    "    accuracy = accuracy_score(actual_classes, predicted_classes)\n",
    "\n",
    "    # precision\n",
    "    precision = precision_score(actual_classes, predicted_classes, average='weighted')\n",
    "\n",
    "    # recall\n",
    "    recall = recall_score(actual_classes, predicted_classes, average='weighted')\n",
    "\n",
    "    # f1-score\n",
    "    f1 = f1_score(actual_classes, predicted_classes, average='weighted')\n",
    "\n",
    "\n",
    "    \n",
    "    # print the confusion matrix and classification report\n",
    "    print(\"\\n\")\n",
    "    print(\"*\"*75)\n",
    "    print(\"Confusion Matrix\".center(75))\n",
    "    print(cm)\n",
    "    print(\"*\"*75)\n",
    "    print(\"Classification Report\".center(75))\n",
    "    print(cr)\n",
    "    print(\"*\"*75)\n",
    "    \n",
    "    # plot confusion matrix\n",
    "    plt.figure(figsize=(10, 10))\n",
    "    plt.imshow(cm, interpolation='nearest', cmap=plt.cm.Blues)\n",
    "    plt.title('Confusion Matrix')\n",
    "    plt.colorbar()\n",
    "    tick_marks = np.arange(len(class_labels))\n",
    "    plt.xticks(tick_marks, class_labels, rotation=45)\n",
    "    plt.yticks(tick_marks, class_labels)\n",
    "\n",
    "    fmt = 'd'\n",
    "    thresh = cm.max() / 2.\n",
    "    for i, j in itertools.product(range(cm.shape[0]), range(cm.shape[1])):\n",
    "        plt.text(j, i, format(cm[i, j], fmt), horizontalalignment=\"center\", color=\"white\" if cm[i, j] > thresh else \"black\")\n",
    "\n",
    "    plt.ylabel('True label')\n",
    "    plt.xlabel('Predicted label')\n",
    "    plt.tight_layout()\n",
    "    plt.savefig(os.path.join(file_output_path, 'confusion_matrix.png'))\n",
    "\n",
    "    \n",
    "    # save the evaluation results\n",
    "    print(\"\\n\")\n",
    "    print(\"*\"*75) \n",
    "    # save the model predictions to a csv\n",
    "    predicted_probabilities = np.array(predicted_probabilities)\n",
    "    predicted_probabilities = np.squeeze(predicted_probabilities, axis=1)\n",
    "    predictions_df = pd.DataFrame(predicted_probabilities, columns=class_labels)\n",
    "    predictions_df['Actual Class'] = actual_classes\n",
    "    predictions_df['Predicted Class'] = predicted_classes\n",
    "    predictions_df.to_csv(os.path.join(file_output_path, 'model_predictions.csv'), index=False)\n",
    "    print(f\"Model predictions saved in {file_output_path} as model_predictions.csv\")\n",
    "\n",
    "    # save the predictions evaluation results to a csv\n",
    "    predictions_evaluation_results = pd.DataFrame({'Accuracy': [accuracy], 'Precision': [precision], 'Recall': [recall], 'F1-Score': [f1]})\n",
    "    predictions_evaluation_results.to_csv(os.path.join(file_output_path, 'model_predictions_evaluation_results.csv'), index=False)\n",
    "    print(f\"Model predictions evaluation results saved in {file_output_path} as model_predictions_evaluation_results.csv\")\n",
    "    \n",
    "    # save the confusion matrix to a csv\n",
    "    cm_df = pd.DataFrame(cm, columns=class_labels, index=class_labels)\n",
    "    cm_df.to_csv(os.path.join(file_output_path, 'confusion_matrix.csv'))\n",
    "    print(\"Confusion matrix saved in {file_output_path} as confusion_matrix.csv\")\n",
    "\n",
    "    # save the classification report to a csv\n",
    "    cr = classification_report(actual_classes, predicted_classes, target_names=class_labels, output_dict=True)\n",
    "    cr_df = pd.DataFrame(cr).transpose()\n",
    "    cr_df.to_csv(os.path.join(file_output_path, 'classification_report.csv'))\n",
    "    print(\"Classification report saved in {file_output_path} as classification_report.csv\")"
   ]
  },
  {
   "cell_type": "code",
   "execution_count": 17,
   "metadata": {},
   "outputs": [
    {
     "name": "stdout",
     "output_type": "stream",
     "text": [
      "****************** PRIORITIZING MEMORY GPU FOR PROCESSING *****************\n",
      "GPU is available\n",
      "1 Physical GPUs, 1 Logical GPUs\n",
      "***************************************************************************\n",
      "Num GPUs Available:  1\n",
      "***************************************************************************\n"
     ]
    },
    {
     "name": "stderr",
     "output_type": "stream",
     "text": [
      "2024-06-04 21:10:19.705201: I metal_plugin/src/device/metal_device.cc:1154] Metal device set to: Apple M1\n",
      "2024-06-04 21:10:19.705227: I metal_plugin/src/device/metal_device.cc:296] systemMemory: 8.00 GB\n",
      "2024-06-04 21:10:19.705238: I metal_plugin/src/device/metal_device.cc:313] maxCacheSize: 2.67 GB\n",
      "2024-06-04 21:10:19.705464: I tensorflow/core/common_runtime/pluggable_device/pluggable_device_factory.cc:303] Could not identify NUMA node of platform GPU ID 0, defaulting to 0. Your kernel may not have been built with NUMA support.\n",
      "2024-06-04 21:10:19.705512: I tensorflow/core/common_runtime/pluggable_device/pluggable_device_factory.cc:269] Created TensorFlow device (/job:localhost/replica:0/task:0/device:GPU:0 with 0 MB memory) -> physical PluggableDevice (device: 0, name: METAL, pci bus id: <undefined>)\n"
     ]
    },
    {
     "name": "stdout",
     "output_type": "stream",
     "text": [
      "tf.Tensor(\n",
      "[[22. 28.]\n",
      " [49. 64.]], shape=(2, 2), dtype=float32)\n",
      "***************************************************************************\n",
      "[PhysicalDevice(name='/physical_device:GPU:0', device_type='GPU')]\n",
      "***************************************************************************\n",
      "1 Physical GPUs, 1 Logical GPU\n"
     ]
    }
   ],
   "source": [
    "# Prioritizing memory GPU for processing (IMPORTANT)\n",
    "print(\" Prioritizing memory GPU for processing \".upper().center(75, \"*\"))\n",
    "\n",
    "gpus = tensorflow.config.list_physical_devices('GPU')\n",
    "if gpus:\n",
    "  print(\"GPU is available\")\n",
    "  try:\n",
    "    # Currently, memory growth needs to be the same across GPUs\n",
    "    for gpu in gpus:\n",
    "      tensorflow.config.experimental.set_memory_growth(gpu, True)\n",
    "    logical_gpus = tensorflow.config.list_logical_devices('GPU')\n",
    "    print(len(gpus), \"Physical GPUs,\", len(logical_gpus), \"Logical GPUs\")\n",
    "  except RuntimeError as e:\n",
    "    # Memory growth must be set before GPUs have been initialized\n",
    "    print(e)\n",
    "\n",
    "print(\"*\"*75)\n",
    "\n",
    "print(\"Num GPUs Available: \", len(tensorflow.config.list_physical_devices('GPU')))\n",
    "\n",
    "# tensorflow.debugging.set_log_device_placement(True)  # log device placement\n",
    "\n",
    "print(\"*\"*75)\n",
    "\n",
    "# Place tensors on the CPU\n",
    "with tensorflow.device('/GPU:0'):\n",
    "  a = tensorflow.constant([[1.0, 2.0, 3.0], [4.0, 5.0, 6.0]])\n",
    "  b = tensorflow.constant([[1.0, 2.0], [3.0, 4.0], [5.0, 6.0]])\n",
    "\n",
    "# Run on the GPU\n",
    "c = tensorflow.matmul(a, b)\n",
    "print(c)\n",
    "\n",
    "print(\"*\"*75)\n",
    "\n",
    "# change processing to GPU\n",
    "print(tensorflow.config.list_physical_devices('GPU'))\n",
    "\n",
    "print(\"*\"*75)\n",
    "\n",
    "# select GPU\n",
    "gpus = tensorflow.config.list_physical_devices('GPU')\n",
    "if gpus:\n",
    "  # Restrict TensorFlow to only use the first GPU\n",
    "  try:\n",
    "    tensorflow.config.set_visible_devices(gpus[0], 'GPU')\n",
    "    logical_gpus = tensorflow.config.list_logical_devices('GPU')\n",
    "    print(len(gpus), \"Physical GPUs,\", len(logical_gpus), \"Logical GPU\")\n",
    "  except RuntimeError as e:\n",
    "    # Visible devices must be set before GPUs have been initialized\n",
    "    print(e)"
   ]
  },
  {
   "cell_type": "markdown",
   "metadata": {},
   "source": [
    "## Main Codes"
   ]
  },
  {
   "cell_type": "code",
   "execution_count": 18,
   "metadata": {},
   "outputs": [],
   "source": [
    "# Set Variables\n",
    "dataset_path = 'Dataset/UCF11_updated_mpg/'\n",
    "extracted_keyframes = 'Frames/extractedFrames/'\n",
    "file_output_path = 'Model/Scenario4/'"
   ]
  },
  {
   "cell_type": "code",
   "execution_count": 19,
   "metadata": {},
   "outputs": [
    {
     "name": "stdout",
     "output_type": "stream",
     "text": [
      "**************************************************\n",
      "**************************************************\n",
      "                 DATA INFORMATION                 \n",
      "**************************************************\n",
      "Number of Labels : 11 Labels\n",
      "Number of Videos : 1600 Videos\n",
      "**************************************************\n",
      "horse_riding         : 198 videos\n",
      "tennis_swing         : 167 videos\n",
      "soccer_juggling      : 156 videos\n",
      "diving               : 156 videos\n",
      "biking               : 145 videos\n",
      "golf_swing           : 142 videos\n",
      "basketball           : 141 videos\n",
      "swing                : 137 videos\n",
      "walking              : 123 videos\n",
      "trampoline_jumping   : 119 videos\n",
      "volleyball_spiking   : 116 videos\n",
      "**************************************************\n",
      "**************************************************\n"
     ]
    }
   ],
   "source": [
    "# Data initialization\n",
    "df_dataset = data_initialization(dataset_path=dataset_path, file_output_path=file_output_path)"
   ]
  },
  {
   "cell_type": "code",
   "execution_count": 20,
   "metadata": {},
   "outputs": [
    {
     "name": "stdout",
     "output_type": "stream",
     "text": [
      "              Label Type                                         Video Path\n",
      "0     volleyball_spiking  Dataset/UCF11_updated_mpg/volleyball_spiking/v...\n",
      "1     volleyball_spiking  Dataset/UCF11_updated_mpg/volleyball_spiking/v...\n",
      "2     volleyball_spiking  Dataset/UCF11_updated_mpg/volleyball_spiking/v...\n",
      "3     volleyball_spiking  Dataset/UCF11_updated_mpg/volleyball_spiking/v...\n",
      "4     volleyball_spiking  Dataset/UCF11_updated_mpg/volleyball_spiking/v...\n",
      "...                  ...                                                ...\n",
      "1595              diving  Dataset/UCF11_updated_mpg/diving/v_diving_08/v...\n",
      "1596              diving  Dataset/UCF11_updated_mpg/diving/v_diving_08/v...\n",
      "1597              diving  Dataset/UCF11_updated_mpg/diving/v_diving_08/v...\n",
      "1598              diving  Dataset/UCF11_updated_mpg/diving/v_diving_08/v...\n",
      "1599              diving  Dataset/UCF11_updated_mpg/diving/v_diving_08/v...\n",
      "\n",
      "[1600 rows x 2 columns]\n"
     ]
    }
   ],
   "source": [
    "# Show the dataset dataframe\n",
    "df_dataset = pd.read_csv(os.path.join(file_output_path, 'dataframe_data_initialization.csv'))\n",
    "print(df_dataset)"
   ]
  },
  {
   "cell_type": "code",
   "execution_count": 28,
   "metadata": {},
   "outputs": [],
   "source": [
    "# # Skip frame extraction if the frames are already extracted \n",
    "# # Frame extraction\n",
    "# frames_extraction_execution_time = convert_videos_to_images(dataframe=df_dataset, extracted_frames_output_folder=extracted_keyframes)"
   ]
  },
  {
   "cell_type": "code",
   "execution_count": 29,
   "metadata": {},
   "outputs": [],
   "source": [
    "# # Skip frame extraction if the frames are already extracted\n",
    "# # Print the execution time\n",
    "# with open(os.path.join(file_output_path, 'execution_time.txt'), 'w') as f:\n",
    "#     f.write(f\"Time taken to convert videos to images : {frames_extraction_execution_time} seconds\")"
   ]
  },
  {
   "cell_type": "code",
   "execution_count": 21,
   "metadata": {},
   "outputs": [
    {
     "name": "stdout",
     "output_type": "stream",
     "text": [
      "**************************************************\n",
      "**************************************************\n",
      "                 DATA INFORMATION                 \n",
      "**************************************************\n",
      "Number of Labels : 11 Labels\n",
      "Number of Images : 306061 Images\n",
      "**************************************************\n",
      "soccer_juggling      : 45737 videos\n",
      "horse_riding         : 38974 videos\n",
      "biking               : 32863 videos\n",
      "walking              : 27728 videos\n",
      "swing                : 27672 videos\n",
      "diving               : 26740 videos\n",
      "tennis_swing         : 26574 videos\n",
      "trampoline_jumping   : 24017 videos\n",
      "golf_swing           : 23673 videos\n",
      "basketball           : 19231 videos\n",
      "volleyball_spiking   : 12852 videos\n",
      "**************************************************\n",
      "**************************************************\n"
     ]
    }
   ],
   "source": [
    "# Data initialization for splitting the dataset\n",
    "df_dataset_extracted  = data_initialization_split(dataset_path=extracted_keyframes, file_output_path=file_output_path)"
   ]
  },
  {
   "cell_type": "code",
   "execution_count": 22,
   "metadata": {},
   "outputs": [
    {
     "name": "stdout",
     "output_type": "stream",
     "text": [
      "                Label Type                                         Image Path\n",
      "0       volleyball_spiking  Frames/extractedFrames/volleyball_spiking/v_sp...\n",
      "1       volleyball_spiking  Frames/extractedFrames/volleyball_spiking/v_sp...\n",
      "2       volleyball_spiking  Frames/extractedFrames/volleyball_spiking/v_sp...\n",
      "3       volleyball_spiking  Frames/extractedFrames/volleyball_spiking/v_sp...\n",
      "4       volleyball_spiking  Frames/extractedFrames/volleyball_spiking/v_sp...\n",
      "...                    ...                                                ...\n",
      "306056              diving  Frames/extractedFrames/diving/v_diving_20_07_f...\n",
      "306057              diving  Frames/extractedFrames/diving/v_diving_25_02_f...\n",
      "306058              diving  Frames/extractedFrames/diving/v_diving_19_01_f...\n",
      "306059              diving  Frames/extractedFrames/diving/v_diving_12_04_f...\n",
      "306060              diving  Frames/extractedFrames/diving/v_diving_11_01_f...\n",
      "\n",
      "[306061 rows x 2 columns]\n"
     ]
    }
   ],
   "source": [
    "# show dataframe from csv\n",
    "df_datasplit = pd.read_csv(os.path.join(file_output_path, 'dataframe_data_initialization_split.csv'))\n",
    "print(df_datasplit)"
   ]
  },
  {
   "cell_type": "code",
   "execution_count": 32,
   "metadata": {},
   "outputs": [
    {
     "name": "stdout",
     "output_type": "stream",
     "text": [
      "Splitting the data into train and test...\n",
      "Data split successfully into train and test!\n",
      "\n",
      "\n",
      "Total image in train set    : 244848 images\n",
      "Total image in test set     : 61213 images\n"
     ]
    }
   ],
   "source": [
    "# # Skip data split if the data is already split\n",
    "# # Split data\n",
    "\n",
    "# # variable\n",
    "# test_size = 0.2\n",
    "\n",
    "# # Split data into train and test\n",
    "# df_train, df_test = split_data(dataframe=df_datasplit, test_size=test_size, file_output_path=file_output_path)"
   ]
  },
  {
   "cell_type": "code",
   "execution_count": 23,
   "metadata": {},
   "outputs": [
    {
     "name": "stdout",
     "output_type": "stream",
     "text": [
      "Found 195883 images belonging to 11 classes.\n",
      "Found 48965 images belonging to 11 classes.\n",
      "Found 61213 images belonging to 11 classes.\n"
     ]
    }
   ],
   "source": [
    "# Data Augmentation\n",
    "\n",
    "# Image size\n",
    "img_width, img_height = 224, 224\n",
    "\n",
    "# Batch size\n",
    "batch_size = 32\n",
    "\n",
    "# Load data\n",
    "train_generator, val_generator, test_generator = data_augmentation(img_width, img_height, batch_size)"
   ]
  },
  {
   "cell_type": "code",
   "execution_count": 25,
   "metadata": {},
   "outputs": [
    {
     "name": "stdout",
     "output_type": "stream",
     "text": [
      "Learning Rate: 0.0001\n",
      "Epoch 1/100\n"
     ]
    },
    {
     "name": "stderr",
     "output_type": "stream",
     "text": [
      "2024-05-02 21:55:25.929914: I tensorflow/core/grappler/optimizers/custom_graph_optimizer_registry.cc:114] Plugin optimizer for device_type GPU is enabled.\n"
     ]
    },
    {
     "name": "stdout",
     "output_type": "stream",
     "text": [
      "6122/6122 [==============================] - ETA: 0s - loss: 0.5217 - accuracy: 0.8502"
     ]
    },
    {
     "name": "stderr",
     "output_type": "stream",
     "text": [
      "2024-05-02 22:21:06.536150: I tensorflow/core/grappler/optimizers/custom_graph_optimizer_registry.cc:114] Plugin optimizer for device_type GPU is enabled.\n"
     ]
    },
    {
     "name": "stdout",
     "output_type": "stream",
     "text": [
      "\n",
      "Epoch 1: val_accuracy improved from -inf to 0.70224, saving model to Model/Scenario4/Scenario4_mobilenetv2_checkpoint_epoch_01_val_loss_0.91_val_accuracy_0.70_loss_0.52_accuracy_0.85.h5\n"
     ]
    },
    {
     "name": "stderr",
     "output_type": "stream",
     "text": [
      "/Users/rikza/tensorflow-test/env/lib/python3.8/site-packages/keras/src/engine/training.py:3000: UserWarning: You are saving your model as an HDF5 file via `model.save()`. This file format is considered legacy. We recommend using instead the native Keras format, e.g. `model.save('my_model.keras')`.\n",
      "  saving_api.save_model(\n"
     ]
    },
    {
     "name": "stdout",
     "output_type": "stream",
     "text": [
      "6122/6122 [==============================] - 1904s 311ms/step - loss: 0.5217 - accuracy: 0.8502 - val_loss: 0.9102 - val_accuracy: 0.7022\n",
      "Epoch 2/100\n",
      "6122/6122 [==============================] - ETA: 0s - loss: 0.1946 - accuracy: 0.9483\n",
      "Epoch 2: val_accuracy improved from 0.70224 to 0.71077, saving model to Model/Scenario4/Scenario4_mobilenetv2_checkpoint_epoch_02_val_loss_0.89_val_accuracy_0.71_loss_0.19_accuracy_0.95.h5\n",
      "6122/6122 [==============================] - 1878s 307ms/step - loss: 0.1946 - accuracy: 0.9483 - val_loss: 0.8945 - val_accuracy: 0.7108\n",
      "Epoch 3/100\n",
      "6122/6122 [==============================] - ETA: 0s - loss: 0.1398 - accuracy: 0.9630\n",
      "Epoch 3: val_accuracy improved from 0.71077 to 0.71878, saving model to Model/Scenario4/Scenario4_mobilenetv2_checkpoint_epoch_03_val_loss_0.90_val_accuracy_0.72_loss_0.14_accuracy_0.96.h5\n",
      "6122/6122 [==============================] - 2013s 329ms/step - loss: 0.1398 - accuracy: 0.9630 - val_loss: 0.8954 - val_accuracy: 0.7188\n",
      "Epoch 4/100\n",
      "6122/6122 [==============================] - ETA: 0s - loss: 0.1151 - accuracy: 0.9688\n",
      "Epoch 4: val_accuracy improved from 0.71878 to 0.71927, saving model to Model/Scenario4/Scenario4_mobilenetv2_checkpoint_epoch_04_val_loss_0.89_val_accuracy_0.72_loss_0.12_accuracy_0.97.h5\n",
      "6122/6122 [==============================] - 2003s 327ms/step - loss: 0.1151 - accuracy: 0.9688 - val_loss: 0.8926 - val_accuracy: 0.7193\n",
      "Epoch 5/100\n",
      "6122/6122 [==============================] - ETA: 0s - loss: 0.0992 - accuracy: 0.9736\n",
      "Epoch 5: val_accuracy did not improve from 0.71927\n",
      "6122/6122 [==============================] - 1752s 286ms/step - loss: 0.0992 - accuracy: 0.9736 - val_loss: 0.9162 - val_accuracy: 0.7175\n",
      "Epoch 6/100\n",
      "6122/6122 [==============================] - ETA: 0s - loss: 0.0892 - accuracy: 0.9756\n",
      "Epoch 6: val_accuracy improved from 0.71927 to 0.72054, saving model to Model/Scenario4/Scenario4_mobilenetv2_checkpoint_epoch_06_val_loss_0.92_val_accuracy_0.72_loss_0.09_accuracy_0.98.h5\n",
      "6122/6122 [==============================] - 1757s 287ms/step - loss: 0.0892 - accuracy: 0.9756 - val_loss: 0.9233 - val_accuracy: 0.7205\n",
      "Epoch 7/100\n",
      "6122/6122 [==============================] - ETA: 0s - loss: 0.0804 - accuracy: 0.9780\n",
      "Epoch 7: val_accuracy improved from 0.72054 to 0.72239, saving model to Model/Scenario4/Scenario4_mobilenetv2_checkpoint_epoch_07_val_loss_0.93_val_accuracy_0.72_loss_0.08_accuracy_0.98.h5\n",
      "6122/6122 [==============================] - 1768s 289ms/step - loss: 0.0804 - accuracy: 0.9780 - val_loss: 0.9339 - val_accuracy: 0.7224\n",
      "Epoch 8/100\n",
      "6122/6122 [==============================] - ETA: 0s - loss: 0.0749 - accuracy: 0.9795\n",
      "Epoch 8: val_accuracy did not improve from 0.72239\n",
      "6122/6122 [==============================] - 1751s 286ms/step - loss: 0.0749 - accuracy: 0.9795 - val_loss: 0.9500 - val_accuracy: 0.7181\n",
      "Epoch 9/100\n",
      "6122/6122 [==============================] - ETA: 0s - loss: 0.0701 - accuracy: 0.9807\n",
      "Epoch 9: val_accuracy improved from 0.72239 to 0.72333, saving model to Model/Scenario4/Scenario4_mobilenetv2_checkpoint_epoch_09_val_loss_0.92_val_accuracy_0.72_loss_0.07_accuracy_0.98.h5\n",
      "6122/6122 [==============================] - 1741s 284ms/step - loss: 0.0701 - accuracy: 0.9807 - val_loss: 0.9207 - val_accuracy: 0.7233\n",
      "Epoch 10/100\n",
      "6122/6122 [==============================] - ETA: 0s - loss: 0.0658 - accuracy: 0.9818\n",
      "Epoch 10: val_accuracy did not improve from 0.72333\n",
      "6122/6122 [==============================] - 1792s 293ms/step - loss: 0.0658 - accuracy: 0.9818 - val_loss: 0.9435 - val_accuracy: 0.7226\n",
      "Epoch 11/100\n",
      "6122/6122 [==============================] - ETA: 0s - loss: 0.0626 - accuracy: 0.9828\n",
      "Epoch 11: val_accuracy did not improve from 0.72333\n",
      "6122/6122 [==============================] - 1863s 304ms/step - loss: 0.0626 - accuracy: 0.9828 - val_loss: 0.9654 - val_accuracy: 0.7192\n",
      "Epoch 12/100\n",
      "6122/6122 [==============================] - ETA: 0s - loss: 0.0594 - accuracy: 0.9836\n",
      "Epoch 12: val_accuracy did not improve from 0.72333\n",
      "6122/6122 [==============================] - 1924s 314ms/step - loss: 0.0594 - accuracy: 0.9836 - val_loss: 0.9605 - val_accuracy: 0.7221\n",
      "Epoch 13/100\n",
      "6122/6122 [==============================] - ETA: 0s - loss: 0.0575 - accuracy: 0.9840\n",
      "Epoch 13: val_accuracy did not improve from 0.72333\n",
      "6122/6122 [==============================] - 2334s 381ms/step - loss: 0.0575 - accuracy: 0.9840 - val_loss: 0.9759 - val_accuracy: 0.7192\n",
      "Epoch 14/100\n",
      "6122/6122 [==============================] - ETA: 0s - loss: 0.0550 - accuracy: 0.9844\n",
      "Epoch 14: val_accuracy did not improve from 0.72333\n",
      "6122/6122 [==============================] - 2483s 406ms/step - loss: 0.0550 - accuracy: 0.9844 - val_loss: 0.9938 - val_accuracy: 0.7152\n",
      "Time taken to train the 0.0001 model : 26965.08 seconds\n"
     ]
    }
   ],
   "source": [
    "# call the grid search function\n",
    "learning_rate = [0.0001]\n",
    "epochs = 100\n",
    "\n",
    "best_accuracy, best_learning_rate, best_model, best_execution_time = grid_search(learning_rate, epochs, train_generator, val_generator, file_output_path)"
   ]
  },
  {
   "cell_type": "code",
   "execution_count": 26,
   "metadata": {},
   "outputs": [
    {
     "name": "stdout",
     "output_type": "stream",
     "text": [
      "*****************************************************************\n",
      "*****************************************************************\n",
      "                       GRID SEARCH RESULTS                       \n",
      "*****************************************************************\n",
      "Best Learning Rate              : 0.0001\n",
      "Best Accuracy                   : 0.9844294786453247\n",
      "Best Execution Time (seconds)   : 7:29:25\n",
      "Best Execution Time (hh:mm:ss)  : 7:29:25\n",
      "*****************************************************************\n",
      "                    Summary of the Best Model                    \n",
      "Model: \"MobileNetV2\"\n",
      "_________________________________________________________________\n",
      " Layer (type)                Output Shape              Param #   \n",
      "=================================================================\n",
      " mobilenetv2_1.00_224_input  [(None, 224, 224, 3)]     0         \n",
      "  (InputLayer)                                                   \n",
      "                                                                 \n",
      " mobilenetv2_1.00_224 (Func  (None, 7, 7, 1280)        2257984   \n",
      " tional)                                                         \n",
      "                                                                 \n",
      " global_average_pooling2d (  (None, 1280)              0         \n",
      " GlobalAveragePooling2D)                                         \n",
      "                                                                 \n",
      " predictions (Dense)         (None, 11)                14091     \n",
      "                                                                 \n",
      "=================================================================\n",
      "Total params: 2272075 (8.67 MB)\n",
      "Trainable params: 14091 (55.04 KB)\n",
      "Non-trainable params: 2257984 (8.61 MB)\n",
      "_________________________________________________________________\n",
      "*****************************************************************\n",
      "\n"
     ]
    }
   ],
   "source": [
    "# print grid search results\n",
    "gs_print(accuracy=best_accuracy, learning_rate=best_learning_rate, model=best_model, execution_time=best_execution_time, file_output_path=file_output_path)"
   ]
  },
  {
   "cell_type": "code",
   "execution_count": 27,
   "metadata": {},
   "outputs": [
    {
     "data": {
      "image/png": "[encoded data removed]",
      "text/plain": [
       "<Figure size 1200x600 with 2 Axes>"
      ]
     },
     "metadata": {},
     "output_type": "display_data"
    }
   ],
   "source": [
    "# Save the Model Plot\n",
    "save_plot_model(file_output_path=file_output_path)"
   ]
  },
  {
   "cell_type": "code",
   "execution_count": 28,
   "metadata": {},
   "outputs": [
    {
     "name": "stderr",
     "output_type": "stream",
     "text": [
      "2024-05-03 05:24:52.589885: I tensorflow/core/grappler/optimizers/custom_graph_optimizer_registry.cc:114] Plugin optimizer for device_type GPU is enabled.\n"
     ]
    },
    {
     "name": "stdout",
     "output_type": "stream",
     "text": [
      "1913/1913 [==============================] - 386s 202ms/step - loss: 4.4174 - accuracy: 0.1015\n",
      "\n",
      "\n",
      "***************************************************************************\n",
      "+---+-------------------+--------------------+\n",
      "|   |     Test Loss     |   Test Accuracy    |\n",
      "+---+-------------------+--------------------+\n",
      "| 0 | 4.417407035827637 | 0.1014653742313385 |\n",
      "+---+-------------------+--------------------+\n",
      "Model evaluation results saved in Model/Scenario4/ as model_evaluation_results.csv\n"
     ]
    }
   ],
   "source": [
    "# Evaluate the Model\n",
    "evaluate_model(test_generator=test_generator, file_output_path=file_output_path)"
   ]
  },
  {
   "cell_type": "code",
   "execution_count": 29,
   "metadata": {},
   "outputs": [
    {
     "name": "stderr",
     "output_type": "stream",
     "text": [
      "Loading:   0%|          | 0/2911 [00:00<?, ?it/s]2024-05-03 05:31:20.973303: I tensorflow/core/grappler/optimizers/custom_graph_optimizer_registry.cc:114] Plugin optimizer for device_type GPU is enabled.\n",
      "Loading: 100%|█████████▉| 2910/2911 [01:49<00:00, 26.54it/s]\n"
     ]
    },
    {
     "name": "stdout",
     "output_type": "stream",
     "text": [
      "\n",
      "\n",
      "***************************************************************************\n",
      "                              Confusion Matrix                             \n",
      "[[165   0   2   0   0   0   0  13   0   6   1]\n",
      " [  2 290   0   1   1   3   1   1   1   0   6]\n",
      " [  0   0 253   0   0   0   0   0   0   0   0]\n",
      " [  1   1   0 236   0   6   1   0   1   0   0]\n",
      " [  0   0   0   0 352   2   0   0   0   0   0]\n",
      " [  0   1   0  24   0 421   2  10   0   0  10]\n",
      " [  0   3   0   4   1   3 190   0   4   0   2]\n",
      " [ 11   0   0   1   0   3   0 238   0   0   0]\n",
      " [  0   2   1   0   2   0   3   0 218   0   2]\n",
      " [  0   1   2   0   0   0   0   0   0 117   0]\n",
      " [  3   3   0   3   2   8   5   0   1   0 263]]\n",
      "***************************************************************************\n",
      "                           Classification Report                           \n",
      "                    precision    recall  f1-score   support\n",
      "\n",
      "        basketball       0.91      0.88      0.89       187\n",
      "            biking       0.96      0.95      0.96       306\n",
      "            diving       0.98      1.00      0.99       253\n",
      "        golf_swing       0.88      0.96      0.92       246\n",
      "      horse_riding       0.98      0.99      0.99       354\n",
      "   soccer_juggling       0.94      0.90      0.92       468\n",
      "             swing       0.94      0.92      0.93       207\n",
      "      tennis_swing       0.91      0.94      0.92       253\n",
      "trampoline_jumping       0.97      0.96      0.96       228\n",
      "volleyball_spiking       0.95      0.97      0.96       120\n",
      "           walking       0.93      0.91      0.92       288\n",
      "\n",
      "          accuracy                           0.94      2910\n",
      "         macro avg       0.94      0.94      0.94      2910\n",
      "      weighted avg       0.94      0.94      0.94      2910\n",
      "\n",
      "***************************************************************************\n",
      "\n",
      "\n",
      "***************************************************************************\n",
      "Model predictions saved in Model/Scenario4/ as model_predictions.csv\n",
      "Model predictions evaluation results saved in Model/Scenario4/ as model_predictions_evaluation_results.csv\n",
      "Confusion matrix saved in {file_output_path} as confusion_matrix.csv\n",
      "Classification report saved in {file_output_path} as classification_report.csv\n"
     ]
    },
    {
     "data": {
      "image/png": "[encoded data removed]",
      "text/plain": [
       "<Figure size 1000x1000 with 2 Axes>"
      ]
     },
     "metadata": {},
     "output_type": "display_data"
    }
   ],
   "source": [
    "# Predict the Model\n",
    "predict_model(test_generator=test_generator, file_output_path=file_output_path)"
   ]
  },
  {
   "cell_type": "markdown",
   "metadata": {},
   "source": [
    "## Manual Evaluation"
   ]
  },
  {
   "cell_type": "code",
   "execution_count": 24,
   "metadata": {},
   "outputs": [
    {
     "name": "stderr",
     "output_type": "stream",
     "text": [
      "Loading:   0%|          | 0/2911 [00:00<?, ?it/s]2024-06-04 21:10:59.851325: I tensorflow/core/grappler/optimizers/custom_graph_optimizer_registry.cc:114] Plugin optimizer for device_type GPU is enabled.\n",
      "Loading: 100%|█████████▉| 2910/2911 [01:55<00:00, 25.28it/s]"
     ]
    },
    {
     "name": "stdout",
     "output_type": "stream",
     "text": [
      "Accuracy: 0.9426116838487972\n",
      "Precision: 0.6575963718820862\n",
      "Recall: 0.9477124183006536\n",
      "F1-Score: 0.7764390896921018\n"
     ]
    },
    {
     "name": "stderr",
     "output_type": "stream",
     "text": [
      "\n"
     ]
    }
   ],
   "source": [
    "# model predictions\n",
    "# load the model\n",
    "model = load_model(os.path.join(file_output_path, 'best_model.h5'))\n",
    "test_dir = 'SplittedFrames/extractedKeyframes_grayscaled/test'\n",
    "\n",
    "actual_classes = []\n",
    "predicted_classes = []\n",
    "predicted_probabilities = []\n",
    "\n",
    "\n",
    "# Get the total number of files\n",
    "total_files = sum(len(files) for _, _, files in os.walk('SplittedFrames/extractedKeyframes_grayscaled/test'))\n",
    "\n",
    "# Create a progress bar\n",
    "progress_bar = tqdm(total=total_files, desc='Loading')\n",
    "\n",
    "for folder in os.listdir(test_dir):\n",
    "    if folder.startswith('.'):\n",
    "        continue\n",
    "    for file in os.listdir(os.path.join(test_dir, folder)):\n",
    "        if file.startswith('.'):\n",
    "            continue\n",
    "        actual_classes.append(test_generator.class_indices[folder])\n",
    "\n",
    "        img = cv2.imread(os.path.join(test_dir, folder, file))\n",
    "        img = cv2.resize(img, (224, 224))\n",
    "        img_normalized = img / 255.0\n",
    "        img_array = np.array([img_normalized])\n",
    "\n",
    "        pred = model.predict(img_array, verbose=0)\n",
    "        predicted_probabilities.append(np.array(pred))\n",
    "        predictions = np.argmax(pred)\n",
    "        predicted_classes.append(predictions)\n",
    "        \n",
    "        # Update the progress bar\n",
    "        progress_bar.update(1)\n",
    "\n",
    "# Close the progress bar\n",
    "progress_bar.close()\n",
    "\n",
    "# get the class labels\n",
    "class_labels = list(test_generator.class_indices.keys())\n",
    "\n",
    "# model predictions evaluation\n",
    "# calculate  TP, TN, FP, FN\n",
    "TP = 0\n",
    "TN = 0\n",
    "FP = 0\n",
    "FN = 0\n",
    "\n",
    "for i in range(len(actual_classes)):\n",
    "    if actual_classes[i] == predicted_classes[i]:\n",
    "        if actual_classes[i] == 1:\n",
    "            TP += 1\n",
    "        else:\n",
    "            TN += 1\n",
    "    else:\n",
    "        if actual_classes[i] == 1:\n",
    "            FN += 1\n",
    "        else:\n",
    "            FP += 1\n",
    "\n",
    "# calculate accuracy\n",
    "accuracy = (TP + TN) / (TP + TN + FP + FN)\n",
    "print(f\"Accuracy: {accuracy}\")\n",
    "\n",
    "# calculate precision\n",
    "precision = TP / (TP + FP)\n",
    "print(f\"Precision: {precision}\")\n",
    "\n",
    "# calculate recall\n",
    "recall = TP / (TP + FN)\n",
    "print(f\"Recall: {recall}\")\n",
    "\n",
    "# calculate f1-score\n",
    "f1 = (2 * precision * recall) / (precision + recall)\n",
    "print(f\"F1-Score: {f1}\")\n"
   ]
  },
  {
   "cell_type": "code",
   "execution_count": 25,
   "metadata": {},
   "outputs": [
    {
     "name": "stdout",
     "output_type": "stream",
     "text": [
      "[[165   0   2   0   0   0   0  13   0   6   1]\n",
      " [  2 290   0   1   1   3   1   1   1   0   6]\n",
      " [  0   0 253   0   0   0   0   0   0   0   0]\n",
      " [  1   1   0 236   0   6   1   0   1   0   0]\n",
      " [  0   0   0   0 352   2   0   0   0   0   0]\n",
      " [  0   1   0  24   0 421   2  10   0   0  10]\n",
      " [  0   3   0   4   1   3 190   0   4   0   2]\n",
      " [ 11   0   0   1   0   3   0 238   0   0   0]\n",
      " [  0   2   1   0   2   0   3   0 218   0   2]\n",
      " [  0   1   2   0   0   0   0   0   0 117   0]\n",
      " [  3   3   0   3   2   8   5   0   1   0 263]]\n"
     ]
    }
   ],
   "source": [
    "from sklearn.metrics import confusion_matrix\n",
    "y_true = actual_classes\n",
    "y_pred = predicted_classes\n",
    "cm = confusion_matrix(y_true, y_pred)\n",
    "print(cm)"
   ]
  },
  {
   "cell_type": "code",
   "execution_count": 26,
   "metadata": {},
   "outputs": [
    {
     "name": "stdout",
     "output_type": "stream",
     "text": [
      "{0: {'tp': 165, 'fp': 17, 'fn': 22}, 1: {'tp': 290, 'fp': 11, 'fn': 16}, 2: {'tp': 253, 'fp': 5, 'fn': 0}, 3: {'tp': 236, 'fp': 33, 'fn': 10}, 4: {'tp': 352, 'fp': 6, 'fn': 2}, 5: {'tp': 421, 'fp': 25, 'fn': 47}, 6: {'tp': 190, 'fp': 12, 'fn': 17}, 7: {'tp': 238, 'fp': 24, 'fn': 15}, 8: {'tp': 218, 'fp': 7, 'fn': 10}, 9: {'tp': 117, 'fp': 6, 'fn': 3}, 10: {'tp': 263, 'fp': 21, 'fn': 25}}\n"
     ]
    }
   ],
   "source": [
    "num_classes = len(cm)  # Assuming a square matrix\n",
    "class_wise_metrics = {}\n",
    "\n",
    "for class_index in range(num_classes):\n",
    "  # Extract elements from the confusion matrix\n",
    "  tp = cm[class_index, class_index]  # True Positives (diagonal cell)\n",
    "  fp_values = cm[:, class_index]  # All values in the row (excluding diagonal)\n",
    "  fn_values = cm[class_index]  # All values in the column (excluding diagonal)\n",
    "\n",
    "  # Calculate FP (excluding diagonal cell)\n",
    "  fp = np.sum(fp_values) - tp\n",
    "\n",
    "  # Calculate FN (excluding diagonal cell)\n",
    "  fn = np.sum(fn_values) - tp\n",
    "\n",
    "  # Store results for this class\n",
    "  class_wise_metrics[class_index] = {\n",
    "      \"tp\": tp,\n",
    "      \"fp\": fp,\n",
    "      \"fn\": fn\n",
    "  }\n",
    "print(class_wise_metrics)"
   ]
  },
  {
   "cell_type": "code",
   "execution_count": 27,
   "metadata": {},
   "outputs": [
    {
     "name": "stdout",
     "output_type": "stream",
     "text": [
      "{0: {'tp': 165, 'fp': 17, 'fn': 22, 'tn': 2706}, 1: {'tp': 290, 'fp': 11, 'fn': 16, 'tn': 2593}, 2: {'tp': 253, 'fp': 5, 'fn': 0, 'tn': 2652}, 3: {'tp': 236, 'fp': 33, 'fn': 10, 'tn': 2631}, 4: {'tp': 352, 'fp': 6, 'fn': 2, 'tn': 2550}, 5: {'tp': 421, 'fp': 25, 'fn': 47, 'tn': 2417}, 6: {'tp': 190, 'fp': 12, 'fn': 17, 'tn': 2691}, 7: {'tp': 238, 'fp': 24, 'fn': 15, 'tn': 2633}, 8: {'tp': 218, 'fp': 7, 'fn': 10, 'tn': 2675}, 9: {'tp': 117, 'fp': 6, 'fn': 3, 'tn': 2784}, 10: {'tp': 263, 'fp': 21, 'fn': 25, 'tn': 2601}}\n"
     ]
    }
   ],
   "source": [
    "total_data_points = len(y_true)  # Assuming y_true has all data points\n",
    "\n",
    "for class_index in range(num_classes):\n",
    "  # Get metrics from previous step\n",
    "  tp = class_wise_metrics[class_index][\"tp\"]\n",
    "  fp = class_wise_metrics[class_index][\"fp\"]\n",
    "  fn = class_wise_metrics[class_index][\"fn\"]\n",
    "\n",
    "  # Calculate TN (all other classes classified correctly)\n",
    "  tn = total_data_points - (tp + fp + fn)\n",
    "\n",
    "  # Update dictionary with TN\n",
    "  class_wise_metrics[class_index][\"tn\"] = tn\n",
    "\n",
    "print(class_wise_metrics)\n"
   ]
  },
  {
   "cell_type": "code",
   "execution_count": 39,
   "metadata": {},
   "outputs": [
    {
     "name": "stdout",
     "output_type": "stream",
     "text": [
      "                    accuracy  precision    recall  f1_score\n",
      "basketball          0.986598   0.906593  0.882353  0.894309\n",
      "biking              0.990722   0.963455  0.947712  0.955519\n",
      "diving              0.998282   0.980620  1.000000  0.990215\n",
      "golf_swing          0.985223   0.877323  0.959350  0.916505\n",
      "horse_riding        0.997251   0.983240  0.994350  0.988764\n",
      "soccer_juggling     0.975258   0.943946  0.899573  0.921225\n",
      "swing               0.990034   0.940594  0.917874  0.929095\n",
      "tennis_swing        0.986598   0.908397  0.940711  0.924272\n",
      "trampoline_jumping  0.994158   0.968889  0.956140  0.962472\n",
      "volleyball_spiking  0.996907   0.951220  0.975000  0.962963\n",
      "walking             0.984192   0.926056  0.913194  0.919580\n"
     ]
    }
   ],
   "source": [
    "# calculate accuracy, recall, precision, and F1-score for each class\n",
    "class_metrics = {}\n",
    "\n",
    "for class_index in range(num_classes):\n",
    "    tp = class_wise_metrics[class_index][\"tp\"]\n",
    "    fp = class_wise_metrics[class_index][\"fp\"]\n",
    "    fn = class_wise_metrics[class_index][\"fn\"]\n",
    "    tn = class_wise_metrics[class_index][\"tn\"]\n",
    "    \n",
    "    # Calculate metrics\n",
    "    accuracy = (tp + tn) / (tp+tn+fp+fn)\n",
    "    accuracy = (tp + tn) / 2910\n",
    "    # accuracy = np.trace(cm) / total_data_points\n",
    "    precision = tp / (tp + fp)\n",
    "    recall = tp / (tp + fn)\n",
    "    f1_score = 2 * (precision * recall) / (precision + recall)\n",
    "\n",
    "    # Store metrics for this class with class name sorted \n",
    "    class_name = class_labels[class_index]\n",
    "    class_metrics[class_name] = {\n",
    "        \"accuracy\": accuracy,\n",
    "        \"precision\": precision,\n",
    "        \"recall\": recall,\n",
    "        \"f1_score\": f1_score\n",
    "    }\n",
    "\n",
    "# to dataframe\n",
    "class_metrics_df = pd.DataFrame(class_metrics).T\n",
    "\n",
    "# save to csv\n",
    "class_metrics_df.to_csv(os.path.join(file_output_path, 'class_metrics.csv'))\n",
    "\n",
    "print(class_metrics_df)"
   ]
  },
  {
   "cell_type": "code",
   "execution_count": 41,
   "metadata": {},
   "outputs": [
    {
     "name": "stdout",
     "output_type": "stream",
     "text": [
      "   Accuracy  Precision  Recall  F1-Score\n",
      "0      0.99       0.94    0.94      0.94\n"
     ]
    }
   ],
   "source": [
    "# class metrics df average precision, recall, f1-score\n",
    "average_accuracy = class_metrics_df['accuracy'].mean()\n",
    "average_precision = class_metrics_df['precision'].mean()\n",
    "average_recall = class_metrics_df['recall'].mean()\n",
    "average_f1_score = class_metrics_df['f1_score'].mean()\n",
    "\n",
    "# dataframe\n",
    "average_metrics = pd.DataFrame({\n",
    "    'Accuracy': [average_accuracy],\n",
    "    'Precision': [average_precision],\n",
    "    'Recall': [average_recall],\n",
    "    'F1-Score': [average_f1_score]\n",
    "})\n",
    "\n",
    "# save to csv\n",
    "average_metrics.to_csv(os.path.join(file_output_path, 'model_predictions_evaluation_results_manual_calc.csv'))\n",
    "print(round(average_metrics, 2))"
   ]
  },
  {
   "cell_type": "code",
   "execution_count": 29,
   "metadata": {},
   "outputs": [
    {
     "name": "stdout",
     "output_type": "stream",
     "text": [
      "            Unnamed: 0  precision    recall  f1-score      support\n",
      "0           basketball   0.906593  0.882353  0.894309   187.000000\n",
      "1               biking   0.963455  0.947712  0.955519   306.000000\n",
      "2               diving   0.980620  1.000000  0.990215   253.000000\n",
      "3           golf_swing   0.877323  0.959350  0.916505   246.000000\n",
      "4         horse_riding   0.983240  0.994350  0.988764   354.000000\n",
      "5      soccer_juggling   0.943946  0.899573  0.921225   468.000000\n",
      "6                swing   0.940594  0.917874  0.929095   207.000000\n",
      "7         tennis_swing   0.908397  0.940711  0.924272   253.000000\n",
      "8   trampoline_jumping   0.968889  0.956140  0.962472   228.000000\n",
      "9   volleyball_spiking   0.951220  0.975000  0.962963   120.000000\n",
      "10             walking   0.926056  0.913194  0.919580   288.000000\n",
      "11            accuracy   0.942612  0.942612  0.942612     0.942612\n",
      "12           macro avg   0.940939  0.944205  0.942265  2910.000000\n",
      "13        weighted avg   0.943088  0.942612  0.942532  2910.000000\n"
     ]
    }
   ],
   "source": [
    "# open classification report csv file\n",
    "classification_report = pd.read_csv(os.path.join(file_output_path, 'classification_report.csv'))\n",
    "print(classification_report)"
   ]
  }
 ],
 "metadata": {
  "kernelspec": {
   "display_name": "Python 3",
   "language": "python",
   "name": "python3"
  },
  "language_info": {
   "codemirror_mode": {
    "name": "ipython",
    "version": 3
   },
   "file_extension": ".py",
   "mimetype": "text/x-python",
   "name": "python",
   "nbconvert_exporter": "python",
   "pygments_lexer": "ipython3",
   "version": "3.8.17"
  }
 },
 "nbformat": 4,
 "nbformat_minor": 2
}
