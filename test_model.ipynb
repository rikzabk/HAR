{
 "cells": [
  {
   "cell_type": "code",
   "execution_count": 23,
   "metadata": {},
   "outputs": [],
   "source": [
    "import tensorflow as tf\n",
    "import os\n",
    "import numpy as np\n",
    "from keras.models import load_model\n",
    "from Katna.video import Video\n",
    "from Katna.writer import KeyFrameDiskWriter"
   ]
  },
  {
   "cell_type": "code",
   "execution_count": 10,
   "metadata": {},
   "outputs": [],
   "source": [
    "model = load_model('Model/Scenario1/best_model.h5')"
   ]
  },
  {
   "cell_type": "code",
   "execution_count": 11,
   "metadata": {},
   "outputs": [],
   "source": [
    "video_file_path = 'Dataset/UCF11_updated_mpg/basketball/v_shooting_07/v_shooting_07_01.mp4'"
   ]
  },
  {
   "cell_type": "code",
   "execution_count": null,
   "metadata": {},
   "outputs": [],
   "source": [
    "actual_class = video_file_path.split('/')[-3]\n",
    "predicted_classes = []\n",
    "predicted_probabilities = []\n",
    "\n",
    "img = tf.keras.preprocessing.image.load_img(video_file_path, target_size=(224, 224))\n",
    "img_array = tf.keras.preprocessing.image.img_to_array(img)\n",
    "img_array = tf.expand_dims(img_array, 0)\n",
    "\n",
    "predictions = model.predict(img_array)\n",
    "predicted_class = predictions[0]\n",
    "predicted_classes.append(predicted_class)\n",
    "predicted_probabilities.append(max(predicted_class))\n",
    "\n",
    "print('Actual Class:', actual_class)\n",
    "print('Predicted Class:', predicted_classes)\n",
    "print('Predicted Probabilities:', predicted_probabilities)"
   ]
  },
  {
   "cell_type": "code",
   "execution_count": 16,
   "metadata": {},
   "outputs": [
    {
     "name": "stdout",
     "output_type": "stream",
     "text": [
      "Completed processing for :  Dataset/UCF11_updated_mpg/basketball/v_shooting_07/v_shooting_07_01.mp4\n"
     ]
    }
   ],
   "source": [
    "# convert video to frames\n",
    "vd = Video()\n",
    "\n",
    "# get the frames\n",
    "frames = 100\n",
    "\n",
    "diskwriter = KeyFrameDiskWriter(location = 'clipped/')\n",
    "\n",
    "vd.extract_video_keyframes(no_of_frames=frames, file_path=video_file_path, writer=diskwriter)"
   ]
  },
  {
   "cell_type": "code",
   "execution_count": 20,
   "metadata": {},
   "outputs": [
    {
     "name": "stdout",
     "output_type": "stream",
     "text": [
      "['v_shooting_07_01_6.jpeg', 'v_shooting_07_01_0.jpeg', 'v_shooting_07_01_1.jpeg', 'v_shooting_07_01_2.jpeg', 'v_shooting_07_01_3.jpeg', 'v_shooting_07_01_4.jpeg', 'v_shooting_07_01_5.jpeg']\n"
     ]
    }
   ],
   "source": [
    "image_path = 'clipped/'\n",
    "image_files = [image for image in os.listdir(image_path) if image.endswith('.jpeg')]\n",
    "\n",
    "print(image_files)"
   ]
  },
  {
   "cell_type": "code",
   "execution_count": null,
   "metadata": {},
   "outputs": [],
   "source": [
    "class_labels"
   ]
  },
  {
   "cell_type": "code",
   "execution_count": 25,
   "metadata": {},
   "outputs": [
    {
     "name": "stdout",
     "output_type": "stream",
     "text": [
      "1/1 [==============================] - 0s 17ms/step\n",
      "Actual Class: basketball\n",
      "Predicted Class: [array([1., 0., 0., 0., 0., 0., 0., 0., 0., 0., 0.], dtype=float32), array([1., 0., 0., 0., 0., 0., 0., 0., 0., 0., 0.], dtype=float32), array([1., 0., 0., 0., 0., 0., 0., 0., 0., 0., 0.], dtype=float32), array([1., 0., 0., 0., 0., 0., 0., 0., 0., 0., 0.], dtype=float32), array([1., 0., 0., 0., 0., 0., 0., 0., 0., 0., 0.], dtype=float32), array([1., 0., 0., 0., 0., 0., 0., 0., 0., 0., 0.], dtype=float32), array([1., 0., 0., 0., 0., 0., 0., 0., 0., 0., 0.], dtype=float32), 0, 0]\n",
      "Predicted Probabilities: [1.0, 1.0, 1.0, 1.0, 1.0, 1.0, 1.0]\n",
      "-----------------------------------\n",
      "1/1 [==============================] - 0s 13ms/step\n",
      "Actual Class: basketball\n",
      "Predicted Class: [array([1., 0., 0., 0., 0., 0., 0., 0., 0., 0., 0.], dtype=float32), array([1., 0., 0., 0., 0., 0., 0., 0., 0., 0., 0.], dtype=float32), array([1., 0., 0., 0., 0., 0., 0., 0., 0., 0., 0.], dtype=float32), array([1., 0., 0., 0., 0., 0., 0., 0., 0., 0., 0.], dtype=float32), array([1., 0., 0., 0., 0., 0., 0., 0., 0., 0., 0.], dtype=float32), array([1., 0., 0., 0., 0., 0., 0., 0., 0., 0., 0.], dtype=float32), array([1., 0., 0., 0., 0., 0., 0., 0., 0., 0., 0.], dtype=float32), 0, 0, 0]\n",
      "Predicted Probabilities: [1.0, 1.0, 1.0, 1.0, 1.0, 1.0, 1.0]\n",
      "-----------------------------------\n",
      "1/1 [==============================] - 0s 13ms/step\n",
      "Actual Class: basketball\n",
      "Predicted Class: [array([1., 0., 0., 0., 0., 0., 0., 0., 0., 0., 0.], dtype=float32), array([1., 0., 0., 0., 0., 0., 0., 0., 0., 0., 0.], dtype=float32), array([1., 0., 0., 0., 0., 0., 0., 0., 0., 0., 0.], dtype=float32), array([1., 0., 0., 0., 0., 0., 0., 0., 0., 0., 0.], dtype=float32), array([1., 0., 0., 0., 0., 0., 0., 0., 0., 0., 0.], dtype=float32), array([1., 0., 0., 0., 0., 0., 0., 0., 0., 0., 0.], dtype=float32), array([1., 0., 0., 0., 0., 0., 0., 0., 0., 0., 0.], dtype=float32), 0, 0, 0, 0]\n",
      "Predicted Probabilities: [1.0, 1.0, 1.0, 1.0, 1.0, 1.0, 1.0]\n",
      "-----------------------------------\n",
      "1/1 [==============================] - 0s 13ms/step\n",
      "Actual Class: basketball\n",
      "Predicted Class: [array([1., 0., 0., 0., 0., 0., 0., 0., 0., 0., 0.], dtype=float32), array([1., 0., 0., 0., 0., 0., 0., 0., 0., 0., 0.], dtype=float32), array([1., 0., 0., 0., 0., 0., 0., 0., 0., 0., 0.], dtype=float32), array([1., 0., 0., 0., 0., 0., 0., 0., 0., 0., 0.], dtype=float32), array([1., 0., 0., 0., 0., 0., 0., 0., 0., 0., 0.], dtype=float32), array([1., 0., 0., 0., 0., 0., 0., 0., 0., 0., 0.], dtype=float32), array([1., 0., 0., 0., 0., 0., 0., 0., 0., 0., 0.], dtype=float32), 0, 0, 0, 0, 0]\n",
      "Predicted Probabilities: [1.0, 1.0, 1.0, 1.0, 1.0, 1.0, 1.0]\n",
      "-----------------------------------\n",
      "1/1 [==============================] - 0s 12ms/step\n",
      "Actual Class: basketball\n",
      "Predicted Class: [array([1., 0., 0., 0., 0., 0., 0., 0., 0., 0., 0.], dtype=float32), array([1., 0., 0., 0., 0., 0., 0., 0., 0., 0., 0.], dtype=float32), array([1., 0., 0., 0., 0., 0., 0., 0., 0., 0., 0.], dtype=float32), array([1., 0., 0., 0., 0., 0., 0., 0., 0., 0., 0.], dtype=float32), array([1., 0., 0., 0., 0., 0., 0., 0., 0., 0., 0.], dtype=float32), array([1., 0., 0., 0., 0., 0., 0., 0., 0., 0., 0.], dtype=float32), array([1., 0., 0., 0., 0., 0., 0., 0., 0., 0., 0.], dtype=float32), 0, 0, 0, 0, 0, 0]\n",
      "Predicted Probabilities: [1.0, 1.0, 1.0, 1.0, 1.0, 1.0, 1.0]\n",
      "-----------------------------------\n",
      "1/1 [==============================] - 0s 13ms/step\n",
      "Actual Class: basketball\n",
      "Predicted Class: [array([1., 0., 0., 0., 0., 0., 0., 0., 0., 0., 0.], dtype=float32), array([1., 0., 0., 0., 0., 0., 0., 0., 0., 0., 0.], dtype=float32), array([1., 0., 0., 0., 0., 0., 0., 0., 0., 0., 0.], dtype=float32), array([1., 0., 0., 0., 0., 0., 0., 0., 0., 0., 0.], dtype=float32), array([1., 0., 0., 0., 0., 0., 0., 0., 0., 0., 0.], dtype=float32), array([1., 0., 0., 0., 0., 0., 0., 0., 0., 0., 0.], dtype=float32), array([1., 0., 0., 0., 0., 0., 0., 0., 0., 0., 0.], dtype=float32), 0, 0, 0, 0, 0, 0, 0]\n",
      "Predicted Probabilities: [1.0, 1.0, 1.0, 1.0, 1.0, 1.0, 1.0]\n",
      "-----------------------------------\n",
      "1/1 [==============================] - 0s 14ms/step\n",
      "Actual Class: basketball\n",
      "Predicted Class: [array([1., 0., 0., 0., 0., 0., 0., 0., 0., 0., 0.], dtype=float32), array([1., 0., 0., 0., 0., 0., 0., 0., 0., 0., 0.], dtype=float32), array([1., 0., 0., 0., 0., 0., 0., 0., 0., 0., 0.], dtype=float32), array([1., 0., 0., 0., 0., 0., 0., 0., 0., 0., 0.], dtype=float32), array([1., 0., 0., 0., 0., 0., 0., 0., 0., 0., 0.], dtype=float32), array([1., 0., 0., 0., 0., 0., 0., 0., 0., 0., 0.], dtype=float32), array([1., 0., 0., 0., 0., 0., 0., 0., 0., 0., 0.], dtype=float32), 0, 0, 0, 0, 0, 0, 0, 0]\n",
      "Predicted Probabilities: [1.0, 1.0, 1.0, 1.0, 1.0, 1.0, 1.0]\n",
      "-----------------------------------\n"
     ]
    }
   ],
   "source": [
    "for file in image_files:\n",
    "    img = tf.keras.preprocessing.image.load_img(image_path + file, target_size=(224, 224))\n",
    "    img_array = tf.keras.preprocessing.image.img_to_array(img)\n",
    "    img_array = tf.expand_dims(img_array, 0)\n",
    "\n",
    "    predictions = model.predict(img_array)\n",
    "    predictions = np.argmax(predictions, axis=1)\n",
    "    predicted_class = predictions[0]\n",
    "    predicted_classes.append(predicted_class)\n",
    "    # predicted_probabilities.append(max(predicted_class))\n",
    "\n",
    "    print('Actual Class:', actual_class)\n",
    "    print('Predicted Class:', predicted_classes)\n",
    "\n",
    "    print('Predicted Probabilities:', predicted_probabilities)\n",
    "\n",
    "    print('-----------------------------------')\n"
   ]
  },
  {
   "cell_type": "code",
   "execution_count": null,
   "metadata": {},
   "outputs": [],
   "source": [
    "# decode predictions\n",
    "# predicted_classes = np.argmax(predictions, axis=1)\n",
    "# print(predicted_classes)"
   ]
  }
 ],
 "metadata": {
  "kernelspec": {
   "display_name": "Python 3",
   "language": "python",
   "name": "python3"
  },
  "language_info": {
   "codemirror_mode": {
    "name": "ipython",
    "version": 3
   },
   "file_extension": ".py",
   "mimetype": "text/x-python",
   "name": "python",
   "nbconvert_exporter": "python",
   "pygments_lexer": "ipython3",
   "version": "3.8.17"
  }
 },
 "nbformat": 4,
 "nbformat_minor": 2
}
