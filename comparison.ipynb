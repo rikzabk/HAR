{
 "cells": [
  {
   "cell_type": "code",
   "execution_count": 3,
   "metadata": {
    "metadata": {}
   },
   "outputs": [],
   "source": [
    "import os\n",
    "from tabulate import tabulate"
   ]
  },
  {
   "cell_type": "code",
   "execution_count": 4,
   "metadata": {},
   "outputs": [
    {
     "name": "stdout",
     "output_type": "stream",
     "text": [
      "1\n",
      "Model/Scenario1/\n",
      "2\n",
      "Model/Scenario2/\n",
      "3\n",
      "Model/Scenario3/\n",
      "4\n",
      "Model/Scenario4/\n"
     ]
    }
   ],
   "source": [
    "# path\n",
    "file_path = 'Model/Scenario1/'\n",
    "\n",
    "# loop file path\n",
    "for i in range(4):\n",
    "    print(i+1)\n",
    "    file_path = 'Model/Scenario' + str(i+1) + '/'\n",
    "    print(file_path)"
   ]
  },
  {
   "cell_type": "markdown",
   "metadata": {},
   "source": [
    "tabel kategori tindakan dengan rata-rata durasi video tindakan"
   ]
  },
  {
   "cell_type": "markdown",
   "metadata": {},
   "source": [
    "gambar perbandingan cuplikan video acak dari masing-masing kategori tindakan"
   ]
  },
  {
   "cell_type": "markdown",
   "metadata": {},
   "source": [
    "extraction time"
   ]
  },
  {
   "cell_type": "code",
   "execution_count": 6,
   "metadata": {},
   "outputs": [],
   "source": [
    "# Time Conversion Function\n",
    "def convert(seconds):\n",
    "    seconds = seconds % (24 * 3600)\n",
    "    hour = seconds // 3600\n",
    "    seconds %= 3600\n",
    "    minutes = seconds // 60\n",
    "    seconds %= 60\n",
    " \n",
    "    return \"%d:%02d:%02d\" % (hour, minutes, seconds)"
   ]
  },
  {
   "cell_type": "code",
   "execution_count": 15,
   "metadata": {},
   "outputs": [
    {
     "name": "stdout",
     "output_type": "stream",
     "text": [
      "1\n",
      "Model/Scenario1/\n",
      "2\n",
      "Model/Scenario2/\n",
      "3\n",
      "Model/Scenario3/\n",
      "4\n",
      "Model/Scenario4/\n",
      "12.019589185714722\n"
     ]
    }
   ],
   "source": [
    "\n",
    "import time\n",
    "# start time\n",
    "start = time.time()\n",
    "\n",
    "# loop with 3s delay\n",
    "for i in range(4):\n",
    "    print(i+1)\n",
    "    file_path = 'Model/Scenario' + str(i+1) + '/'\n",
    "    print(file_path)\n",
    "    # loop with 3s delay\n",
    "    time.sleep(3)\n",
    "\n",
    "# end time\n",
    "end = time.time()\n",
    "end_time = end - start\n",
    "print(end_time)"
   ]
  },
  {
   "cell_type": "code",
   "execution_count": 31,
   "metadata": {},
   "outputs": [
    {
     "name": "stdout",
     "output_type": "stream",
     "text": [
      "10267.57\n",
      "2:51:07\n"
     ]
    }
   ],
   "source": [
    "with open('Model/Scenario1/extraction_execution_time.txt', 'r') as file:\n",
    "    data = file.read().replace('\\n', '')\n",
    "    print(data)\n",
    "    print(convert(float(data)))"
   ]
  },
  {
   "cell_type": "code",
   "execution_count": 56,
   "metadata": {
    "metadata": {}
   },
   "outputs": [
    {
     "name": "stdout",
     "output_type": "stream",
     "text": [
      "+------------+----------+---------+\n",
      "| Execution  | Seconds  |  Hours  |\n",
      "+------------+----------+---------+\n",
      "| Scenario 1 | 10267.57 | 2:51:07 |\n",
      "| Scenario 2 |  149.11  | 0:02:29 |\n",
      "| Scenario 3 | 10267.57 | 2:51:07 |\n",
      "| Scenario 4 |  149.11  | 0:02:29 |\n",
      "+------------+----------+---------+\n"
     ]
    }
   ],
   "source": [
    "execution_time = []\n",
    "\n",
    "for i in range(4):\n",
    "    with open(os.path.join('Model/Scenario' + str(i+1) + '/', 'extraction_execution_time.txt'), 'r') as f:\n",
    "        time=f.read()\n",
    "        execution_time.append([\n",
    "            f\"Scenario {str(i+1)}\", \n",
    "            time, \n",
    "            convert(float(time))\n",
    "            ])\n",
    "\n",
    "print(tabulate(execution_time, headers=['Execution', 'Seconds', 'Hours'], tablefmt='pretty'))"
   ]
  },
  {
   "cell_type": "code",
   "execution_count": 68,
   "metadata": {},
   "outputs": [
    {
     "name": "stdout",
     "output_type": "stream",
     "text": [
      "<table>\n",
      "<thead>\n",
      "<tr><th>Execution  </th><th style=\"text-align: right;\">  Seconds</th><th>Hours  </th></tr>\n",
      "</thead>\n",
      "<tbody>\n",
      "<tr><td>Scenario 1 </td><td style=\"text-align: right;\"> 10267.6 </td><td>2:51:07</td></tr>\n",
      "<tr><td>Scenario 2 </td><td style=\"text-align: right;\">   149.11</td><td>0:02:29</td></tr>\n",
      "<tr><td>Scenario 3 </td><td style=\"text-align: right;\"> 10267.6 </td><td>2:51:07</td></tr>\n",
      "<tr><td>Scenario 4 </td><td style=\"text-align: right;\">   149.11</td><td>0:02:29</td></tr>\n",
      "</tbody>\n",
      "</table>\n"
     ]
    }
   ],
   "source": [
    "# highlight first row in table tabulate\n",
    "print(tabulate(execution_time, headers=['Execution', 'Seconds', 'Hours'], tablefmt='html'))"
   ]
  },
  {
   "cell_type": "markdown",
   "metadata": {},
   "source": [
    "<table>\n",
    "<thead>\n",
    "<tr><th>Execution  </th><th style=\"text-align: right;\">  Seconds</th><th>Hours  </th></tr>\n",
    "</thead>\n",
    "<tbody>\n",
    "<tr bgcolor=\"green\"><td>Scenario 1 </td><td style=\"text-align: right;\"> 10267.6 </td><td>2:51:07</td></tr>\n",
    "<tr><td>Scenario 2 </td><td style=\"text-align: right;\">   149.11</td><td>0:02:29</td></tr>\n",
    "<tr><td>Scenario 3 </td><td style=\"text-align: right;\"> 10267.6 </td><td>2:51:07</td></tr>\n",
    "<tr><td>Scenario 4 </td><td style=\"text-align: right;\">   149.11</td><td>0:02:29</td></tr>\n",
    "</tbody>\n",
    "</table>\n"
   ]
  },
  {
   "cell_type": "markdown",
   "metadata": {},
   "source": [
    "total data extracted"
   ]
  },
  {
   "cell_type": "markdown",
   "metadata": {},
   "source": [
    "grid search results"
   ]
  },
  {
   "cell_type": "markdown",
   "metadata": {},
   "source": [
    "plot model"
   ]
  },
  {
   "cell_type": "markdown",
   "metadata": {},
   "source": [
    "plot model loss and accuracy"
   ]
  },
  {
   "cell_type": "markdown",
   "metadata": {},
   "source": [
    "evaluate model"
   ]
  },
  {
   "cell_type": "markdown",
   "metadata": {},
   "source": [
    "evaluation predicted matrix"
   ]
  },
  {
   "cell_type": "markdown",
   "metadata": {},
   "source": [
    "confusion matrix"
   ]
  }
 ],
 "metadata": {
  "kernelspec": {
   "display_name": "Python 3",
   "language": "python",
   "name": "python3"
  },
  "language_info": {
   "codemirror_mode": {
    "name": "ipython",
    "version": 3
   },
   "file_extension": ".py",
   "mimetype": "text/x-python",
   "name": "python",
   "nbconvert_exporter": "python",
   "pygments_lexer": "ipython3",
   "version": "3.8.17"
  }
 },
 "nbformat": 4,
 "nbformat_minor": 2
}
