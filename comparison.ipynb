{
 "cells": [
  {
   "cell_type": "code",
   "execution_count": 3,
   "metadata": {},
   "outputs": [],
   "source": [
    "import os\n",
    "from tabulate import tabulate"
   ]
  },
  {
   "cell_type": "code",
   "execution_count": 17,
   "metadata": {},
   "outputs": [
    {
     "name": "stdout",
     "output_type": "stream",
     "text": [
      "1\n",
      "Model/Scenario1/\n",
      "2\n",
      "Model/Scenario2/\n",
      "3\n",
      "Model/Scenario3/\n",
      "4\n",
      "Model/Scenario4/\n"
     ]
    }
   ],
   "source": [
    "# path\n",
    "file_path = 'Model/Scenario1/'\n",
    "\n",
    "# loop file path\n",
    "for i in range(4):\n",
    "    print(i+1)\n",
    "    file_path = 'Model/Scenario' + str(i+1) + '/'\n",
    "    print(file_path)"
   ]
  },
  {
   "cell_type": "markdown",
   "metadata": {},
   "source": [
    "time extraction"
   ]
  },
  {
   "cell_type": "code",
   "execution_count": 36,
   "metadata": {},
   "outputs": [
    {
     "name": "stdout",
     "output_type": "stream",
     "text": [
      "+------------+----------+\n",
      "| Execution  | Seconds  |\n",
      "+------------+----------+\n",
      "| Scenario 1 | 10267.57 |\n",
      "| Scenario 2 |  149.11  |\n",
      "| Scenario 3 | 10267.57 |\n",
      "| Scenario 4 |  149.11  |\n",
      "+------------+----------+\n"
     ]
    }
   ],
   "source": [
    "execution_time = []\n",
    "\n",
    "for i in range(4):\n",
    "    with open(os.path.join('Model/Scenario' + str(i+1) + '/', 'extraction_execution_time.txt'), 'r') as f:\n",
    "        execution_time.append([f\"Scenario {str(i+1)}\", f.read()])\n",
    "\n",
    "print(tabulate(execution_time, headers=['Execution', 'Seconds'], tablefmt='pretty'))"
   ]
  },
  {
   "cell_type": "markdown",
   "metadata": {},
   "source": [
    "total data extracted"
   ]
  },
  {
   "cell_type": "markdown",
   "metadata": {},
   "source": [
    "grid search results"
   ]
  },
  {
   "cell_type": "markdown",
   "metadata": {},
   "source": [
    "plot model"
   ]
  },
  {
   "cell_type": "markdown",
   "metadata": {},
   "source": [
    "plot model loss and accuracy"
   ]
  },
  {
   "cell_type": "markdown",
   "metadata": {},
   "source": [
    "evaluate model"
   ]
  },
  {
   "cell_type": "markdown",
   "metadata": {},
   "source": [
    "evaluation predicted matrix"
   ]
  },
  {
   "cell_type": "markdown",
   "metadata": {},
   "source": [
    "confusion matrix"
   ]
  },
  {
   "cell_type": "markdown",
   "metadata": {},
   "source": []
  }
 ],
 "metadata": {
  "kernelspec": {
   "display_name": "Python 3",
   "language": "python",
   "name": "python3"
  },
  "language_info": {
   "codemirror_mode": {
    "name": "ipython",
    "version": 3
   },
   "file_extension": ".py",
   "mimetype": "text/x-python",
   "name": "python",
   "nbconvert_exporter": "python",
   "pygments_lexer": "ipython3",
   "version": "3.8.17"
  }
 },
 "nbformat": 4,
 "nbformat_minor": 2
}
